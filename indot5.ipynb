{
 "cells": [
  {
   "cell_type": "code",
   "execution_count": 1,
   "metadata": {},
   "outputs": [
    {
     "name": "stderr",
     "output_type": "stream",
     "text": [
      "2024-12-17 12:14:47.069351: E external/local_xla/xla/stream_executor/cuda/cuda_fft.cc:477] Unable to register cuFFT factory: Attempting to register factory for plugin cuFFT when one has already been registered\n",
      "WARNING: All log messages before absl::InitializeLog() is called are written to STDERR\n",
      "E0000 00:00:1734412487.082568   68745 cuda_dnn.cc:8310] Unable to register cuDNN factory: Attempting to register factory for plugin cuDNN when one has already been registered\n",
      "E0000 00:00:1734412487.086313   68745 cuda_blas.cc:1418] Unable to register cuBLAS factory: Attempting to register factory for plugin cuBLAS when one has already been registered\n",
      "2024-12-17 12:14:47.100178: I tensorflow/core/platform/cpu_feature_guard.cc:210] This TensorFlow binary is optimized to use available CPU instructions in performance-critical operations.\n",
      "To enable the following instructions: AVX2 FMA, in other operations, rebuild TensorFlow with the appropriate compiler flags.\n"
     ]
    },
    {
     "name": "stdout",
     "output_type": "stream",
     "text": [
      "TensorFlow version: 2.18.0\n",
      "Is GPU available? [PhysicalDevice(name='/physical_device:GPU:0', device_type='GPU')]\n",
      "[name: \"/device:CPU:0\"\n",
      "device_type: \"CPU\"\n",
      "memory_limit: 268435456\n",
      "locality {\n",
      "}\n",
      "incarnation: 70599201423984720\n",
      "xla_global_id: -1\n",
      ", name: \"/device:GPU:0\"\n",
      "device_type: \"GPU\"\n",
      "memory_limit: 3710910464\n",
      "locality {\n",
      "  bus_id: 1\n",
      "  links {\n",
      "  }\n",
      "}\n",
      "incarnation: 322341774309133867\n",
      "physical_device_desc: \"device: 0, name: NVIDIA GeForce RTX 4050 Laptop GPU, pci bus id: 0000:01:00.0, compute capability: 8.9\"\n",
      "xla_global_id: 416903419\n",
      "]\n"
     ]
    },
    {
     "name": "stderr",
     "output_type": "stream",
     "text": [
      "I0000 00:00:1734412489.096815   68745 gpu_device.cc:2022] Created device /device:GPU:0 with 3539 MB memory:  -> device: 0, name: NVIDIA GeForce RTX 4050 Laptop GPU, pci bus id: 0000:01:00.0, compute capability: 8.9\n"
     ]
    }
   ],
   "source": [
    "import tensorflow as tf\n",
    "\n",
    "physical_devices = tf.config.list_physical_devices('GPU')\n",
    "tf.config.set_logical_device_configuration(physical_devices[0], \n",
    "   [tf.config.LogicalDeviceConfiguration(memory_limit=5120)])\n",
    "\n",
    "print(\"TensorFlow version:\", tf.__version__)\n",
    "print(\"Is GPU available?\", tf.config.list_physical_devices('GPU'))\n",
    "\n",
    "from tensorflow.python.client import device_lib\n",
    "print(device_lib.list_local_devices())\n",
    "\n",
    "import torch\n",
    "torch.cuda.empty_cache()\n"
   ]
  },
  {
   "cell_type": "code",
   "execution_count": 2,
   "metadata": {},
   "outputs": [
    {
     "name": "stderr",
     "output_type": "stream",
     "text": [
      "/home/rakhargo/miniconda3/envs/coba/lib/python3.9/site-packages/tqdm/auto.py:21: TqdmWarning: IProgress not found. Please update jupyter and ipywidgets. See https://ipywidgets.readthedocs.io/en/stable/user_install.html\n",
      "  from .autonotebook import tqdm as notebook_tqdm\n"
     ]
    },
    {
     "name": "stdout",
     "output_type": "stream",
     "text": [
      "DatasetDict({\n",
      "    train: Dataset({\n",
      "        features: ['category', 'gold_labels', 'id', 'paragraphs', 'source', 'source_url', 'summary'],\n",
      "        num_rows: 3752\n",
      "    })\n",
      "})\n"
     ]
    }
   ],
   "source": [
    "from datasets import load_dataset\n",
    "\n",
    "data_files = {\n",
    "    \"indosum/test.04.jsonl\",\n",
    "}\n",
    "\n",
    "# Muat dataset\n",
    "dataset = load_dataset(\"json\", data_files=data_files)\n",
    "print(dataset)"
   ]
  },
  {
   "cell_type": "code",
   "execution_count": 3,
   "metadata": {},
   "outputs": [
    {
     "name": "stdout",
     "output_type": "stream",
     "text": [
      "{'category': 'tajuk utama', 'gold_labels': [[True], [False, False, False], [False], [True], [True], [False], [False], [False], [False, False], [False], [False, False, False], [False, False], [False]], 'id': '1504151262-wiranto-yakin-uang-bos-first-travel-bisa-ditemukan', 'paragraphs': [[['Jakarta', ',', 'CNN', 'Indonesia', '-', '-', 'Menteri', 'Koordinator', 'bidang', 'Politik', ',', 'Hukum', ',', 'dan', 'Keamanan', '(', 'Menko', 'Polhukam', ')', 'Wiranto', 'yakin', 'uang', 'jemaah', 'yang', 'dikumpulkan', 'bos', 'First', 'Travel', ',', 'Andika', 'Surachman', 'dan', 'Anniesa', 'Hasibuan', ',', 'bisa', 'ditemukan', '.']], [['\"', 'Uang', 'itu', 'kan', 'cuma', 'pindah', 'tempat', ',', 'enggak', 'ada', 'uang', 'menguap', ',', 'itu', 'enggak', 'ada', '.'], ['Enggak', 'ada', 'tiba-tiba', 'uang', 'hilang', 'menguap', ',', 'mesti', 'pindah', 'tempat', '.'], ['Kita', 'cari', 'itu', ',', '\"', 'ujar', 'Wiranto', 'di', 'Hotel', 'Arya', 'Duta', ',', 'Jakarta', ',', 'Rabu', '\\xa0', '(', '30', '/', '8', ')', '.']], [['Pernyataan', 'Wiranto', 'itu', 'merujuk', 'tipisnya', 'jumlah', 'dana', 'yang', 'berada', 'di', 'rekening', 'bos', 'First', 'Travel', ',', 'sementara', 'jemaah', 'yang', 'dana', 'keberangkatan', 'umrahnya', 'ditilap', 'mencapai', 'sekitar', 'Rp', '848', 'miliar', '.']], [['Wiranto', 'mengatakan', ',', 'uang', 'yang', 'diambil', 'bos', 'First', 'Travel', 'tersebut', 'penting', 'untuk', 'ditemukan', 'karena', 'harus', 'dikembalikan', 'kepada', 'para', 'jemaah', 'yang', 'telah', 'ditipu', '.']], [['Mantan', 'Panglima', 'ABRI', 'itu', 'juga', 'menyampaikan', ',', 'First', 'Travel', 'tetap', 'menjadi', 'pihak', 'yang', 'harus', 'bertanggung', 'jawab', 'untuk', 'mengembalikan', 'uang', 'para', 'jemaah', '.']], [['\"', 'Yang', 'gantinya', 'siapa', 'yang', 'merugikan', 'rakyat', ',', 'lagi', 'dilihat', 'asetnya', 'gimana', ',', '\"', 'ujarnya', '.']], [['Kemarin', ',', 'kata', 'Wiranto', 'dirinya', 'telah', 'melakukan', 'koordinasi', 'dengan', 'beberapa', 'pihak', 'seperti', 'Kementerian', 'Agama', ',', 'Kementerian', 'Hukum', 'dan', 'HAM', ',', 'Pusat', 'Pelaporan', 'Analisis', 'Transaksi', 'Keuangan', '(', 'PPATK', ')', ',', 'Otoritas', 'Jasa', 'Keuangan', '(', 'OJK', ')', 'dan', 'Bareskrim', 'Polri', '.']], [['Pertemuan', 'itu', ',', 'ia', 'melanjutkan', ',', 'dalam', 'rangka', 'membuat', 'sebuah', 'tim', 'kecil', 'yang', 'akan', 'mengkaji', 'tentang', 'kasus', 'First', 'Travel', '\\xa0', 'tersebut', ',', 'mulai', 'dari', 'penelusuran', 'aset', 'hingga', 'tindakan', 'yang', 'harus', 'ditempuh', 'kepolisian', '.']], [['\"', 'Asetnya', 'berapa', 'yang', 'masih', 'ada', ',', 'lalu', 'berapa', 'nasabahnya', 'yang', 'ada', ',', 'langkah-langkah', 'apa', 'yang', 'sudah', 'dilakukan', 'dan', 'belum', 'dilakukan', '.'], ['Enggak', 'sembarangan', 'jadi', 'harus', 'lengkap', 'dulu', 'baru', 'ada', 'tindakan', 'dari', 'kepolisian', ',', '\"', 'tutur', 'Wiranto', '.']], [['Sebelumnya', 'dalam', 'kesempatan', 'terpisah', ',', 'Pusat', 'Pelaporan', 'Analisis', 'Transaksi', 'Keuangan', '(', 'PPATK', ')', 'menyatakan', ',', 'bos', 'First', 'Travel', ',', 'Andika', 'Surachman', 'dan', 'Anniesa', 'Hasibuan', 'masih', 'memiliki', 'kekayaan', 'miliaran', 'rupiah', '.']], [['Kepala', 'PPATK', 'Kiagus', 'Ahmad', 'Badaruddin', 'mengatakan', ',', 'sisa', 'kekayaan', 'Andika', 'dan', 'Anniesa', 'senilai', 'Rp', '7', 'miliar', '.'], ['Hal', 'itu', 'berdasarkan', '50', 'rekening', 'yang', 'ditemukan', 'PPATK', '.'], ['Tak', 'semua', 'rekening', 'tersebut', 'atas', 'nama', 'Andika', 'dan', 'Anniesa', '.']], [['\"', 'Ada', 'sisa', 'dana', 'dari', 'rekening', '.'], ['Kami', 'sudah', 'menutup', '50', 'rekening', 'yang', 'di', 'dalamnya', 'terdapat', 'dana', 'Rp', '7', 'miliar', ',', '\"', 'kata', 'Kiagus', 'di', 'Kantor', 'PPATK', ',', 'Selasa', '(', '29', '/', '8', ')', '.']], [['Sisa', 'kekayaan', 'miliaran', 'rupiah', 'milik', 'First', 'Travel', ',', 'menurut', 'Kiagus', ',', 'berupa', 'mata', 'uang', 'rupiah', 'dan', 'asuransi', '.']]], 'source': 'cnn indonesia', 'source_url': 'https://www.cnnindonesia.com/nasional/20170830142535-12-238358/wiranto-yakin-uang-bos-first-travel-bisa-ditemukan/', 'summary': [['Menteri', 'Koordinator', 'bidang', 'Politik', ',', 'Hukum', ',', 'dan', 'Keamanan', 'Wiranto', 'yakin', 'uang', 'jemaah', 'yang', 'dikumpulkan', 'bos', '\\xa0', 'First', 'Travel', ',', 'bisa', 'ditemukan', '.'], ['Wiranto', 'mengatakan', ',', 'uang', 'yang', 'diambil', 'bos', 'First', 'Travel', 'tersebut', 'penting', 'untuk', 'ditemukan', 'karena', 'harus', 'dikembalikan', 'kepada', 'para', 'jemaah', 'yang', 'telah', 'ditipu', '.'], ['Mantan', 'Panglima', 'ABRI', 'itu', 'juga', 'menyampaikan', ',', 'First', 'Travel', 'tetap', 'menjadi', 'pihak', 'yang', 'harus', 'bertanggung', 'jawab', 'untuk', 'mengembalikan', 'uang', 'para', 'jemaah', '.']]}\n"
     ]
    }
   ],
   "source": [
    "train_data = dataset['train']\n",
    "print(train_data[0])"
   ]
  },
  {
   "cell_type": "code",
   "execution_count": 4,
   "metadata": {},
   "outputs": [],
   "source": [
    "def join_data(dataset):\n",
    "    documents = []\n",
    "    summaries = []\n",
    "    for item in dataset:\n",
    "        document = [\" \".join(sent) for para in item[\"paragraphs\"] for sent in para]\n",
    "        summary = \" \".join([\" \".join(sent) for sent in item[\"summary\"]])\n",
    "        \n",
    "        documents.append(document)\n",
    "        summaries.append(summary)\n",
    "    \n",
    "    return documents, summaries\n",
    "\n",
    "# Memproses data\n",
    "train_docs, train_summaries = join_data(train_data)"
   ]
  },
  {
   "cell_type": "code",
   "execution_count": 5,
   "metadata": {},
   "outputs": [
    {
     "name": "stdout",
     "output_type": "stream",
     "text": [
      "['Jakarta , CNN Indonesia - - Menteri Koordinator bidang Politik , Hukum , dan Keamanan ( Menko Polhukam ) Wiranto yakin uang jemaah yang dikumpulkan bos First Travel , Andika Surachman dan Anniesa Hasibuan , bisa ditemukan .', '\" Uang itu kan cuma pindah tempat , enggak ada uang menguap , itu enggak ada .', 'Enggak ada tiba-tiba uang hilang menguap , mesti pindah tempat .', 'Kita cari itu , \" ujar Wiranto di Hotel Arya Duta , Jakarta , Rabu \\xa0 ( 30 / 8 ) .', 'Pernyataan Wiranto itu merujuk tipisnya jumlah dana yang berada di rekening bos First Travel , sementara jemaah yang dana keberangkatan umrahnya ditilap mencapai sekitar Rp 848 miliar .', 'Wiranto mengatakan , uang yang diambil bos First Travel tersebut penting untuk ditemukan karena harus dikembalikan kepada para jemaah yang telah ditipu .', 'Mantan Panglima ABRI itu juga menyampaikan , First Travel tetap menjadi pihak yang harus bertanggung jawab untuk mengembalikan uang para jemaah .', '\" Yang gantinya siapa yang merugikan rakyat , lagi dilihat asetnya gimana , \" ujarnya .', 'Kemarin , kata Wiranto dirinya telah melakukan koordinasi dengan beberapa pihak seperti Kementerian Agama , Kementerian Hukum dan HAM , Pusat Pelaporan Analisis Transaksi Keuangan ( PPATK ) , Otoritas Jasa Keuangan ( OJK ) dan Bareskrim Polri .', 'Pertemuan itu , ia melanjutkan , dalam rangka membuat sebuah tim kecil yang akan mengkaji tentang kasus First Travel \\xa0 tersebut , mulai dari penelusuran aset hingga tindakan yang harus ditempuh kepolisian .', '\" Asetnya berapa yang masih ada , lalu berapa nasabahnya yang ada , langkah-langkah apa yang sudah dilakukan dan belum dilakukan .', 'Enggak sembarangan jadi harus lengkap dulu baru ada tindakan dari kepolisian , \" tutur Wiranto .', 'Sebelumnya dalam kesempatan terpisah , Pusat Pelaporan Analisis Transaksi Keuangan ( PPATK ) menyatakan , bos First Travel , Andika Surachman dan Anniesa Hasibuan masih memiliki kekayaan miliaran rupiah .', 'Kepala PPATK Kiagus Ahmad Badaruddin mengatakan , sisa kekayaan Andika dan Anniesa senilai Rp 7 miliar .', 'Hal itu berdasarkan 50 rekening yang ditemukan PPATK .', 'Tak semua rekening tersebut atas nama Andika dan Anniesa .', '\" Ada sisa dana dari rekening .', 'Kami sudah menutup 50 rekening yang di dalamnya terdapat dana Rp 7 miliar , \" kata Kiagus di Kantor PPATK , Selasa ( 29 / 8 ) .', 'Sisa kekayaan miliaran rupiah milik First Travel , menurut Kiagus , berupa mata uang rupiah dan asuransi .']\n",
      "Menteri Koordinator bidang Politik , Hukum , dan Keamanan Wiranto yakin uang jemaah yang dikumpulkan bos   First Travel , bisa ditemukan . Wiranto mengatakan , uang yang diambil bos First Travel tersebut penting untuk ditemukan karena harus dikembalikan kepada para jemaah yang telah ditipu . Mantan Panglima ABRI itu juga menyampaikan , First Travel tetap menjadi pihak yang harus bertanggung jawab untuk mengembalikan uang para jemaah .\n"
     ]
    },
    {
     "data": {
      "text/plain": [
       "3752"
      ]
     },
     "execution_count": 5,
     "metadata": {},
     "output_type": "execute_result"
    }
   ],
   "source": [
    "print(train_docs[0])\n",
    "print(train_summaries[0])\n",
    "len(train_docs)"
   ]
  },
  {
   "cell_type": "code",
   "execution_count": 6,
   "metadata": {},
   "outputs": [
    {
     "name": "stdout",
     "output_type": "stream",
     "text": [
      "Train: 2851\n",
      "Validation: 713\n",
      "Test: 188\n"
     ]
    }
   ],
   "source": [
    "from sklearn.model_selection import train_test_split\n",
    "from datasets import Dataset\n",
    "\n",
    "# test\n",
    "train_docs, test_docs, train_summaries, test_summaries = train_test_split(\n",
    "    train_docs, train_summaries, test_size=0.05, random_state=42\n",
    ")\n",
    "\n",
    "# val\n",
    "train_docs, val_docs, train_summaries, val_summaries = train_test_split(\n",
    "    train_docs, train_summaries, test_size=0.2, random_state=42\n",
    ")\n",
    "\n",
    "print(f\"Train: {len(train_docs)}\")\n",
    "print(f\"Validation: {len(val_docs)}\")\n",
    "print(f\"Test: {len(test_docs)}\")\n",
    "\n"
   ]
  },
  {
   "cell_type": "code",
   "execution_count": 7,
   "metadata": {},
   "outputs": [
    {
     "name": "stdout",
     "output_type": "stream",
     "text": [
      "DatasetDict({\n",
      "    train: Dataset({\n",
      "        features: ['document', 'summary'],\n",
      "        num_rows: 2851\n",
      "    })\n",
      "    validation: Dataset({\n",
      "        features: ['document', 'summary'],\n",
      "        num_rows: 713\n",
      "    })\n",
      "    test: Dataset({\n",
      "        features: ['document', 'summary'],\n",
      "        num_rows: 188\n",
      "    })\n",
      "})\n"
     ]
    }
   ],
   "source": [
    "from datasets import DatasetDict\n",
    "\n",
    "train_dataset = Dataset.from_dict({\"document\": train_docs, \"summary\": train_summaries})\n",
    "val_dataset = Dataset.from_dict({\"document\": val_docs, \"summary\": val_summaries})\n",
    "test_dataset = Dataset.from_dict({\"document\": test_docs, \"summary\": test_summaries})\n",
    "\n",
    "dataset = DatasetDict({\n",
    "    \"train\": train_dataset,\n",
    "    \"validation\": val_dataset,\n",
    "    \"test\": test_dataset\n",
    "})\n",
    "\n",
    "print(dataset)"
   ]
  },
  {
   "cell_type": "code",
   "execution_count": 8,
   "metadata": {},
   "outputs": [
    {
     "name": "stderr",
     "output_type": "stream",
     "text": [
      "You are using the default legacy behaviour of the <class 'transformers.models.t5.tokenization_t5.T5Tokenizer'>. This is expected, and simply means that the `legacy` (previous) behavior will be used so nothing changes for you. If you want to use the new behaviour, set `legacy=False`. This should only be set if you understand what it means, and thoroughly read the reason why this was added as explained in https://github.com/huggingface/transformers/pull/24565\n",
      "Map: 100%|██████████| 2851/2851 [00:04<00:00, 700.14 examples/s]\n",
      "Map: 100%|██████████| 713/713 [00:00<00:00, 736.53 examples/s]\n",
      "Map: 100%|██████████| 188/188 [00:00<00:00, 720.54 examples/s]\n"
     ]
    }
   ],
   "source": [
    "from transformers import AutoTokenizer, AutoModel, T5Tokenizer, T5ForConditionalGeneration, Trainer, TrainingArguments\n",
    "from datasets import Dataset\n",
    "\n",
    "model_name = \"Wikidepia/IndoT5-small\"\n",
    "\n",
    "tokenizer = T5Tokenizer.from_pretrained(model_name)\n",
    "\n",
    "def preprocess_function(examples):\n",
    "    inputs = [\"summarize: \" + \" \".join(doc) for doc in examples[\"document\"]]\n",
    "    targets = examples[\"summary\"]\n",
    "    model_inputs = tokenizer(inputs, max_length=512, truncation=True, padding=\"max_length\")\n",
    "\n",
    "    # Tokenisasi target (summary)\n",
    "    labels = tokenizer(targets, max_length=128, truncation=True, padding=\"max_length\")\n",
    "    model_inputs[\"labels\"] = labels[\"input_ids\"]\n",
    "    return model_inputs\n",
    "\n",
    "# Tokenisasi dataset\n",
    "tokenized_datasets = dataset.map(preprocess_function, batched=True)"
   ]
  },
  {
   "cell_type": "code",
   "execution_count": 9,
   "metadata": {},
   "outputs": [
    {
     "name": "stdout",
     "output_type": "stream",
     "text": [
      "{'document': ['Jakarta , CNN Indonesia - - MotoGP telah merilis draf kalender musim 2017 , Rabu ( 21 / 9 ) .', 'Tidak ada perubahan jadwal balapan setelah Indonesia dan Thailand gagal menjadi tuan rumah .', 'Dorna Sports selaku pengelola MotoGP , sempat melakukan negosiasi dengan pemerintah Indonesia dan Sirkuit Buriram Thailand untuk menggelar MotoGP mulai 2017 .', 'Namun , Indonesia dan Thailand gagal memenuhi syarat hingga batas waktu yang telah ditentukan .', 'Indonesia gagal menjadi salah satu tuan rumah musim depan karena tidak adanya sirkuit yang memenuhi kriteria .', 'Sedangkan Thailand dikabarkan terbentur kontrak bersama Superbike yang akan berakhir 2017 .', 'Kondisi tersebut membuat MotoGP 2017 akan kembali berlangsung sepanjang 18 seri , sama seperti musim ini .', 'Dikutip dari Autosport , perubahan signifikan hanya terjadi di jeda waktu antar - seri balapan .', 'MotoGP memberi jeda waktu dua pekan di antara balapan GP Argentina dan GP Austin musim depan .', 'Keputusan itu diambil setelah sebagian besar tim protes tidak memiliki cukup waktu untuk mengirim barang dan perlengkapan dari Argentina ke Amerika Serikat hanya dalam waktu satu pekan .', 'Imbasnya , jeda antara GP Italia dan GP Katalonia diperpendek dari dua pekan menjadi satu pekan .', 'GP Inggris di Sirkuit Silverstone dan GP Malaysia di Sirkuit Sepang masih harus menyelesaikan masalah kontrak jika ingin menggelar seri musim depan .', 'Berikut ini draf kalender MotoGP 2017 :', '26 Maret : GP Qatar , Losail', '9 April : GP Argentina , Termas de Rio Hondo', '23 April 23 : GP Americas , Austin', '7 Mei : GP Spanyol , Jerez', '21 Mei : GP Perancis , Le Mans', '4 Juni : GP Italia , Mugello', '11 Juni : GP Katalonia , Barcelona', '25 Juni : GP Belanda , Assen', '16 July : GP Jerman , Sachsenring', '6 Agustus : GP Republik Ceko , Brno', '13 Agustus : GP Austria , Red Bull Ring', '27 Agustus : GP Inggris , Silverstone', '10 September : GP San Marino , Misano', '24 September : GP Aragon , Aragon'], 'summary': 'MotoGP telah merilis draf kalender musim 2017 , Rabu ( 21 / 9 ) . Tak ada perubahan jadwal balapan setelah Indonesia dan Thailand gagal menjadi tuan rumah . Dorna Sports selaku pengelola MotoGP sempat melakukan negoisasi dengan pemerintah Indonesia dan Sirkuit Buriram Thailand untuk menggelar MotoGP mulai 2017 . Kondisi tersebut membuat MotoGP 2017 akan kembali berlangsung sepanjang 18 hari , seperti musim ini . Perubahan signifikan hanya terjadi di jeda waktu antar - seri balapan .', 'input_ids': [11, 3870, 9317, 1933, 39, 328, 11, 8, 18776, 55, 255, 255, 24951, 46, 1133, 1099, 9736, 4544, 243, 996, 11, 8, 9002, 11, 4, 770, 11, 75, 405, 11, 5, 11, 3, 1063, 35, 813, 4515, 2725, 83, 55, 9, 1983, 1227, 31, 2497, 209, 11, 3, 4403, 475, 15848, 5557, 10698, 24951, 11, 8, 914, 216, 7204, 19, 332, 55, 9, 17998, 3067, 43, 1552, 1983, 21, 5518, 24951, 152, 996, 11, 3, 202, 11, 8, 55, 9, 1983, 1227, 1691, 3253, 108, 1606, 181, 10, 46, 2599, 11, 3, 55, 1227, 31, 92, 50, 2497, 209, 243, 717, 56, 34, 794, 6503, 10, 1691, 7229, 11, 3, 2393, 1983, 8834, 443, 2716, 1495, 1747, 155, 2467, 990, 359, 10, 59, 997, 996, 11, 3, 5876, 38, 160, 24951, 996, 59, 130, 825, 675, 623, 922, 11, 8, 136, 60, 243, 15, 11, 3, 64, 25148, 13, 7092, 15631, 11, 8, 813, 2451, 114, 205, 12, 19551, 181, 1274, 255, 922, 2725, 11, 3, 24951, 934, 19551, 181, 91, 3697, 12, 81, 2725, 6794, 3129, 9, 6794, 14157, 243, 717, 11, 3, 2275, 37, 1111, 83, 309, 63, 271, 5176, 34, 48, 259, 181, 21, 1846, 1271, 9, 7583, 13, 3129, 26, 101, 425, 114, 22, 181, 50, 3697, 11, 3, 3630, 3258, 23, 11, 8, 19551, 81, 6794, 544, 9, 6794, 1749, 18758, 3061, 14746, 13, 91, 3697, 31, 50, 3697, 11, 3, 6794, 177, 12, 17998, 15994, 7793, 9, 6794, 885, 12, 17998, 600, 2541, 157, 236, 1394, 740, 1747, 540, 723, 5518, 922, 243, 717, 11, 3, 1139, 15, 1099, 9736, 4544, 24951, 996, 11, 39, 983, 392, 11, 39, 6794, 9027, 11, 8, 2468, 7, 677, 405, 409, 11, 39, 6794, 3129, 11, 8, 1056, 1826, 280, 6054, 287, 15403, 837, 409, 837, 11, 39, 6794, 5839, 32, 11, 8, 14157, 279, 357, 11, 39, 6794, 1387, 11, 8, 8594, 2555, 770, 357, 11, 39, 6794, 21127, 11, 8, 756, 11171, 173, 419, 11, 39, 6794, 544, 11, 8, 1446, 366, 7074, 448, 419, 11, 39, 6794, 1749, 18758, 11, 8, 5678, 682, 419, 11, 39, 6794, 260, 11, 8, 1409, 1195, 323, 25419, 11, 39, 6794, 239, 11, 8, 11982, 1897, 226, 402, 11, 39, 6794, 500, 5998, 11, 8, 7482, 428, 416, 402, 11, 39, 6794, 1522, 11, 8, 2881, 8566, 7772, 986, 402, 11, 39, 6794, 177, 11, 8, 15994, 7793, 237, 800, 11, 39, 6794, 1516, 15841, 11, 8, 10447, 428, 732, 800, 11, 39, 6794, 10737, 11, 8, 10737, 1, 0, 0, 0, 0, 0, 0, 0, 0, 0, 0, 0, 0, 0, 0, 0, 0, 0, 0, 0, 0, 0, 0, 0, 0, 0, 0, 0, 0, 0, 0, 0, 0, 0, 0, 0, 0, 0, 0, 0, 0, 0, 0, 0, 0, 0, 0, 0, 0, 0, 0, 0, 0, 0, 0, 0, 0, 0, 0, 0, 0, 0, 0, 0, 0, 0, 0, 0, 0, 0, 0, 0, 0, 0, 0, 0, 0, 0, 0, 0, 0, 0, 0, 0, 0, 0, 0, 0, 0, 0, 0, 0], 'attention_mask': [1, 1, 1, 1, 1, 1, 1, 1, 1, 1, 1, 1, 1, 1, 1, 1, 1, 1, 1, 1, 1, 1, 1, 1, 1, 1, 1, 1, 1, 1, 1, 1, 1, 1, 1, 1, 1, 1, 1, 1, 1, 1, 1, 1, 1, 1, 1, 1, 1, 1, 1, 1, 1, 1, 1, 1, 1, 1, 1, 1, 1, 1, 1, 1, 1, 1, 1, 1, 1, 1, 1, 1, 1, 1, 1, 1, 1, 1, 1, 1, 1, 1, 1, 1, 1, 1, 1, 1, 1, 1, 1, 1, 1, 1, 1, 1, 1, 1, 1, 1, 1, 1, 1, 1, 1, 1, 1, 1, 1, 1, 1, 1, 1, 1, 1, 1, 1, 1, 1, 1, 1, 1, 1, 1, 1, 1, 1, 1, 1, 1, 1, 1, 1, 1, 1, 1, 1, 1, 1, 1, 1, 1, 1, 1, 1, 1, 1, 1, 1, 1, 1, 1, 1, 1, 1, 1, 1, 1, 1, 1, 1, 1, 1, 1, 1, 1, 1, 1, 1, 1, 1, 1, 1, 1, 1, 1, 1, 1, 1, 1, 1, 1, 1, 1, 1, 1, 1, 1, 1, 1, 1, 1, 1, 1, 1, 1, 1, 1, 1, 1, 1, 1, 1, 1, 1, 1, 1, 1, 1, 1, 1, 1, 1, 1, 1, 1, 1, 1, 1, 1, 1, 1, 1, 1, 1, 1, 1, 1, 1, 1, 1, 1, 1, 1, 1, 1, 1, 1, 1, 1, 1, 1, 1, 1, 1, 1, 1, 1, 1, 1, 1, 1, 1, 1, 1, 1, 1, 1, 1, 1, 1, 1, 1, 1, 1, 1, 1, 1, 1, 1, 1, 1, 1, 1, 1, 1, 1, 1, 1, 1, 1, 1, 1, 1, 1, 1, 1, 1, 1, 1, 1, 1, 1, 1, 1, 1, 1, 1, 1, 1, 1, 1, 1, 1, 1, 1, 1, 1, 1, 1, 1, 1, 1, 1, 1, 1, 1, 1, 1, 1, 1, 1, 1, 1, 1, 1, 1, 1, 1, 1, 1, 1, 1, 1, 1, 1, 1, 1, 1, 1, 1, 1, 1, 1, 1, 1, 1, 1, 1, 1, 1, 1, 1, 1, 1, 1, 1, 1, 1, 1, 1, 1, 1, 1, 1, 1, 1, 1, 1, 1, 1, 1, 1, 1, 1, 1, 1, 1, 1, 1, 1, 1, 1, 1, 1, 1, 1, 1, 1, 1, 1, 1, 1, 1, 1, 1, 1, 1, 1, 1, 1, 1, 1, 1, 1, 1, 1, 1, 1, 1, 1, 1, 1, 1, 1, 1, 1, 1, 1, 1, 1, 0, 0, 0, 0, 0, 0, 0, 0, 0, 0, 0, 0, 0, 0, 0, 0, 0, 0, 0, 0, 0, 0, 0, 0, 0, 0, 0, 0, 0, 0, 0, 0, 0, 0, 0, 0, 0, 0, 0, 0, 0, 0, 0, 0, 0, 0, 0, 0, 0, 0, 0, 0, 0, 0, 0, 0, 0, 0, 0, 0, 0, 0, 0, 0, 0, 0, 0, 0, 0, 0, 0, 0, 0, 0, 0, 0, 0, 0, 0, 0, 0, 0, 0, 0, 0, 0, 0, 0, 0, 0, 0], 'labels': [24951, 46, 1133, 1099, 9736, 4544, 243, 996, 11, 8, 9002, 11, 4, 770, 11, 75, 405, 11, 5, 11, 3, 1206, 35, 813, 4515, 2725, 83, 55, 9, 1983, 1227, 31, 2497, 209, 11, 3, 4403, 475, 15848, 5557, 10698, 24951, 914, 216, 4419, 595, 1138, 19, 332, 55, 9, 17998, 3067, 43, 1552, 1983, 21, 5518, 24951, 152, 996, 11, 3, 5876, 38, 160, 24951, 996, 59, 130, 825, 675, 623, 163, 11, 8, 60, 243, 15, 11, 3, 9012, 2451, 114, 205, 12, 19551, 181, 1274, 255, 922, 2725, 11, 3, 1, 0, 0, 0, 0, 0, 0, 0, 0, 0, 0, 0, 0, 0, 0, 0, 0, 0, 0, 0, 0, 0, 0, 0, 0, 0, 0, 0, 0, 0, 0, 0, 0, 0]}\n",
      "{'document': ['Masih ingat aksi kampungan segelintir suporter Persib Bandung yang merangsek masuk ke dalam lapangan pertandingan ?', 'Kini , klub berserta para pendukungnya harus menanggung akibatnya .', 'Pemandangan tak sportif itu terjadi ketika \" Maung Bandung \" menjalani laga tandang melawan Bhayangkara FC di Stadion Patriot , Bekasi , pada 4 Juni lalu .', 'Ketika itu , suporter Persib merangsek ke lapangan setelah tim kesayangannya kebobolan dua gol .', 'Mereka langsung menghampiri para pemain Persib untuk mengungkapkan kekecewaannya atas serangkaian hasil buruk di Gojek Traveloka Liga 1 .', 'Persib akhirnya kalah 0 - 2 dari Bhayangkara FC yang membuat mereka tercecer hingga posisi ke - 11 di klasemen sementara .', 'Pelatih Djadjang Nurdjaman pun sempat menyatakan mundur meski tak dikabulkan oleh manajemen , Beruntung , Persib meraih kemenangan saat menjamu Persiba Balikpapan sepekan setelahnya .', 'Sudah ditebak sejak awal bahwa apa yang dilakukan oleh suporter Persib itu akan berbuntut panjang .', 'Benar saja , Komisi Disiplin ( Komdis ) PSSI kembali mengetuk palunya untuk menjatuhkan hukuman kepada Persib .', 'Hukuman yang diberikan pun tergolong cukup berat .', 'Jadi , Komdis PSSI memberikan dua sanksi sekaligus .', 'Pertama , suporter Persib dilarang memakai atribut ke dalam stadion sebanyak tiga kali .', 'Jadi , tak diperbolehkan ada baju , syal , atau bendera yang berhubungan dengan Persib masuk ke dalam stadion .', 'Hukuman seperti itu sejatinya pernah dijatuhkan kepada Arema Malang ketika berlaga di Indonesia Super League ( ISL ) 2008 .', 'Ketika itu , kerusuhan yang melibatkan Aremania -- sebutan suporter Arema -- pada akhir musim kompetisi dibayar dengan hukuman larangan atribut .', 'Alhasil , ribuan Aremania datang ke stadion memakai baju hitam dengan bendera Merah Putih .', 'Sanksi kedua adalah denda kepada Persib berupa uang sebesar Rp 45.000.000 .', 'Denda itu tercatat sebagai yang terbesar yang pernah dijatuhkan oleh Komdis PSSI hingga pekan ke - 11 Liga 1 ini .', '“ Hukuman itu dijatuhkan karena terbukti supporter Persib Bandung masuk ke dalam lapangan dan membakar flare pada pertandingan Bhayangkara FC melawan Persib Bandung , ” tulis keterangan Komdis PSSI dalam rilis yang diterima kumparan ( kumparan.com ) pada Jumat ( 16 / 6 ) .', 'Tak hanya itu , dari sidang Komdis PSSI yang berlangsung di Hotel Alana , Yogyakarta pada 13 Juni tersebut , juga menjatuhkan sanksi kepada Panitia Pelaksana ( Panpel ) Bhayangkara FC .', 'Denda sebesar Rp 15.000.000 dijatuhkan kepada mereka karena penonton masuk ke dalam lapangan pada pertandingan Bhayangkara FC melawan Persib .', 'Persib bahkan terancam hukuman tambahan setelah Wali Kota Bandung , Ridwan Kamil , diketahui memasuki ruang ganti Persib saat jeda pertandingan melawan Persiba di Stadion Bandung Lautan Api pada 11 Juni lalu .', 'Seperti dilansir simamaung.com , kejadian itu diketahui setelah Ridwan Kamil mengunggah foto di akun Instagram -nya yang menunjukkan dia sedang memimpin doa jelang babak kedua .', 'Padahal , apa yang dilakukan Ridwan Kamil menyalahi regulasi Liga 1 .', 'Seperti yang tertera di Bab IV yang membahas Prosedur Pertandingan bahwa Kepala Daerah hanya boleh masuk ketika pertandingan sudah selesai .'], 'summary': 'Masih ingat aksi kampungan segelintir suporter Persib Bandung yang merangsek masuk ke dalam lapangan pertandingan ? Kini , klub berserta para pendukungnya harus menanggung akibatnya . Pemandangan tak sportif itu terjadi ketika \" Maung Bandung \" menjalani laga tandang melawan Bhayangkara FC di Stadion Patriot , Bekasi , pada 4 Juni lalu . Komisi Disiplin ( Komdis ) PSSI kembali mengetuk palunya untuk menjatuhkan hukuman kepada Persib .', 'input_ids': [11, 3870, 9317, 1933, 39, 9500, 12879, 1702, 1729, 30, 23969, 19241, 11259, 954, 10, 969, 1986, 5684, 342, 26, 22, 1774, 617, 1807, 4072, 11, 8, 492, 148, 11752, 90, 12581, 236, 18231, 9722, 11, 3, 2620, 30, 6784, 306, 12946, 1884, 37, 205, 166, 16, 113, 7, 686, 954, 16, 2153, 5405, 10840, 471, 25242, 1888, 12, 3173, 24031, 11, 8, 5340, 11, 8, 18, 173, 419, 354, 11, 3, 568, 37, 11, 8, 19241, 11259, 969, 1986, 5684, 26, 1774, 83, 271, 17048, 23, 26, 1005, 4313, 30, 91, 1200, 11, 3, 377, 440, 24393, 90, 353, 11259, 21, 2588, 21056, 23, 95, 2973, 450, 2089, 12, 912, 7327, 16880, 946, 7, 925, 78, 11, 3, 11259, 278, 1833, 423, 255, 86, 13, 25242, 1888, 10, 160, 45, 443, 685, 2504, 108, 509, 26, 255, 448, 12, 8536, 217, 11, 3, 1123, 9352, 5539, 158, 1776, 2972, 9193, 286, 330, 914, 411, 2195, 3027, 306, 24009, 25, 2421, 11, 8, 28761, 11, 8, 11259, 696, 1333, 70, 24893, 11259, 7, 8564, 29668, 9339, 11, 3, 25194, 12, 452, 3289, 180, 218, 51, 821, 10, 235, 25, 19241, 11259, 37, 59, 148, 15561, 120, 161, 11, 3, 24804, 486, 11, 8, 2347, 29739, 11, 4, 4691, 2560, 11, 5, 13814, 130, 3202, 5742, 17081, 23, 21, 7028, 2429, 102, 11259, 11, 3, 1684, 30, 10, 633, 330, 87, 259, 1045, 11, 3, 3080, 11, 8, 4691, 2560, 13814, 300, 91, 11346, 1039, 11, 3, 2395, 11, 8, 19241, 11259, 3782, 1471, 14481, 26, 22, 2705, 695, 197, 77, 11, 3, 3080, 11, 8, 306, 5994, 35, 5043, 11, 8, 165, 8197, 11, 8, 33, 2518, 10, 1769, 19, 11259, 342, 26, 22, 2705, 11, 3, 1684, 30, 60, 37, 5962, 23, 191, 13028, 102, 14304, 2301, 166, 8232, 12, 55, 2467, 3963, 11, 4, 124, 13795, 11, 5, 706, 11, 3, 568, 37, 11, 8, 7265, 10, 1818, 14304, 483, 7, 255, 14, 1805, 19241, 14304, 255, 14, 18, 276, 243, 1370, 9934, 19, 2429, 6732, 14481, 11, 3, 22974, 11, 8, 4261, 14304, 483, 7, 694, 26, 2705, 1471, 5043, 1140, 19, 2518, 2674, 5595, 11, 3, 1516, 5787, 150, 20, 13375, 102, 11259, 734, 957, 267, 2211, 2643, 3, 213, 3, 213, 11, 3, 3598, 601, 37, 494, 27, 10, 513, 10, 191, 13028, 25, 4691, 2560, 13814, 108, 3697, 26, 255, 448, 925, 78, 15, 11, 3, 550, 1684, 30, 37, 13028, 56, 3310, 30014, 11259, 954, 342, 26, 22, 1774, 9, 6775, 9338, 7, 465, 18, 617, 25242, 1888, 471, 11259, 954, 11, 8, 522, 3962, 6434, 4691, 2560, 13814, 22, 2810, 10, 1458, 27810, 11, 4, 27810, 3, 1332, 11, 5, 18, 5380, 11, 4, 323, 11, 75, 226, 11, 5, 11, 3, 1206, 114, 37, 11, 8, 13, 5550, 4691, 2560, 13814, 10, 825, 12, 2900, 7497, 7, 11, 8, 1187, 18, 416, 419, 38, 11, 8, 28, 7028, 11346, 102, 15046, 13001, 11, 4, 1843, 2255, 11, 5, 25242, 1888, 11, 3, 3598, 601, 267, 2211, 285, 3, 213, 3, 213, 13028, 1], 'attention_mask': [1, 1, 1, 1, 1, 1, 1, 1, 1, 1, 1, 1, 1, 1, 1, 1, 1, 1, 1, 1, 1, 1, 1, 1, 1, 1, 1, 1, 1, 1, 1, 1, 1, 1, 1, 1, 1, 1, 1, 1, 1, 1, 1, 1, 1, 1, 1, 1, 1, 1, 1, 1, 1, 1, 1, 1, 1, 1, 1, 1, 1, 1, 1, 1, 1, 1, 1, 1, 1, 1, 1, 1, 1, 1, 1, 1, 1, 1, 1, 1, 1, 1, 1, 1, 1, 1, 1, 1, 1, 1, 1, 1, 1, 1, 1, 1, 1, 1, 1, 1, 1, 1, 1, 1, 1, 1, 1, 1, 1, 1, 1, 1, 1, 1, 1, 1, 1, 1, 1, 1, 1, 1, 1, 1, 1, 1, 1, 1, 1, 1, 1, 1, 1, 1, 1, 1, 1, 1, 1, 1, 1, 1, 1, 1, 1, 1, 1, 1, 1, 1, 1, 1, 1, 1, 1, 1, 1, 1, 1, 1, 1, 1, 1, 1, 1, 1, 1, 1, 1, 1, 1, 1, 1, 1, 1, 1, 1, 1, 1, 1, 1, 1, 1, 1, 1, 1, 1, 1, 1, 1, 1, 1, 1, 1, 1, 1, 1, 1, 1, 1, 1, 1, 1, 1, 1, 1, 1, 1, 1, 1, 1, 1, 1, 1, 1, 1, 1, 1, 1, 1, 1, 1, 1, 1, 1, 1, 1, 1, 1, 1, 1, 1, 1, 1, 1, 1, 1, 1, 1, 1, 1, 1, 1, 1, 1, 1, 1, 1, 1, 1, 1, 1, 1, 1, 1, 1, 1, 1, 1, 1, 1, 1, 1, 1, 1, 1, 1, 1, 1, 1, 1, 1, 1, 1, 1, 1, 1, 1, 1, 1, 1, 1, 1, 1, 1, 1, 1, 1, 1, 1, 1, 1, 1, 1, 1, 1, 1, 1, 1, 1, 1, 1, 1, 1, 1, 1, 1, 1, 1, 1, 1, 1, 1, 1, 1, 1, 1, 1, 1, 1, 1, 1, 1, 1, 1, 1, 1, 1, 1, 1, 1, 1, 1, 1, 1, 1, 1, 1, 1, 1, 1, 1, 1, 1, 1, 1, 1, 1, 1, 1, 1, 1, 1, 1, 1, 1, 1, 1, 1, 1, 1, 1, 1, 1, 1, 1, 1, 1, 1, 1, 1, 1, 1, 1, 1, 1, 1, 1, 1, 1, 1, 1, 1, 1, 1, 1, 1, 1, 1, 1, 1, 1, 1, 1, 1, 1, 1, 1, 1, 1, 1, 1, 1, 1, 1, 1, 1, 1, 1, 1, 1, 1, 1, 1, 1, 1, 1, 1, 1, 1, 1, 1, 1, 1, 1, 1, 1, 1, 1, 1, 1, 1, 1, 1, 1, 1, 1, 1, 1, 1, 1, 1, 1, 1, 1, 1, 1, 1, 1, 1, 1, 1, 1, 1, 1, 1, 1, 1, 1, 1, 1, 1, 1, 1, 1, 1, 1, 1, 1, 1, 1, 1, 1, 1, 1, 1, 1, 1, 1, 1, 1, 1, 1, 1, 1, 1, 1, 1, 1, 1, 1, 1, 1, 1, 1, 1, 1, 1, 1, 1, 1, 1, 1, 1, 1, 1, 1, 1, 1, 1, 1, 1], 'labels': [9500, 12879, 1702, 1729, 30, 23969, 19241, 11259, 954, 10, 969, 1986, 5684, 342, 26, 22, 1774, 617, 1807, 4072, 11, 8, 492, 148, 11752, 90, 12581, 236, 18231, 9722, 11, 3, 2620, 30, 6784, 306, 12946, 1884, 37, 205, 166, 16, 113, 7, 686, 954, 16, 2153, 5405, 10840, 471, 25242, 1888, 12, 3173, 24031, 11, 8, 5340, 11, 8, 18, 173, 419, 354, 11, 3, 2347, 29739, 11, 4, 4691, 2560, 11, 5, 13814, 130, 3202, 5742, 17081, 23, 21, 7028, 2429, 102, 11259, 11, 3, 1, 0, 0, 0, 0, 0, 0, 0, 0, 0, 0, 0, 0, 0, 0, 0, 0, 0, 0, 0, 0, 0, 0, 0, 0, 0, 0, 0, 0, 0, 0, 0, 0, 0, 0, 0, 0, 0, 0, 0]}\n",
      "{'document': ['Jakarta , CNN Indonesia - - Penyelidik Amerika Serikat dilaporkan sudah bertemu dengan Christopher Steele , mantan mata-mata Inggris yang membocorkan isu hubungan antara tim kampanye Donald Trump dan Rusia pada masa pemilihan umum 2016 .', 'Informasi mengenai pertemuan ini dihimpun oleh CNN dari dua sumber yang dekat dengan penyelidikan .', 'CNN melaporkan , pertemuan antara penyelidik dari dewan khusus pimpinan mantan Kepala FBI , Robert Mueller , bertemu dengan Steele pada musim panas lalu .', '\" CNN mengetahui bahwa FBI dan komunitas intelijen AS menanggapi bocoran Steele lebih serius ketimbang badan-badan lain yang mengetahuinya , \" demikian bunyi laporan CNN , Kamis ( 5 / 10 ) .', 'Nama Steele menjadi perhatian publik setelah merilis berkas penelitian politik setebal 35 halaman yang menguak kemungkinan intervensi Rusia untuk memenangkan Trump dalam pemilu lalu .', 'Berkas itu mencakup klaim bahwa Rusia memiliki video prostitusi yang direkam saat Trump mengunjungi salah satu hotel mewah di Moskow pada 2013 .', 'Video ini diduga dapat digunakan Rusia untuk pemerasan .', 'Selain itu , berkas itu juga mengungkap kemungkinan para penasihat Trump menjalin hubungan rutin dengan sejumlah pejabat intelijen Rusia selama proses pemilu dan telah bertukar informasi \" setidaknya \" selama delapan tahun .', 'Memo ini tersebar pada Januari lalu , tak lama setelah Trump dilantik menjadi Presiden AS .', 'Penyelidikan besar-besaran pun langsung dilaksanakan , sementara Trump terus menyebut bahwa memo ini \" palsu . \"'], 'summary': 'Penyelidik AS dilaporkan sudah bertemu dengan Christopher Steele , mantan mata-mata Inggris yang membocorkan isu hubungan antara tim kampanye Donald Trump dan Rusia pada masa pemilihan umum 2016 . Pertemuan antara penyelidik dari FBI , Robert Mueller , bertemu dengan Steele pada musim panas lalu . Nama Steele menjadi perhatian publik setelah merilis berkas penelitian politik yang menguak kemungkinan intervensi Rusia untuk memenangkan Trump .', 'input_ids': [11, 3870, 9317, 1933, 39, 328, 11, 8, 18776, 55, 255, 255, 11998, 539, 1788, 101, 425, 2884, 184, 963, 19, 8850, 20443, 57, 11, 8, 952, 745, 14, 3006, 177, 10, 29144, 4117, 576, 81, 271, 2085, 9097, 9079, 9, 588, 18, 133, 1081, 288, 816, 11, 3, 4838, 457, 1654, 15, 24160, 25, 18776, 13, 91, 592, 10, 303, 19, 6355, 11, 3, 18776, 2675, 11, 8, 1654, 81, 27151, 13, 2653, 610, 1567, 952, 888, 16927, 11, 8, 1784, 1446, 13212, 11, 8, 963, 19, 20443, 57, 18, 243, 1057, 354, 11, 3, 16, 18776, 1496, 51, 16927, 9, 1426, 7949, 1239, 7174, 18248, 30, 20443, 57, 54, 3723, 6156, 1219, 14, 13733, 66, 10, 1496, 23, 11, 8, 16, 761, 4971, 2019, 18776, 11, 8, 8170, 11, 4, 200, 11, 75, 237, 11, 5, 11, 3, 159, 20443, 57, 31, 1752, 1255, 83, 1133, 4940, 1128, 444, 21151, 2522, 1994, 10, 6390, 894, 1168, 9701, 588, 21, 622, 9079, 22, 3029, 354, 11, 3, 20270, 37, 1011, 5031, 51, 588, 48, 809, 24203, 10, 4686, 70, 9079, 2112, 92, 50, 2963, 5766, 12, 10269, 18, 688, 11, 3, 3123, 15, 2735, 42, 111, 588, 21, 13414, 2433, 11, 3, 772, 37, 11, 8, 4940, 37, 28, 13606, 1168, 90, 6078, 9079, 4433, 576, 5145, 19, 518, 1690, 7949, 588, 131, 336, 3029, 9, 46, 14774, 913, 16, 2962, 16, 131, 1651, 24, 11, 3, 4833, 84, 15, 2099, 18, 408, 354, 11, 8, 306, 455, 83, 9079, 3578, 31, 865, 1239, 11, 3, 11998, 6199, 3317, 63, 14, 4862, 330, 440, 1508, 11, 8, 217, 9079, 579, 1376, 51, 1245, 84, 15, 16, 5788, 11, 3, 16, 1, 0, 0, 0, 0, 0, 0, 0, 0, 0, 0, 0, 0, 0, 0, 0, 0, 0, 0, 0, 0, 0, 0, 0, 0, 0, 0, 0, 0, 0, 0, 0, 0, 0, 0, 0, 0, 0, 0, 0, 0, 0, 0, 0, 0, 0, 0, 0, 0, 0, 0, 0, 0, 0, 0, 0, 0, 0, 0, 0, 0, 0, 0, 0, 0, 0, 0, 0, 0, 0, 0, 0, 0, 0, 0, 0, 0, 0, 0, 0, 0, 0, 0, 0, 0, 0, 0, 0, 0, 0, 0, 0, 0, 0, 0, 0, 0, 0, 0, 0, 0, 0, 0, 0, 0, 0, 0, 0, 0, 0, 0, 0, 0, 0, 0, 0, 0, 0, 0, 0, 0, 0, 0, 0, 0, 0, 0, 0, 0, 0, 0, 0, 0, 0, 0, 0, 0, 0, 0, 0, 0, 0, 0, 0, 0, 0, 0, 0, 0, 0, 0, 0, 0, 0, 0, 0, 0, 0, 0, 0, 0, 0, 0, 0, 0, 0, 0, 0, 0, 0, 0, 0, 0, 0, 0, 0, 0, 0, 0, 0, 0, 0, 0, 0, 0, 0, 0, 0, 0, 0, 0, 0, 0, 0, 0, 0, 0, 0, 0, 0, 0, 0, 0, 0, 0, 0, 0, 0, 0, 0, 0, 0, 0, 0, 0, 0, 0, 0, 0, 0, 0, 0, 0, 0, 0, 0, 0, 0, 0, 0, 0], 'attention_mask': [1, 1, 1, 1, 1, 1, 1, 1, 1, 1, 1, 1, 1, 1, 1, 1, 1, 1, 1, 1, 1, 1, 1, 1, 1, 1, 1, 1, 1, 1, 1, 1, 1, 1, 1, 1, 1, 1, 1, 1, 1, 1, 1, 1, 1, 1, 1, 1, 1, 1, 1, 1, 1, 1, 1, 1, 1, 1, 1, 1, 1, 1, 1, 1, 1, 1, 1, 1, 1, 1, 1, 1, 1, 1, 1, 1, 1, 1, 1, 1, 1, 1, 1, 1, 1, 1, 1, 1, 1, 1, 1, 1, 1, 1, 1, 1, 1, 1, 1, 1, 1, 1, 1, 1, 1, 1, 1, 1, 1, 1, 1, 1, 1, 1, 1, 1, 1, 1, 1, 1, 1, 1, 1, 1, 1, 1, 1, 1, 1, 1, 1, 1, 1, 1, 1, 1, 1, 1, 1, 1, 1, 1, 1, 1, 1, 1, 1, 1, 1, 1, 1, 1, 1, 1, 1, 1, 1, 1, 1, 1, 1, 1, 1, 1, 1, 1, 1, 1, 1, 1, 1, 1, 1, 1, 1, 1, 1, 1, 1, 1, 1, 1, 1, 1, 1, 1, 1, 1, 1, 1, 1, 1, 1, 1, 1, 1, 1, 1, 1, 1, 1, 1, 1, 1, 1, 1, 1, 1, 1, 1, 1, 1, 1, 1, 1, 1, 1, 1, 1, 1, 1, 1, 1, 1, 1, 1, 1, 1, 1, 1, 1, 1, 1, 1, 1, 1, 1, 1, 1, 1, 1, 1, 1, 1, 1, 1, 1, 1, 1, 1, 1, 1, 1, 1, 1, 1, 1, 1, 1, 1, 1, 1, 1, 1, 1, 1, 1, 1, 1, 1, 1, 1, 1, 1, 1, 1, 1, 1, 1, 1, 1, 1, 0, 0, 0, 0, 0, 0, 0, 0, 0, 0, 0, 0, 0, 0, 0, 0, 0, 0, 0, 0, 0, 0, 0, 0, 0, 0, 0, 0, 0, 0, 0, 0, 0, 0, 0, 0, 0, 0, 0, 0, 0, 0, 0, 0, 0, 0, 0, 0, 0, 0, 0, 0, 0, 0, 0, 0, 0, 0, 0, 0, 0, 0, 0, 0, 0, 0, 0, 0, 0, 0, 0, 0, 0, 0, 0, 0, 0, 0, 0, 0, 0, 0, 0, 0, 0, 0, 0, 0, 0, 0, 0, 0, 0, 0, 0, 0, 0, 0, 0, 0, 0, 0, 0, 0, 0, 0, 0, 0, 0, 0, 0, 0, 0, 0, 0, 0, 0, 0, 0, 0, 0, 0, 0, 0, 0, 0, 0, 0, 0, 0, 0, 0, 0, 0, 0, 0, 0, 0, 0, 0, 0, 0, 0, 0, 0, 0, 0, 0, 0, 0, 0, 0, 0, 0, 0, 0, 0, 0, 0, 0, 0, 0, 0, 0, 0, 0, 0, 0, 0, 0, 0, 0, 0, 0, 0, 0, 0, 0, 0, 0, 0, 0, 0, 0, 0, 0, 0, 0, 0, 0, 0, 0, 0, 0, 0, 0, 0, 0, 0, 0, 0, 0, 0, 0, 0, 0, 0, 0, 0, 0, 0, 0, 0, 0, 0, 0, 0, 0, 0, 0, 0, 0, 0, 0, 0, 0, 0, 0, 0, 0], 'labels': [11998, 539, 1788, 1239, 2884, 184, 963, 19, 8850, 20443, 57, 11, 8, 952, 745, 14, 3006, 177, 10, 29144, 4117, 576, 81, 271, 2085, 9097, 9079, 9, 588, 18, 133, 1081, 288, 816, 11, 3, 14276, 81, 27151, 13, 16927, 11, 8, 1784, 1446, 13212, 11, 8, 963, 19, 20443, 57, 18, 243, 1057, 354, 11, 3, 159, 20443, 57, 31, 1752, 1255, 83, 1133, 4940, 1128, 444, 10, 6390, 894, 1168, 9701, 588, 21, 622, 9079, 11, 3, 1, 0, 0, 0, 0, 0, 0, 0, 0, 0, 0, 0, 0, 0, 0, 0, 0, 0, 0, 0, 0, 0, 0, 0, 0, 0, 0, 0, 0, 0, 0, 0, 0, 0, 0, 0, 0, 0, 0, 0, 0, 0, 0, 0, 0, 0, 0, 0]}\n"
     ]
    }
   ],
   "source": [
    "print(tokenized_datasets['train'][0])\n",
    "print(tokenized_datasets['validation'][0])\n",
    "print(tokenized_datasets['test'][0])"
   ]
  },
  {
   "cell_type": "code",
   "execution_count": 10,
   "metadata": {},
   "outputs": [
    {
     "name": "stderr",
     "output_type": "stream",
     "text": [
      "/home/rakhargo/miniconda3/envs/coba/lib/python3.9/site-packages/transformers/training_args.py:1575: FutureWarning: `evaluation_strategy` is deprecated and will be removed in version 4.46 of 🤗 Transformers. Use `eval_strategy` instead\n",
      "  warnings.warn(\n"
     ]
    }
   ],
   "source": [
    "from transformers import TrainingArguments\n",
    "\n",
    "training_args = TrainingArguments(\n",
    "    # output_dir=\"./indoT5_summarization_results\",   # Direktori untuk menyimpan model\n",
    "    evaluation_strategy=\"steps\",                  # Evaluasi setiap beberapa step\n",
    "    eval_steps=500,                               # Frekuensi evaluasi\n",
    "    save_steps=0,                               # Frekuensi menyimpan model\n",
    "    logging_dir=None,                         # Direktori log\n",
    "    learning_rate=0.001,                           # Learning rate\n",
    "    per_device_train_batch_size=4,                # Batch size per device\n",
    "    per_device_eval_batch_size=4,                 # Batch size untuk evaluasi\n",
    "    num_train_epochs=5,                           # Jumlah epoch\n",
    "    weight_decay=0.01,                            # Regularisasi L2\n",
    "    save_total_limit=2,                           # Simpan hanya 2 checkpoint terbaik\n",
    "    load_best_model_at_end=True,                  # Load model terbaik berdasarkan evaluasi\n",
    "    report_to=\"none\",                              # Nonaktifkan logging ke W&B\n",
    "    gradient_checkpointing=True,\n",
    ")\n"
   ]
  },
  {
   "cell_type": "code",
   "execution_count": 11,
   "metadata": {},
   "outputs": [
    {
     "name": "stderr",
     "output_type": "stream",
     "text": [
      "`use_cache=True` is incompatible with gradient checkpointing. Setting `use_cache=False`...\n"
     ]
    },
    {
     "data": {
      "text/html": [
       "\n",
       "    <div>\n",
       "      \n",
       "      <progress value='3565' max='3565' style='width:300px; height:20px; vertical-align: middle;'></progress>\n",
       "      [3565/3565 19:15, Epoch 5/5]\n",
       "    </div>\n",
       "    <table border=\"1\" class=\"dataframe\">\n",
       "  <thead>\n",
       " <tr style=\"text-align: left;\">\n",
       "      <th>Step</th>\n",
       "      <th>Training Loss</th>\n",
       "      <th>Validation Loss</th>\n",
       "    </tr>\n",
       "  </thead>\n",
       "  <tbody>\n",
       "    <tr>\n",
       "      <td>500</td>\n",
       "      <td>1.728700</td>\n",
       "      <td>0.421764</td>\n",
       "    </tr>\n",
       "    <tr>\n",
       "      <td>1000</td>\n",
       "      <td>0.419400</td>\n",
       "      <td>0.394146</td>\n",
       "    </tr>\n",
       "    <tr>\n",
       "      <td>1500</td>\n",
       "      <td>0.336600</td>\n",
       "      <td>0.387927</td>\n",
       "    </tr>\n",
       "    <tr>\n",
       "      <td>2000</td>\n",
       "      <td>0.266800</td>\n",
       "      <td>0.397217</td>\n",
       "    </tr>\n",
       "    <tr>\n",
       "      <td>2500</td>\n",
       "      <td>0.204600</td>\n",
       "      <td>0.406568</td>\n",
       "    </tr>\n",
       "    <tr>\n",
       "      <td>3000</td>\n",
       "      <td>0.174800</td>\n",
       "      <td>0.444735</td>\n",
       "    </tr>\n",
       "    <tr>\n",
       "      <td>3500</td>\n",
       "      <td>0.147800</td>\n",
       "      <td>0.442413</td>\n",
       "    </tr>\n",
       "  </tbody>\n",
       "</table><p>"
      ],
      "text/plain": [
       "<IPython.core.display.HTML object>"
      ]
     },
     "metadata": {},
     "output_type": "display_data"
    },
    {
     "name": "stderr",
     "output_type": "stream",
     "text": [
      "Passing a tuple of `past_key_values` is deprecated and will be removed in Transformers v4.48.0. You should pass an instance of `EncoderDecoderCache` instead, e.g. `past_key_values=EncoderDecoderCache.from_legacy_cache(past_key_values)`.\n",
      "Could not locate the best model at ./indoT5_summarization_results/checkpoint-1500/pytorch_model.bin, if you are running a distributed training on multiple nodes, you should activate `--save_on_each_node`.\n"
     ]
    },
    {
     "data": {
      "text/plain": [
       "TrainOutput(global_step=3565, training_loss=0.4622146809753161, metrics={'train_runtime': 1156.3316, 'train_samples_per_second': 12.328, 'train_steps_per_second': 3.083, 'total_flos': 2649869144555520.0, 'train_loss': 0.4622146809753161, 'epoch': 5.0})"
      ]
     },
     "execution_count": 11,
     "metadata": {},
     "output_type": "execute_result"
    }
   ],
   "source": [
    "from transformers import Trainer\n",
    "\n",
    "model = T5ForConditionalGeneration.from_pretrained(model_name)\n",
    "\n",
    "# Inisialisasi Trainer\n",
    "trainer = Trainer(\n",
    "    model=model,\n",
    "    args=training_args,\n",
    "    train_dataset=tokenized_datasets[\"train\"],\n",
    "    eval_dataset=tokenized_datasets[\"validation\"],\n",
    ")\n",
    "\n",
    "# Mulai proses training\n",
    "trainer.train()"
   ]
  },
  {
   "cell_type": "code",
   "execution_count": 12,
   "metadata": {},
   "outputs": [
    {
     "data": {
      "image/png": "[encoded data removed]",
      "text/plain": [
       "<Figure size 1200x500 with 1 Axes>"
      ]
     },
     "metadata": {},
     "output_type": "display_data"
    }
   ],
   "source": [
    "import matplotlib.pyplot as plt\n",
    "# Mengambil data dari log\n",
    "train_logs = trainer.state.log_history\n",
    "\n",
    "# Membuat list untuk loss dan accuracy\n",
    "train_loss = []\n",
    "eval_loss = []\n",
    "\n",
    "for log in train_logs:\n",
    "    if 'loss' in log:\n",
    "        train_loss.append(log['loss'])\n",
    "    if 'eval_loss' in log:\n",
    "        eval_loss.append(log['eval_loss'])\n",
    "\n",
    "# Plotting\n",
    "plt.figure(figsize=(12, 5))\n",
    "\n",
    "# Plot Loss\n",
    "plt.subplot(1, 2, 1)\n",
    "plt.plot(range(len(train_loss)), train_loss, label=\"Train Loss\")\n",
    "plt.plot(range(len(eval_loss)), eval_loss, label=\"Eval Loss\")\n",
    "plt.xlabel('Epochs')\n",
    "plt.ylabel('Loss')\n",
    "plt.title('Training and Evaluation Loss')\n",
    "plt.legend()\n",
    "\n",
    "# Tampilkan plot\n",
    "plt.show()\n"
   ]
  },
  {
   "cell_type": "code",
   "execution_count": 14,
   "metadata": {},
   "outputs": [
    {
     "data": {
      "text/html": [],
      "text/plain": [
       "<IPython.core.display.HTML object>"
      ]
     },
     "metadata": {},
     "output_type": "display_data"
    },
    {
     "name": "stdout",
     "output_type": "stream",
     "text": [
      "Data 1:\n",
      "Input Asli: ['Jakarta , CNN Indonesia - - Penyelidik Amerika Serikat dilaporkan sudah bertemu dengan Christopher Steele , mantan mata-mata Inggris yang membocorkan isu hubungan antara tim kampanye Donald Trump dan Rusia pada masa pemilihan umum 2016 .', 'Informasi mengenai pertemuan ini dihimpun oleh CNN dari dua sumber yang dekat dengan penyelidikan .', 'CNN melaporkan , pertemuan antara penyelidik dari dewan khusus pimpinan mantan Kepala FBI , Robert Mueller , bertemu dengan Steele pada musim panas lalu .', '\" CNN mengetahui bahwa FBI dan komunitas intelijen AS menanggapi bocoran Steele lebih serius ketimbang badan-badan lain yang mengetahuinya , \" demikian bunyi laporan CNN , Kamis ( 5 / 10 ) .', 'Nama Steele menjadi perhatian publik setelah merilis berkas penelitian politik setebal 35 halaman yang menguak kemungkinan intervensi Rusia untuk memenangkan Trump dalam pemilu lalu .', 'Berkas itu mencakup klaim bahwa Rusia memiliki video prostitusi yang direkam saat Trump mengunjungi salah satu hotel mewah di Moskow pada 2013 .', 'Video ini diduga dapat digunakan Rusia untuk pemerasan .', 'Selain itu , berkas itu juga mengungkap kemungkinan para penasihat Trump menjalin hubungan rutin dengan sejumlah pejabat intelijen Rusia selama proses pemilu dan telah bertukar informasi \" setidaknya \" selama delapan tahun .', 'Memo ini tersebar pada Januari lalu , tak lama setelah Trump dilantik menjadi Presiden AS .', 'Penyelidikan besar-besaran pun langsung dilaksanakan , sementara Trump terus menyebut bahwa memo ini \" palsu . \"']\n",
      "Actual Summary: Penyelidik AS dilaporkan sudah bertemu dengan Christopher Steele , mantan mata-mata Inggris yang membocorkan isu hubungan antara tim kampanye Donald Trump dan Rusia pada masa pemilihan umum 2016 . Pertemuan antara penyelidik dari FBI , Robert Mueller , bertemu dengan Steele pada musim panas lalu . Nama Steele menjadi perhatian publik setelah merilis berkas penelitian politik yang menguak kemungkinan intervensi Rusia untuk memenangkan Trump .\n",
      "Predicted Summary: Penyelidik Amerika dilaporkan sudah bertemu dengan Christopher Steele , mantan mata-mata Inggris yang membocorkan isu hubungan antara tim kampanye Donald Trump dan Rusia pada masa pemilihan umum 2016 . Informasi antara penyelidik dari dewan pimpinan, Robert Mueller , bertemu dengan Steele pada musim panas lalu . Nama Steele menjadi perhatian publik setelah merilis berkas penelitian politik setebal berisiak kemungkinan intervensi Rusia untuk memenangkan Trump dalam.\n",
      "BLEU Score: 0.8036588319923607\n",
      "--------------------------------------------------\n",
      "Data 2:\n",
      "Input Asli: ['Jakarta , CNN Indonesia - - Indosat Ooredoo memperkenalkan produk berupa platform Internet of Things ( IoT ) yang mereka namakan NEXThing .', 'Platform itu berfungsi sebagai wadah yang menampung seluruh data dari berbagai perangkat elektronik .', '\" Secara sederhana , NEXThing itu adalah ekosistem digital , \" ucap Director dan Chief Wholesale & Enterprise Officer Indosat Ooredoo Herfini Haryono di acara peluncuran NEXThing di Jakarta , Selasa ( 22 / 11 ) .', 'Teknologi IoT sendiri adalah kunci sentral yang menjembatani kebutuhan digital perusahaan dalam mengelola aset , analisis tren , dan yang paling penting pengumpulan data .', 'Indosat berupaya menyentuh aspek bisnis yang tergolong masih jarang di Indonesia .', '\" Banyak perusahaan dan kota-kota yang punya banyak masalah kanal monitoring data tapi tidak bisa mengelolanya dengan baik , \" kata Alexander Rusli , President Director dan CEO Indosat Ooredoo .', 'Permasalahan tersebut kerap muncul akibat absennya solusi teknologi dalam mengakomodasi \" serbuan \" data .', 'Dalam industri digital , koleksi data konsumen memang kerap diasosiasikan sebagai harta karun .', 'Herfini yang mewakili Indosat dalam peluncuran NEXThing mengklaim produk yang mereka luncurkan sebagai platform IoT pertama oleh operator seluler yang dapat mengintegrasikan secara penuh aplikasi bisnis secara digital .', '\" Kan jika jumlah IoT itu jauh lebih besar daripada jumlah pelanggannya , kita akan butuh satu struktur baru untuk menjaga keamanan dan lainnya , \" terang Alex .', 'Dalam mengembangkan NEXThing , Indosat menggandeng IBM .', 'Namun , IBM hanya salah satu mitra Indosat dalam membesarkan platform IoT.', 'Dengan produk tersebut , Indosat menyasar industri di level B2B ( business-to-business ) \\xa0 yang masih sepi pemain di ranah lokal .', 'Menyinggung soal potensi pasarnya , Alex masih belum mau menyebut angka pasti selain mengatakan \" masih kecil . \"', '( evn )']\n",
      "Actual Summary: Indosat Ooredoo telah memperkenalkan kepada publik produk baru mereka berupa platform Internet of Things ( IoT ) yang mereka namakan \" NEXThing \" . Indosat berupaya menyentuh aspek bisnis yang tergolong masih jarang di Indonesia . Teknologi IoT sendiri adalah kunci sentral yang menjembatani kebutuhan digital perusahaan dalam mengelola aset , analisis tren , dan yang paling penting pengumpulan data dari berbagai perangkat elektronik .\n",
      "Predicted Summary: Indosat Ooredoo memperkenalkan memperkenalkan produk produk produk berupa berupa bernama platform Internet of Things ( IoT ) yang mereka namakan N NEXThing \" yang. Platform berfungsi menyentuh aspek bisnis yang tergolong masih jarang di Indonesia . Dalam IoT sendiri adalah kunci sentral yang menjembatani kebutuhan digital perusahaan dalam mengelola aset , analisis tren , dan yang paling penting pengumpulan data  berbagai perangkat elektronik .\n",
      "BLEU Score: 0.6723390992497601\n",
      "--------------------------------------------------\n",
      "Data 3:\n",
      "Input Asli: ['21 Juli 1969 , Neil Armstrong menjadi manusia pertama yang menjejakkan kaki di permukaan Bulan .', 'Namun tentu saja Neil bersama koleganya , Buzz Aldrin , hanya sempat menelusuri sebagian kecil Bulan saja , sebab sekecil - kecilnya Bulan , ukurannya masih sekitar seperempat dari planet yang kita tinggali .', 'Berkat kemajuan teknologi digital , Anda tak perlu bersusah payah menempuh jarak sejauh 350 ribu sekian kilometer untuk bisa menelusuri Bulan secara langsung .', 'Tidak , Anda sekarang bisa mengamati Bulan secara mendetail di kepalan tangan Anda .', 'Perangkat bernama Lunar Pro ini bukan sembarang replika Bulan .', 'Diameternya memang cuma 12 inci , akan tetapi ia sangatlah presisi sampai-sampai semua kawah maupun fitur topografi Bulan lainnya ada padanya tanpa terkecuali , berkat data yang berasal dari Lunar Reconnaissance Orbiter kepunyaan NASA .', 'Juga tidak main-main , 3D printer yang membuatnya bekerja dalam resolusi 4.000 DPI , atau sekitar 0,006 milimeter per pixel -nya .', 'Setiap unitnya yang terbuat dari material poly resin kemudian dicat menggunakan tangan , dan hasilnya benar-benar sangat mirip dengan Bulan yang mengorbit Bumi kita sebenarnya .', 'Namun yang lebih menarik lagi justru adalah elemen interaktif dengan memanfaatkan teknologi augmented reality .', 'Menggunakan aplikasi pendamping di ponsel , pengguna dapat menelusuri berbagai fakta menarik soal Bulan , seperti misalnya titik pendaratan Apollo 11 yang membawa Neil Armstrong dan Buzz Aldrin itu tadi .', 'Semuanya cukup dengan mengarahkan kamera ponsel ke bagian - bagian Lunar Pro .', 'Kombinasi replika yang super - presisi dan aplikasi AR gratis ini sejatinya bisa sangat menarik perhatian para penggemar astronomi yang kesulitan mendapatkan akses ke teleskop .', 'Lebih lanjut , anak-anak yang masih duduk di bangku sekolah pun juga bisa belajar banyak mengenai Bulan dengan Lunar Pro .', 'Saat ini Lunar Pro sedang ditawarkan melalui situs crowdfunding Indiegogo seharga $ 179 , sedangkan harga retail -nya diperkirakan berkisar $ 219 .', 'AstroReality juga menyediakan versi yang lebih kecil , yakni Lunar Regular dan Lunar Mini , akan tetapi pengalaman AR -nya jauh lebih terbatas .', 'Sumber : Mashable .', 'DailySocial.id adalah portal berita startup dan inovasi teknologi .', 'Kamu bisa menjadi member komunitas startup dan inovasi DailySocial.id , mengunduh laporan riset dan statistik seputar teknologi secara cuma-cuma , dan mengikuti berita startup Indonesia dan gadget terbaru .']\n",
      "Actual Summary: Perangkat bernama Lunar Pro bukan sembarang replika Bulan . Diameternya memang cuma 12 inci , akan tetapi ia sangatlah presisi sampai-sampai semua kawah maupun fitur topografi Bulan lainnya ada padanya tanpa terkecuali , berkat data yang berasal dari Lunar Reconnaissance Orbiter kepunyaan NASA . Perangkat ini memiliki elemen interaktif dengan memanfaatkan teknologi augmented reality .\n",
      "Predicted Summary: Menurut bernama Lunar Pro ini sembarang replika Bulan . Diameternya memang cuma 12 inci , tetapi tetapi ia sangatlah presisi sampai-sampai semua kawah maupun fitur topografi Bulan lainnya ada padanya tanpa terkecuali , berkat data yang berasal dari Lunar Reconnaissance Orbiter kepunyaan NASA . Selain bernama bukan resolusi interaktif dengan memanfaatkan teknologi augmented reality .\n",
      "BLEU Score: 0.7887463773767857\n",
      "--------------------------------------------------\n",
      "Data 4:\n",
      "Input Asli: ['Menteri Keamanan dan Yustisi Stef Blok menegaskan hal itu dalam jawaban tertulisnya atas pertanyaan yang diajukan oleh Tweede Kamer ( parlemen ) , Selasa ( 22 / 8 / 2017 ) waktu setempat .', 'Dalam jawaban yang salinannya dipegang kumparan Den Haag ( kumparan.com ) , Blok menyampaikan bahwa UU Kewarganegaraan Belanda Pasal 14 Ayat ( 2 ) memungkinkan untuk mencabut kewarganegaraan tanpa menunggu putusan tetap atas tindak kejahatan terorisme , sebagaimana dimaksud dalam Wetboek van Strafrecht ( KUHP ) Pasal 134a dan Pasal 205 .', 'Sejak 1 Maret 2017 UU Kewarganegaraan telah dilengkapi dengan landasan baru untuk pencabutan kewarganegaraan , yakni demi keamanan nasional .', 'Kewenangan baru ini dapat diterapkan pada orang-orang yang telah mencapai usia 16 tahun , terlibat dalam daftar organisasi yang ikut ambil bagian dalam konflik bersenjata di luar negeri dan menjadi ancaman bagi keamanan nasional .', 'Dengan kewenangan ini Belanda dalam hal mendesak untuk melindungi keamanan nasional , dimungkinkan untuk mencabut kewarganegaraan seseorang .', 'Selanjutnya yang bersangkutan dinyatakan sebagai orang asing yang tak dikehendaki alias persona non grata .', 'Menteri Blok sebelumnya menjelaskan bahwa saat ini totalnya masih ada sekitar 280 orang ( berstatus warga negara Belanda ) yang pergi ke Suriah dan Irak .', 'Sebagian dari mereka menemui ajal dan sebagiannya lagi telah kembali .', 'Sekitar 190 orang masih berada di kawasan pertempuran di Suriah dan Irak ( perkiraan per 1 Agustus 2017 ) .', 'Pada pencabutan kewarganegaraan demi keamanan nasional antara lain dipertimbangkan proporsionalitas tindakan , kepentingan penyelidikan , penuntutan dan pengadilan serta kondisi luar biasa pribadi yang bersangkutan .', 'Namun kewenangan ini hanya bisa diterapkan pada mereka yang selain memiliki kewarganegaraan Belanda , juga memiliki kewarganegaraan negara lain .', 'Dipastikan agar seseorang sama sekali tidak menjadi tanpa kewarganegaraan .', 'Tapi karena ini pula muncul kritik bahwa kebijakan terkesan diskriminatif .', 'Sebelumnya dua anggota parlemen   Machiel de Graaf dan Geert Wilders mempertanyakan kebijakan pemerintah Belanda menyusul sikap tegas Inggris yang menyatakan kewarganegaraan Inggris bukan suatu hak absolut dan mencabut kewarganegaraan 150 warganya yang pergi ke Suriah .', 'Belanda nampaknya mengambil kebijakan serupa : kewarganegaraan bukan hak yang absolut .', 'Reporte kumparan Den Haag ( kumparan.com ) Eddy Santosa .']\n",
      "Actual Summary: Menteri Keamanan dan Yustisi Stef Blok menegaskan dalam jawaban tertulisnya atas pertanyaan yang diajukan oleh Tweede Kamer ( parlemen ) . Sejak 1 Maret 2017 UU Kewarganegaraan telah dilengkapi dengan landasan baru untuk pencabutan kewarganegaraan , yakni demi keamanan nasional . Namun kewenangan ini hanya bisa diterapkan pada mereka yang selain memiliki kewarganegaraan Belanda , juga memiliki kewarganegaraan negara lain . Muncul kritik bahwa kebijakan terkesan diskriminatif .\n",
      "Predicted Summary: Menteri Keamanan dan Yustisi Stef Blok menegaskan hal jawaban tertulisnya atas pertanyaan yang diajukan oleh Tweede Kamer ( parlemen ) , Blok 1 Maret 2017 UU Kewarganegaraan telah dilengkapi dengan landasan baru untuk pencabutan kewarganegaraan , yakni demi keamanan nasional . Ke kewenangan baru hanya bisa diterapkan pada orang yang selain memiliki kewarganegaraan Belanda , juga memiliki kewarganegaraan negara lain . kritik bahwa kebijakan terkesan diskriminatif .\n",
      "BLEU Score: 0.7636485056494392\n",
      "--------------------------------------------------\n",
      "Data 5:\n",
      "Input Asli: ['Rimanews - Muhamad Harisona ( 28 ) alias Hari , pengangguran warga Desa Petok Kecamatan Mojo Kabupaten Kediri , Jawa Timur ditangkap polisi karena mencuri laptop milik tetangga kosnya , Riska Panca ( 18 ) mahasiswa asal Blitar .', '\" Tersangka dengan korban ini sama-sama satu kos .', 'Mereka kos di rumah di rumah bu Siswandi .', 'Awalnya korban kehilangan notebook kemudian lapor polisi , \" kata Kasie Humas Polsek Pesantren , Aiptu H Supeni , seperti dikutip dari Tribratanews .', 'Saat polisi melakukan olah Tempat Kejadian Perkara , polisi menemukan bekas congkelan pada pintu kamar korban .', '\" Setelah dilakukan penyelidikan semua mengarah kepada tersangka , \" katanya .', 'Polisi juga mengamankan barang bukti lain antara lain sebilah sangkur , ujung patahan pisau , notebook merek Aacer , obeng , dan sepeda motor Honda Nopol AG 3604 G. Kini , pelaku mendekam di tahanan Mapolsek Pesantren .']\n",
      "Actual Summary: Muhamad Harisona ( 28 ) alias Hari , pengangguran warga Desa Petok Kecamatan Mojo Kabupaten Kediri , Jawa Timur ditangkap polisi karena mencuri laptop milik tetangga kosnya , Riska Panca ( 18 ) mahasiswa asal Blitar . Saat polisi melakukan olah Tempat Kejadian Perkara , polisi menemukan bekas congkelan pada pintu kamar korban . \" Setelah dilakukan penyelidikan semua mengarah kepada tersangka , \" katanya .\n",
      "Predicted Summary: Muhamad Harisona alias( 28 ) alias Hari , pengangguran warga Desa Petok Kecamatan Mojo Kabupaten Kediri , Jawa Timur ditangkap polisi karena mencuri laptop milik tetangga kosnya , Riska Panca ( 18 ) mahasiswa asal Blitar . Saat polisi melakukan olah Tempat Kejadian Perkara , polisi menemukan bekas congkelan pada pintu kamar korban . Setelah Setelah dilakukan penyelidikan semua mengarah kepada tersangka , \" katanya .\n",
      "BLEU Score: 0.9253094626403766\n",
      "--------------------------------------------------\n",
      "Average BLEU Score: 0.7907\n"
     ]
    }
   ],
   "source": [
    "import nltk\n",
    "from nltk.translate.bleu_score import sentence_bleu\n",
    "from transformers import Trainer\n",
    "\n",
    "# Menghitung BLEU score\n",
    "def compute_bleu(predicted, reference):\n",
    "    reference = [ref.split() for ref in reference]  # Tokenize reference\n",
    "    predicted = predicted.split()  # Tokenize prediction\n",
    "    return sentence_bleu(reference, predicted)\n",
    "\n",
    "# Ambil test dataset\n",
    "test_dataset = tokenized_datasets[\"test\"]\n",
    "\n",
    "# Menyiapkan Trainer\n",
    "trainer = Trainer(model=model)\n",
    "\n",
    "# small_test_dataset = test_dataset.select(range(150))  # Ambil 100 data pertama\n",
    "predictions = trainer.predict(test_dataset)\n",
    "\n",
    "predictions_array = predictions.predictions[0]\n",
    "\n",
    "predicted_ids = predictions_array.argmax(axis=-1)  # Memilih ID token dengan nilai tertinggi di setiap posisi token\n",
    "\n",
    "# Mengubah hasil prediksi menjadi list dan mendekode\n",
    "decoded_preds = tokenizer.batch_decode(predicted_ids, skip_special_tokens=True)\n",
    "\n",
    "# Mengambil label dari predictions.label_ids\n",
    "labels_array = predictions.label_ids\n",
    "decoded_labels = tokenizer.batch_decode(labels_array, skip_special_tokens=True)\n",
    "\n",
    "# Menyimpan BLEU scores\n",
    "bleu_scores = []\n",
    "num_samples = 5  # Ambil 5 sampel pertama\n",
    "\n",
    "# Menampilkan beberapa sampel dan BLEU score untuk masing-masing\n",
    "for i in range(num_samples):\n",
    "    input_text = test_dataset[i][\"document\"]\n",
    "    actual_summary = decoded_labels[i]\n",
    "    predicted_summary = decoded_preds[i]\n",
    "\n",
    "    bleu_score = compute_bleu(predicted_summary, [actual_summary])\n",
    "    bleu_scores.append(bleu_score)\n",
    "\n",
    "    # Menampilkan sampel\n",
    "    print(f\"Data {i+1}:\")\n",
    "    print(f\"Input Asli: {input_text}\")\n",
    "    print(f\"Actual Summary: {actual_summary}\")\n",
    "    print(f\"Predicted Summary: {predicted_summary}\")\n",
    "    print(f\"BLEU Score: {bleu_score}\")\n",
    "    print(\"-\" * 50)\n",
    "\n",
    "# Menghitung rata-rata BLEU score\n",
    "average_bleu_score = sum(bleu_scores) / len(bleu_scores)\n",
    "print(f\"Average BLEU Score: {average_bleu_score:.4f}\")\n"
   ]
  }
 ],
 "metadata": {
  "kernelspec": {
   "display_name": "coba",
   "language": "python",
   "name": "python3"
  },
  "language_info": {
   "codemirror_mode": {
    "name": "ipython",
    "version": 3
   },
   "file_extension": ".py",
   "mimetype": "text/x-python",
   "name": "python",
   "nbconvert_exporter": "python",
   "pygments_lexer": "ipython3",
   "version": "3.9.21"
  }
 },
 "nbformat": 4,
 "nbformat_minor": 2
}
