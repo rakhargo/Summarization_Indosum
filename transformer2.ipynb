{
 "cells": [
  {
   "cell_type": "code",
   "execution_count": 1,
   "metadata": {},
   "outputs": [
    {
     "name": "stderr",
     "output_type": "stream",
     "text": [
      "/home/rakhargo/miniconda3/envs/cudaTF/lib/python3.9/site-packages/tqdm/auto.py:21: TqdmWarning: IProgress not found. Please update jupyter and ipywidgets. See https://ipywidgets.readthedocs.io/en/stable/user_install.html\n",
      "  from .autonotebook import tqdm as notebook_tqdm\n"
     ]
    },
    {
     "name": "stdout",
     "output_type": "stream",
     "text": [
      "DatasetDict({\n",
      "    train: Dataset({\n",
      "        features: ['category', 'gold_labels', 'id', 'paragraphs', 'source', 'source_url', 'summary'],\n",
      "        num_rows: 14272\n",
      "    })\n",
      "    validation: Dataset({\n",
      "        features: ['category', 'gold_labels', 'id', 'paragraphs', 'source', 'source_url', 'summary'],\n",
      "        num_rows: 750\n",
      "    })\n",
      "    test: Dataset({\n",
      "        features: ['category', 'gold_labels', 'id', 'paragraphs', 'source', 'source_url', 'summary'],\n",
      "        num_rows: 3752\n",
      "    })\n",
      "})\n"
     ]
    }
   ],
   "source": [
    "from datasets import load_dataset\n",
    "\n",
    "data_files = {\n",
    "    \"train\": \"indosum/train.04.jsonl\",\n",
    "    \"validation\": \"indosum/dev.04.jsonl\",\n",
    "    \"test\": \"indosum/test.04.jsonl\",\n",
    "}\n",
    "\n",
    "# Muat dataset\n",
    "dataset = load_dataset(\"json\", data_files=data_files)\n",
    "print(dataset)"
   ]
  },
  {
   "cell_type": "markdown",
   "metadata": {},
   "source": [
    "\n",
    "\n",
    "Made changes."
   ]
  },
  {
   "cell_type": "code",
   "execution_count": 2,
   "metadata": {},
   "outputs": [
    {
     "name": "stdout",
     "output_type": "stream",
     "text": [
      "{'category': 'tajuk utama', 'gold_labels': [[True], [False], [False], [True], [False], [True, True], [False, False, False], [False, False, False], [False], [False, False]], 'id': '1512964800-dirut-bri-ingin-holding-bumn-jasa-keuangan-segera-', 'paragraphs': [[['Setelah', 'selesai', 'membentuk', 'holding', 'BUMN', 'pertambangan', ',', 'kini', 'pemerintah', 'tengah', 'menggarap', 'holding', '-', 'holding', 'lainnya', ',', 'salah', 'satunya', 'holding', 'BUMN', 'jasa', 'keuangan', '.']], [['PT', 'Danareksa', '(', 'Persero', ')', 'akan', 'menjadi', 'induk', 'holding', 'membawahi', '4', 'Bank', 'BUMN', ',', 'yaitu', 'BNI', ',', 'BRI', ',', 'BTN', ',', 'dan', 'Bank', 'Mandiri', '.']], [['Selain', 'itu', ',', 'perusahaan', 'pelat', 'merah', 'lain', 'yang', 'bergerak', 'di', 'sektor', 'jasa', 'keuangan', 'seperti', 'PT', 'Jalin', 'Pembayaran', 'Nusantara', '(', 'JPN', ')', ',', 'PT', 'Permodalan', 'Nasional', 'Madani', '(', 'Persero', ')', '(', 'PMN', ')', ',', 'dan', 'PT', 'Pegadaian', '(', 'Persero', ')', 'juga', 'akan', 'bergabung', 'di', 'dalam', 'holding', 'BUMN', 'jasa', 'keuangan', '.']], [['Direktur', 'Utama', 'PT', 'Bank', 'Rakyat', 'Indonesia', 'Tbk', '(', 'BBRI', ')', ',', 'Suprajarto', ',', 'berharap', 'pembentukan', 'holding', 'BUMN', 'jasa', 'keuangan', 'segera', 'terealisasi', '.']], [['\"', 'Kalau', 'saya', 'berharap', 'lebih', 'cepat', 'lebih', 'baik', 'karena', 'manfaatnya', 'banyak', ',', '\"', 'kata', 'Suprajarto', 'di', 'sela-sela', 'acara', 'BRI', 'Run', '2017', 'Bogor', 'Series', ',', 'Kebun', 'Raya', 'Bogor', ',', 'Minggu', '(', '10', '/', '12', ')', '.']], [['Orang', 'nomor', 'satu', 'BRI', 'ini', 'mengatakan', ',', 'jika', 'holding', 'jasa', 'keuangan', 'cepat', 'terbentuk', ',', 'pengadaan', 'ATM', 'bisa', 'jauh', 'lebih', 'efisien', 'secara', 'teknologi', 'dan', 'biaya', '.'], ['Selain', 'itu', ',', 'promosi', 'pun', 'bisa', 'dilakukan', 'bersama', 'dengan', 'bank-bank', 'negara', 'lainnya', 'atau', 'Himpunan', 'Bank', '-', 'bank', 'Milik', 'Negara', '(', 'Himbara', ')', '.']], [['\"', 'Kalau', 'dulu', ',', 'setiap', 'galeri', 'ATM', 'kita', 'mesti', 'pasang', '(', 'penangkap', 'sinyal', ')', 'Brisat', '(', 'satelit', 'milik', 'BRI', ')', '.'], ['Itu', 'mahal', 'lho', '.'], ['Kalau', 'sekarang', 'kan', 'Brisat', '-nya', 'satu', 'untuk', 'semua', ',', '\"', 'tuturnya', '.']], [['Suprajarto', 'berpendapat', ',', 'jika', 'ada', 'holding', 'nantinya', 'kompetisi', 'antar', 'bank', 'negara', 'bisa', 'diredam', '.'], ['\"', 'Soal', 'pricing', ',', 'dulu', 'kita', 'masih', 'kompetisi', '.'], ['Kalau', 'sudah', 'ada', 'holding', 'kan', 'selesai', 'urusannya', ',', '\"', 'lanjutnya', '.']], [['Ia', 'menambahkan', ',', 'posisi', 'Danareksa', 'sebagai', 'induk', 'holding', 'BUMN', 'jasa', 'keuangan', 'tidak', 'akan', 'mengganggu', 'operasional', 'bank', '.']], [['\"', 'Mereka', '(', 'Danareksa', ')', 'hanya', 'koordinator', 'saja', ',', 'strategic', 'holding', '.'], ['Mereka', 'tidak', 'berhak', 'ikut', 'camput', 'di', 'operasional', 'keempat', 'anggota', 'bank', ',', '\"', 'tutupnya', '.']]], 'source': 'kumparan', 'source_url': 'https://kumparan.com/@kumparanbisnis/dirut-bri-ingin-holding-bumn-jasa-keuangan-segera-terbentuk', 'summary': [['Setelah', 'selesai', 'membentuk', '\\xa0', 'holding', '\\xa0', 'BUMN', 'pertambangan', ',', 'kini', 'pemerintah', 'tengah', 'menggarap', 'holding', '-', 'holding', 'lainnya', ',', 'salah', 'satunya', '\\xa0', 'holding', '\\xa0', 'BUMN', 'jasa', 'keuangan', '.'], ['Direktur', 'Utama', 'BRI', ',', 'Suprajarto', ',', 'berharap', 'pembentukan', '\\xa0', 'holding', '\\xa0', 'BUMN', 'jasa', 'keuangan', 'segera', 'terealisasi', '.'], ['Jika', '\\xa0', 'holding', '\\xa0', 'jasa', 'keuangan', 'cepat', 'terbentuk', ',', 'pengadaan', 'ATM', 'bisa', 'jauh', 'lebih', 'efisien', 'secara', 'teknologi', 'dan', 'biaya', '.'], ['Promosi', 'pun', 'bisa', 'dilakukan', 'bersama', 'dengan', 'bank-bank', 'negara', 'lainnya', 'atau', 'Himpunan', 'Bank', '-', 'bank', 'Milik', 'Negara', '.']]}\n",
      "{'category': 'tajuk utama', 'gold_labels': [[True], [False], [False], [False, False], [True], [False, False], [False], [False], [False], [False], [False], [False, False], [False], [False, False]], 'id': '1519679780-demokrasi-makin-transaksional-ketua-dpr-galau', 'paragraphs': [[['Suara.com', '-', 'Ketua', 'DPR', 'RI', 'Bambang', 'Soesatyo', 'mengungkapkan', 'kegalauannya', 'melihat', 'perkembangan', 'demokrasi', 'di', 'Indonesia', 'yang', 'makin', 'mengarah', 'pada', 'demokrasi', 'transaksional', 'karena', 'berpotensi', 'mengancam', 'independensi', 'bangsa', 'Indonesia', '.']], [['Bambang', 'Soesatyo', 'mengatakan', 'hal', 'itu', 'dalam', 'sambutannya', 'ketika', 'menghadiri', 'acara', 'peresmian', 'Grha', 'Suara', 'Muhammadiyah', ',', 'di', 'Yogyakarta', ',', 'Minggu', '(', '25', '/', '2', '/', '2018', ')', ',', 'seperti', 'dikutip', 'melalui', 'siaran', 'persnya', '.']], [['Hadir', 'dalam', 'acara', 'tersebut', 'antara', 'lain', ',', 'Ketua', 'Umum', 'PP', 'Muhammadiyah', 'Haedar', 'Nashir', ',', 'mantan', 'Ketua', 'Umum', 'PP', 'Muhammadiyah', 'Buya', 'Ahmad', 'Syafii', 'Maarif', ',', 'Menkominfo', 'Rudiantara', ',', 'Mendikbud', 'Muhadjir', 'Effendy', ',', 'anggota', 'Fraksi', 'Partai', 'Golkar', 'DPR', 'RI', 'Mukhamad', 'Misbakhun', ',', 'anggota', 'Fraksi', 'Nasdem', 'DPR', 'RI', 'Ahmad', 'Syahroni', ',', 'Ketua', 'Umum', 'PP', 'Aisyah', 'Nurjanah', ',', 'Kapolda', 'DI', 'Yogyakarta', 'Brigjen', 'Pol', 'Ahmad', 'Dofiri', ',', 'serta', 'mantan', 'Ketua', 'KPK', 'Busyro', 'Muqoddas', '.']], [['\"', 'Saya', 'secara', 'khusus', 'meminta', 'kepada', 'Muhammadiyah', 'untuk', 'mengkaji', 'kembali', 'sistem', 'pemilihan', 'langsung', 'dalam', 'demokrasi', 'kita', ',', 'terutama', 'dalam', 'pilkada', '.'], ['Apakah', 'lebih', 'banyak', 'manfaatnya', 'atau', 'mudaratnya', 'bagi', 'rakyat', ',', '\"', 'kata', 'Bambang', 'Soesatyo', '.']], [['Menurut', 'Bambang', ',', 'demokrasi', 'transaksional', 'yang', 'mulai', 'tidak', 'terkendali', 'jika', 'terus', 'ini', 'dibiarkan', ',', 'maka', 'bukan', 'tidak', 'mungkin', 'suatu', 'saat', 'Indonesia', 'akan', 'dikuasai', 'para', 'pemilik', 'modal', ',', 'baik', 'secara', 'langsung', 'maupun', 'tidak', 'langsung', '.']], [['\"', 'Bisa', 'jadi', 'pada', '10', 'tahun', 'atau', '20', 'tahun', 'ke', 'depan', ',', 'Indonesia', 'tidak', 'lagi', 'memiliki', 'presiden', 'yang', 'akhiran', 'namanya', 'huruf', 'O', ',', 'eperti', 'Soekarno', ',', 'Soeharto', ',', 'Susilo', 'Bambang', 'Yudhoyono', ',', 'dan', 'Joko', 'Widodo', '.'], ['Karena', 'peran', 'para', 'pemilik', 'modal', 'semakin', 'mendominasi', ',', '\"', 'tegasnya', '.']], [['Pada', 'acara', 'tersebut', ',', 'Bamsoet', ',', 'panggilan', 'Bambang', 'Soesatyo', 'juga', 'secara', 'sepontan', 'mendapat', 'penghargaan', 'sebagai', 'warga', 'Muhammadiyah', 'yang', 'ditandai', 'dengan', 'pekamaian', 'baju', 'batik', 'Muhammadiyah', 'berwarna', 'hijau', 'dan', 'syal', 'warna', 'merah', 'bertuliskan', '\"', 'Suara', 'Muhammadiyah', '\"', '.']], [['Bamsoet', 'diberikan', 'penghargaan', 'sebagai', 'warga', 'Muhammadiyah', 'karena', 'pemikiran', 'serta', 'visi', 'dan', 'misinya', 'dinilai', 'sejalan', 'dengan', 'visi', 'dan', 'misi', 'Muhammadiyah', '.']], [['\"', 'Saya', 'bangga', 'menjadi', 'bagian', 'dari', 'keluarga', 'besar', 'Muhammadiyah', ',', 'walaupun', 'baru', 'hari', 'ini', 'saya', 'dipakaikan', 'baju', 'batik', 'Muhammadiyah', ',', '\"', 'katanya', '.']], [['Kemudian', ',', 'perihal', 'peresmian', 'gedung', 'Grha', 'Suara', 'Muhammadiyah', ',', 'Bamsoet', 'berharap', 'sarana', 'itu', 'makin', 'memajukan', 'Suara', 'Muhammadiyah', 'sebagai', 'media', 'kebanggaan', 'dari', 'seluruh', 'organisasi', 'kemasyarakatan', 'yang', 'didirikan', 'KH', 'Ahmad', 'Dahlan', '.']], [['Bamsoet', 'yang', 'pernah', 'berprofesi', 'sebagai', 'wartawan', 'menambahkan', ',', 'tantangan', 'bagi', 'bisnis', 'media', 'di', 'era', 'digital', 'saat', 'ini', 'makin', 'berat', '.']], [['\"', 'Media', 'konvensional', 'tidak', 'sedikit', 'yang', 'gulung', 'tikar', 'karena', 'tidak', 'dapat', 'menyesuaikan', 'perubahan', 'zaman', '.'], ['Saya', 'angkat', 'topi', 'karena', 'Suara', 'Muhammadiyah', 'yang', 'sudah', 'berusia', '103', 'tahun', 'tetap', 'bertahan', 'dan', 'menjadi', 'media', 'terlama', 'yang', 'masih', 'terbit', ',', '\"', 'ujar', 'Bamsoet', '.']], [['Bamsoet', 'juga', 'berpesan', 'agar', 'Suara', 'Muhammadiyah', 'tidak', 'berhenti', 'berikhtiar', 'dan', 'melakukan', 'terobosan', 'untuk', 'pembangunan', 'bangsa', '.']], [['Apalagi', ',', 'Suara', 'Muhammadiyah', 'juga', 'menerima', 'penghargaan', 'sebagai', 'Media', 'Dakwah', 'Perjuangan', 'Kemerdekaan', 'RI', 'dalam', 'Bahasa', 'Indonesia', ',', 'pada', 'Hari', 'Pers', 'Nasional', '2018', '.'], ['(', 'Antara', ')']]], 'source': 'suara', 'source_url': 'https://www.suara.com/news/2018/02/26/060000/demokrasi-makin-transaksional-ketua-dpr-galau', 'summary': [['Ketua', 'DPR', 'RI', ',', 'Bambang', 'Soesatyo', ',', 'mengungkapkan', 'kegalauannya', 'melihat', 'perkembangan', 'demokrasi', 'di', 'Indonesia', 'yang', 'makin', 'mengarah', 'pada', 'demokrasi', 'transaksional', 'karena', 'berpotensi', 'mengancam', 'independensi', 'bangsa', 'Indonesia', '.'], ['Menurut', 'Bambang', ',', 'demokrasi', 'transaksional', 'yang', 'mulai', 'tidak', 'terkendali', 'jika', 'terus', 'ini', 'dibiarkan', ',', 'maka', 'bukan', 'tidak', 'mungkin', 'suatu', 'saat', 'Indonesia', 'akan', 'dikuasai', 'para', 'pemilik', 'modal', ',', 'baik', 'secara', 'langsung', 'maupun', 'tidak', 'langsung', '.']]}\n",
      "{'category': 'tajuk utama', 'gold_labels': [[True], [False, False, False], [False], [True], [True], [False], [False], [False], [False, False], [False], [False, False, False], [False, False], [False]], 'id': '1504151262-wiranto-yakin-uang-bos-first-travel-bisa-ditemukan', 'paragraphs': [[['Jakarta', ',', 'CNN', 'Indonesia', '-', '-', 'Menteri', 'Koordinator', 'bidang', 'Politik', ',', 'Hukum', ',', 'dan', 'Keamanan', '(', 'Menko', 'Polhukam', ')', 'Wiranto', 'yakin', 'uang', 'jemaah', 'yang', 'dikumpulkan', 'bos', 'First', 'Travel', ',', 'Andika', 'Surachman', 'dan', 'Anniesa', 'Hasibuan', ',', 'bisa', 'ditemukan', '.']], [['\"', 'Uang', 'itu', 'kan', 'cuma', 'pindah', 'tempat', ',', 'enggak', 'ada', 'uang', 'menguap', ',', 'itu', 'enggak', 'ada', '.'], ['Enggak', 'ada', 'tiba-tiba', 'uang', 'hilang', 'menguap', ',', 'mesti', 'pindah', 'tempat', '.'], ['Kita', 'cari', 'itu', ',', '\"', 'ujar', 'Wiranto', 'di', 'Hotel', 'Arya', 'Duta', ',', 'Jakarta', ',', 'Rabu', '\\xa0', '(', '30', '/', '8', ')', '.']], [['Pernyataan', 'Wiranto', 'itu', 'merujuk', 'tipisnya', 'jumlah', 'dana', 'yang', 'berada', 'di', 'rekening', 'bos', 'First', 'Travel', ',', 'sementara', 'jemaah', 'yang', 'dana', 'keberangkatan', 'umrahnya', 'ditilap', 'mencapai', 'sekitar', 'Rp', '848', 'miliar', '.']], [['Wiranto', 'mengatakan', ',', 'uang', 'yang', 'diambil', 'bos', 'First', 'Travel', 'tersebut', 'penting', 'untuk', 'ditemukan', 'karena', 'harus', 'dikembalikan', 'kepada', 'para', 'jemaah', 'yang', 'telah', 'ditipu', '.']], [['Mantan', 'Panglima', 'ABRI', 'itu', 'juga', 'menyampaikan', ',', 'First', 'Travel', 'tetap', 'menjadi', 'pihak', 'yang', 'harus', 'bertanggung', 'jawab', 'untuk', 'mengembalikan', 'uang', 'para', 'jemaah', '.']], [['\"', 'Yang', 'gantinya', 'siapa', 'yang', 'merugikan', 'rakyat', ',', 'lagi', 'dilihat', 'asetnya', 'gimana', ',', '\"', 'ujarnya', '.']], [['Kemarin', ',', 'kata', 'Wiranto', 'dirinya', 'telah', 'melakukan', 'koordinasi', 'dengan', 'beberapa', 'pihak', 'seperti', 'Kementerian', 'Agama', ',', 'Kementerian', 'Hukum', 'dan', 'HAM', ',', 'Pusat', 'Pelaporan', 'Analisis', 'Transaksi', 'Keuangan', '(', 'PPATK', ')', ',', 'Otoritas', 'Jasa', 'Keuangan', '(', 'OJK', ')', 'dan', 'Bareskrim', 'Polri', '.']], [['Pertemuan', 'itu', ',', 'ia', 'melanjutkan', ',', 'dalam', 'rangka', 'membuat', 'sebuah', 'tim', 'kecil', 'yang', 'akan', 'mengkaji', 'tentang', 'kasus', 'First', 'Travel', '\\xa0', 'tersebut', ',', 'mulai', 'dari', 'penelusuran', 'aset', 'hingga', 'tindakan', 'yang', 'harus', 'ditempuh', 'kepolisian', '.']], [['\"', 'Asetnya', 'berapa', 'yang', 'masih', 'ada', ',', 'lalu', 'berapa', 'nasabahnya', 'yang', 'ada', ',', 'langkah-langkah', 'apa', 'yang', 'sudah', 'dilakukan', 'dan', 'belum', 'dilakukan', '.'], ['Enggak', 'sembarangan', 'jadi', 'harus', 'lengkap', 'dulu', 'baru', 'ada', 'tindakan', 'dari', 'kepolisian', ',', '\"', 'tutur', 'Wiranto', '.']], [['Sebelumnya', 'dalam', 'kesempatan', 'terpisah', ',', 'Pusat', 'Pelaporan', 'Analisis', 'Transaksi', 'Keuangan', '(', 'PPATK', ')', 'menyatakan', ',', 'bos', 'First', 'Travel', ',', 'Andika', 'Surachman', 'dan', 'Anniesa', 'Hasibuan', 'masih', 'memiliki', 'kekayaan', 'miliaran', 'rupiah', '.']], [['Kepala', 'PPATK', 'Kiagus', 'Ahmad', 'Badaruddin', 'mengatakan', ',', 'sisa', 'kekayaan', 'Andika', 'dan', 'Anniesa', 'senilai', 'Rp', '7', 'miliar', '.'], ['Hal', 'itu', 'berdasarkan', '50', 'rekening', 'yang', 'ditemukan', 'PPATK', '.'], ['Tak', 'semua', 'rekening', 'tersebut', 'atas', 'nama', 'Andika', 'dan', 'Anniesa', '.']], [['\"', 'Ada', 'sisa', 'dana', 'dari', 'rekening', '.'], ['Kami', 'sudah', 'menutup', '50', 'rekening', 'yang', 'di', 'dalamnya', 'terdapat', 'dana', 'Rp', '7', 'miliar', ',', '\"', 'kata', 'Kiagus', 'di', 'Kantor', 'PPATK', ',', 'Selasa', '(', '29', '/', '8', ')', '.']], [['Sisa', 'kekayaan', 'miliaran', 'rupiah', 'milik', 'First', 'Travel', ',', 'menurut', 'Kiagus', ',', 'berupa', 'mata', 'uang', 'rupiah', 'dan', 'asuransi', '.']]], 'source': 'cnn indonesia', 'source_url': 'https://www.cnnindonesia.com/nasional/20170830142535-12-238358/wiranto-yakin-uang-bos-first-travel-bisa-ditemukan/', 'summary': [['Menteri', 'Koordinator', 'bidang', 'Politik', ',', 'Hukum', ',', 'dan', 'Keamanan', 'Wiranto', 'yakin', 'uang', 'jemaah', 'yang', 'dikumpulkan', 'bos', '\\xa0', 'First', 'Travel', ',', 'bisa', 'ditemukan', '.'], ['Wiranto', 'mengatakan', ',', 'uang', 'yang', 'diambil', 'bos', 'First', 'Travel', 'tersebut', 'penting', 'untuk', 'ditemukan', 'karena', 'harus', 'dikembalikan', 'kepada', 'para', 'jemaah', 'yang', 'telah', 'ditipu', '.'], ['Mantan', 'Panglima', 'ABRI', 'itu', 'juga', 'menyampaikan', ',', 'First', 'Travel', 'tetap', 'menjadi', 'pihak', 'yang', 'harus', 'bertanggung', 'jawab', 'untuk', 'mengembalikan', 'uang', 'para', 'jemaah', '.']]}\n"
     ]
    }
   ],
   "source": [
    "train_data = dataset['train']\n",
    "print(train_data[0])\n",
    "\n",
    "validation_data = dataset['validation']\n",
    "print(validation_data[0])\n",
    "\n",
    "test_data = dataset['test']\n",
    "print(test_data[0])"
   ]
  },
  {
   "cell_type": "code",
   "execution_count": 3,
   "metadata": {},
   "outputs": [],
   "source": [
    "def join_data(dataset):\n",
    "    documents = []\n",
    "    summaries = []\n",
    "    for item in dataset:\n",
    "        document = [\" \".join(sent) for para in item[\"paragraphs\"] for sent in para]\n",
    "        summary = \" \".join([\" \".join(sent) for sent in item[\"summary\"]])\n",
    "        \n",
    "        documents.append(document)\n",
    "        summaries.append(summary)\n",
    "    \n",
    "    return documents, summaries\n",
    "\n",
    "# Memproses data\n",
    "train_docs, train_summaries = join_data(train_data)\n",
    "val_docs, val_summaries = join_data(validation_data)\n",
    "test_docs, test_summaries = join_data(test_data)"
   ]
  },
  {
   "cell_type": "code",
   "execution_count": 4,
   "metadata": {},
   "outputs": [
    {
     "name": "stdout",
     "output_type": "stream",
     "text": [
      "['Setelah selesai membentuk holding BUMN pertambangan , kini pemerintah tengah menggarap holding - holding lainnya , salah satunya holding BUMN jasa keuangan .', 'PT Danareksa ( Persero ) akan menjadi induk holding membawahi 4 Bank BUMN , yaitu BNI , BRI , BTN , dan Bank Mandiri .', 'Selain itu , perusahaan pelat merah lain yang bergerak di sektor jasa keuangan seperti PT Jalin Pembayaran Nusantara ( JPN ) , PT Permodalan Nasional Madani ( Persero ) ( PMN ) , dan PT Pegadaian ( Persero ) juga akan bergabung di dalam holding BUMN jasa keuangan .', 'Direktur Utama PT Bank Rakyat Indonesia Tbk ( BBRI ) , Suprajarto , berharap pembentukan holding BUMN jasa keuangan segera terealisasi .', '\" Kalau saya berharap lebih cepat lebih baik karena manfaatnya banyak , \" kata Suprajarto di sela-sela acara BRI Run 2017 Bogor Series , Kebun Raya Bogor , Minggu ( 10 / 12 ) .', 'Orang nomor satu BRI ini mengatakan , jika holding jasa keuangan cepat terbentuk , pengadaan ATM bisa jauh lebih efisien secara teknologi dan biaya .', 'Selain itu , promosi pun bisa dilakukan bersama dengan bank-bank negara lainnya atau Himpunan Bank - bank Milik Negara ( Himbara ) .', '\" Kalau dulu , setiap galeri ATM kita mesti pasang ( penangkap sinyal ) Brisat ( satelit milik BRI ) .', 'Itu mahal lho .', 'Kalau sekarang kan Brisat -nya satu untuk semua , \" tuturnya .', 'Suprajarto berpendapat , jika ada holding nantinya kompetisi antar bank negara bisa diredam .', '\" Soal pricing , dulu kita masih kompetisi .', 'Kalau sudah ada holding kan selesai urusannya , \" lanjutnya .', 'Ia menambahkan , posisi Danareksa sebagai induk holding BUMN jasa keuangan tidak akan mengganggu operasional bank .', '\" Mereka ( Danareksa ) hanya koordinator saja , strategic holding .', 'Mereka tidak berhak ikut camput di operasional keempat anggota bank , \" tutupnya .']\n",
      "Setelah selesai membentuk   holding   BUMN pertambangan , kini pemerintah tengah menggarap holding - holding lainnya , salah satunya   holding   BUMN jasa keuangan . Direktur Utama BRI , Suprajarto , berharap pembentukan   holding   BUMN jasa keuangan segera terealisasi . Jika   holding   jasa keuangan cepat terbentuk , pengadaan ATM bisa jauh lebih efisien secara teknologi dan biaya . Promosi pun bisa dilakukan bersama dengan bank-bank negara lainnya atau Himpunan Bank - bank Milik Negara .\n"
     ]
    },
    {
     "data": {
      "text/plain": [
       "14272"
      ]
     },
     "execution_count": 4,
     "metadata": {},
     "output_type": "execute_result"
    }
   ],
   "source": [
    "print(train_docs[0])\n",
    "print(train_summaries[0])\n",
    "len(train_docs)"
   ]
  },
  {
   "cell_type": "code",
   "execution_count": null,
   "metadata": {},
   "outputs": [],
   "source": []
  }
 ],
 "metadata": {
  "kernelspec": {
   "display_name": "cudaTF",
   "language": "python",
   "name": "python3"
  },
  "language_info": {
   "codemirror_mode": {
    "name": "ipython",
    "version": 3
   },
   "file_extension": ".py",
   "mimetype": "text/x-python",
   "name": "python",
   "nbconvert_exporter": "python",
   "pygments_lexer": "ipython3",
   "version": "3.9.20"
  }
 },
 "nbformat": 4,
 "nbformat_minor": 2
}
