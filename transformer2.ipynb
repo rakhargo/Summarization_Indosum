{
 "cells": [
  {
   "cell_type": "code",
   "execution_count": 1,
   "metadata": {},
   "outputs": [
    {
     "name": "stderr",
     "output_type": "stream",
     "text": [
      "/home/rakhargo/miniconda3/envs/cudaTF/lib/python3.9/site-packages/tqdm/auto.py:21: TqdmWarning: IProgress not found. Please update jupyter and ipywidgets. See https://ipywidgets.readthedocs.io/en/stable/user_install.html\n",
      "  from .autonotebook import tqdm as notebook_tqdm\n"
     ]
    },
    {
     "name": "stdout",
     "output_type": "stream",
     "text": [
      "DatasetDict({\n",
      "    train: Dataset({\n",
      "        features: ['category', 'gold_labels', 'id', 'paragraphs', 'source', 'source_url', 'summary'],\n",
      "        num_rows: 14272\n",
      "    })\n",
      "    validation: Dataset({\n",
      "        features: ['category', 'gold_labels', 'id', 'paragraphs', 'source', 'source_url', 'summary'],\n",
      "        num_rows: 750\n",
      "    })\n",
      "    test: Dataset({\n",
      "        features: ['category', 'gold_labels', 'id', 'paragraphs', 'source', 'source_url', 'summary'],\n",
      "        num_rows: 3752\n",
      "    })\n",
      "})\n"
     ]
    }
   ],
   "source": [
    "from datasets import load_dataset\n",
    "\n",
    "data_files = {\n",
    "    \"train\": \"indosum/train.04.jsonl\",\n",
    "    \"validation\": \"indosum/dev.04.jsonl\",\n",
    "    \"test\": \"indosum/test.04.jsonl\",   \n",
    "}\n",
    "\n",
    "# Muat dataset\n",
    "dataset = load_dataset(\"json\", data_files=data_files)\n",
    "print(dataset)"
   ]
  },
  {
   "cell_type": "code",
   "execution_count": 2,
   "metadata": {},
   "outputs": [
    {
     "name": "stdout",
     "output_type": "stream",
     "text": [
      "{'category': 'tajuk utama', 'gold_labels': [[True], [False], [False], [True], [False], [True, True], [False, False, False], [False, False, False], [False], [False, False]], 'id': '1512964800-dirut-bri-ingin-holding-bumn-jasa-keuangan-segera-', 'paragraphs': [[['Setelah', 'selesai', 'membentuk', 'holding', 'BUMN', 'pertambangan', ',', 'kini', 'pemerintah', 'tengah', 'menggarap', 'holding', '-', 'holding', 'lainnya', ',', 'salah', 'satunya', 'holding', 'BUMN', 'jasa', 'keuangan', '.']], [['PT', 'Danareksa', '(', 'Persero', ')', 'akan', 'menjadi', 'induk', 'holding', 'membawahi', '4', 'Bank', 'BUMN', ',', 'yaitu', 'BNI', ',', 'BRI', ',', 'BTN', ',', 'dan', 'Bank', 'Mandiri', '.']], [['Selain', 'itu', ',', 'perusahaan', 'pelat', 'merah', 'lain', 'yang', 'bergerak', 'di', 'sektor', 'jasa', 'keuangan', 'seperti', 'PT', 'Jalin', 'Pembayaran', 'Nusantara', '(', 'JPN', ')', ',', 'PT', 'Permodalan', 'Nasional', 'Madani', '(', 'Persero', ')', '(', 'PMN', ')', ',', 'dan', 'PT', 'Pegadaian', '(', 'Persero', ')', 'juga', 'akan', 'bergabung', 'di', 'dalam', 'holding', 'BUMN', 'jasa', 'keuangan', '.']], [['Direktur', 'Utama', 'PT', 'Bank', 'Rakyat', 'Indonesia', 'Tbk', '(', 'BBRI', ')', ',', 'Suprajarto', ',', 'berharap', 'pembentukan', 'holding', 'BUMN', 'jasa', 'keuangan', 'segera', 'terealisasi', '.']], [['\"', 'Kalau', 'saya', 'berharap', 'lebih', 'cepat', 'lebih', 'baik', 'karena', 'manfaatnya', 'banyak', ',', '\"', 'kata', 'Suprajarto', 'di', 'sela-sela', 'acara', 'BRI', 'Run', '2017', 'Bogor', 'Series', ',', 'Kebun', 'Raya', 'Bogor', ',', 'Minggu', '(', '10', '/', '12', ')', '.']], [['Orang', 'nomor', 'satu', 'BRI', 'ini', 'mengatakan', ',', 'jika', 'holding', 'jasa', 'keuangan', 'cepat', 'terbentuk', ',', 'pengadaan', 'ATM', 'bisa', 'jauh', 'lebih', 'efisien', 'secara', 'teknologi', 'dan', 'biaya', '.'], ['Selain', 'itu', ',', 'promosi', 'pun', 'bisa', 'dilakukan', 'bersama', 'dengan', 'bank-bank', 'negara', 'lainnya', 'atau', 'Himpunan', 'Bank', '-', 'bank', 'Milik', 'Negara', '(', 'Himbara', ')', '.']], [['\"', 'Kalau', 'dulu', ',', 'setiap', 'galeri', 'ATM', 'kita', 'mesti', 'pasang', '(', 'penangkap', 'sinyal', ')', 'Brisat', '(', 'satelit', 'milik', 'BRI', ')', '.'], ['Itu', 'mahal', 'lho', '.'], ['Kalau', 'sekarang', 'kan', 'Brisat', '-nya', 'satu', 'untuk', 'semua', ',', '\"', 'tuturnya', '.']], [['Suprajarto', 'berpendapat', ',', 'jika', 'ada', 'holding', 'nantinya', 'kompetisi', 'antar', 'bank', 'negara', 'bisa', 'diredam', '.'], ['\"', 'Soal', 'pricing', ',', 'dulu', 'kita', 'masih', 'kompetisi', '.'], ['Kalau', 'sudah', 'ada', 'holding', 'kan', 'selesai', 'urusannya', ',', '\"', 'lanjutnya', '.']], [['Ia', 'menambahkan', ',', 'posisi', 'Danareksa', 'sebagai', 'induk', 'holding', 'BUMN', 'jasa', 'keuangan', 'tidak', 'akan', 'mengganggu', 'operasional', 'bank', '.']], [['\"', 'Mereka', '(', 'Danareksa', ')', 'hanya', 'koordinator', 'saja', ',', 'strategic', 'holding', '.'], ['Mereka', 'tidak', 'berhak', 'ikut', 'camput', 'di', 'operasional', 'keempat', 'anggota', 'bank', ',', '\"', 'tutupnya', '.']]], 'source': 'kumparan', 'source_url': 'https://kumparan.com/@kumparanbisnis/dirut-bri-ingin-holding-bumn-jasa-keuangan-segera-terbentuk', 'summary': [['Setelah', 'selesai', 'membentuk', '\\xa0', 'holding', '\\xa0', 'BUMN', 'pertambangan', ',', 'kini', 'pemerintah', 'tengah', 'menggarap', 'holding', '-', 'holding', 'lainnya', ',', 'salah', 'satunya', '\\xa0', 'holding', '\\xa0', 'BUMN', 'jasa', 'keuangan', '.'], ['Direktur', 'Utama', 'BRI', ',', 'Suprajarto', ',', 'berharap', 'pembentukan', '\\xa0', 'holding', '\\xa0', 'BUMN', 'jasa', 'keuangan', 'segera', 'terealisasi', '.'], ['Jika', '\\xa0', 'holding', '\\xa0', 'jasa', 'keuangan', 'cepat', 'terbentuk', ',', 'pengadaan', 'ATM', 'bisa', 'jauh', 'lebih', 'efisien', 'secara', 'teknologi', 'dan', 'biaya', '.'], ['Promosi', 'pun', 'bisa', 'dilakukan', 'bersama', 'dengan', 'bank-bank', 'negara', 'lainnya', 'atau', 'Himpunan', 'Bank', '-', 'bank', 'Milik', 'Negara', '.']]}\n",
      "{'category': 'tajuk utama', 'gold_labels': [[True], [False], [False], [False, False], [True], [False, False], [False], [False], [False], [False], [False], [False, False], [False], [False, False]], 'id': '1519679780-demokrasi-makin-transaksional-ketua-dpr-galau', 'paragraphs': [[['Suara.com', '-', 'Ketua', 'DPR', 'RI', 'Bambang', 'Soesatyo', 'mengungkapkan', 'kegalauannya', 'melihat', 'perkembangan', 'demokrasi', 'di', 'Indonesia', 'yang', 'makin', 'mengarah', 'pada', 'demokrasi', 'transaksional', 'karena', 'berpotensi', 'mengancam', 'independensi', 'bangsa', 'Indonesia', '.']], [['Bambang', 'Soesatyo', 'mengatakan', 'hal', 'itu', 'dalam', 'sambutannya', 'ketika', 'menghadiri', 'acara', 'peresmian', 'Grha', 'Suara', 'Muhammadiyah', ',', 'di', 'Yogyakarta', ',', 'Minggu', '(', '25', '/', '2', '/', '2018', ')', ',', 'seperti', 'dikutip', 'melalui', 'siaran', 'persnya', '.']], [['Hadir', 'dalam', 'acara', 'tersebut', 'antara', 'lain', ',', 'Ketua', 'Umum', 'PP', 'Muhammadiyah', 'Haedar', 'Nashir', ',', 'mantan', 'Ketua', 'Umum', 'PP', 'Muhammadiyah', 'Buya', 'Ahmad', 'Syafii', 'Maarif', ',', 'Menkominfo', 'Rudiantara', ',', 'Mendikbud', 'Muhadjir', 'Effendy', ',', 'anggota', 'Fraksi', 'Partai', 'Golkar', 'DPR', 'RI', 'Mukhamad', 'Misbakhun', ',', 'anggota', 'Fraksi', 'Nasdem', 'DPR', 'RI', 'Ahmad', 'Syahroni', ',', 'Ketua', 'Umum', 'PP', 'Aisyah', 'Nurjanah', ',', 'Kapolda', 'DI', 'Yogyakarta', 'Brigjen', 'Pol', 'Ahmad', 'Dofiri', ',', 'serta', 'mantan', 'Ketua', 'KPK', 'Busyro', 'Muqoddas', '.']], [['\"', 'Saya', 'secara', 'khusus', 'meminta', 'kepada', 'Muhammadiyah', 'untuk', 'mengkaji', 'kembali', 'sistem', 'pemilihan', 'langsung', 'dalam', 'demokrasi', 'kita', ',', 'terutama', 'dalam', 'pilkada', '.'], ['Apakah', 'lebih', 'banyak', 'manfaatnya', 'atau', 'mudaratnya', 'bagi', 'rakyat', ',', '\"', 'kata', 'Bambang', 'Soesatyo', '.']], [['Menurut', 'Bambang', ',', 'demokrasi', 'transaksional', 'yang', 'mulai', 'tidak', 'terkendali', 'jika', 'terus', 'ini', 'dibiarkan', ',', 'maka', 'bukan', 'tidak', 'mungkin', 'suatu', 'saat', 'Indonesia', 'akan', 'dikuasai', 'para', 'pemilik', 'modal', ',', 'baik', 'secara', 'langsung', 'maupun', 'tidak', 'langsung', '.']], [['\"', 'Bisa', 'jadi', 'pada', '10', 'tahun', 'atau', '20', 'tahun', 'ke', 'depan', ',', 'Indonesia', 'tidak', 'lagi', 'memiliki', 'presiden', 'yang', 'akhiran', 'namanya', 'huruf', 'O', ',', 'eperti', 'Soekarno', ',', 'Soeharto', ',', 'Susilo', 'Bambang', 'Yudhoyono', ',', 'dan', 'Joko', 'Widodo', '.'], ['Karena', 'peran', 'para', 'pemilik', 'modal', 'semakin', 'mendominasi', ',', '\"', 'tegasnya', '.']], [['Pada', 'acara', 'tersebut', ',', 'Bamsoet', ',', 'panggilan', 'Bambang', 'Soesatyo', 'juga', 'secara', 'sepontan', 'mendapat', 'penghargaan', 'sebagai', 'warga', 'Muhammadiyah', 'yang', 'ditandai', 'dengan', 'pekamaian', 'baju', 'batik', 'Muhammadiyah', 'berwarna', 'hijau', 'dan', 'syal', 'warna', 'merah', 'bertuliskan', '\"', 'Suara', 'Muhammadiyah', '\"', '.']], [['Bamsoet', 'diberikan', 'penghargaan', 'sebagai', 'warga', 'Muhammadiyah', 'karena', 'pemikiran', 'serta', 'visi', 'dan', 'misinya', 'dinilai', 'sejalan', 'dengan', 'visi', 'dan', 'misi', 'Muhammadiyah', '.']], [['\"', 'Saya', 'bangga', 'menjadi', 'bagian', 'dari', 'keluarga', 'besar', 'Muhammadiyah', ',', 'walaupun', 'baru', 'hari', 'ini', 'saya', 'dipakaikan', 'baju', 'batik', 'Muhammadiyah', ',', '\"', 'katanya', '.']], [['Kemudian', ',', 'perihal', 'peresmian', 'gedung', 'Grha', 'Suara', 'Muhammadiyah', ',', 'Bamsoet', 'berharap', 'sarana', 'itu', 'makin', 'memajukan', 'Suara', 'Muhammadiyah', 'sebagai', 'media', 'kebanggaan', 'dari', 'seluruh', 'organisasi', 'kemasyarakatan', 'yang', 'didirikan', 'KH', 'Ahmad', 'Dahlan', '.']], [['Bamsoet', 'yang', 'pernah', 'berprofesi', 'sebagai', 'wartawan', 'menambahkan', ',', 'tantangan', 'bagi', 'bisnis', 'media', 'di', 'era', 'digital', 'saat', 'ini', 'makin', 'berat', '.']], [['\"', 'Media', 'konvensional', 'tidak', 'sedikit', 'yang', 'gulung', 'tikar', 'karena', 'tidak', 'dapat', 'menyesuaikan', 'perubahan', 'zaman', '.'], ['Saya', 'angkat', 'topi', 'karena', 'Suara', 'Muhammadiyah', 'yang', 'sudah', 'berusia', '103', 'tahun', 'tetap', 'bertahan', 'dan', 'menjadi', 'media', 'terlama', 'yang', 'masih', 'terbit', ',', '\"', 'ujar', 'Bamsoet', '.']], [['Bamsoet', 'juga', 'berpesan', 'agar', 'Suara', 'Muhammadiyah', 'tidak', 'berhenti', 'berikhtiar', 'dan', 'melakukan', 'terobosan', 'untuk', 'pembangunan', 'bangsa', '.']], [['Apalagi', ',', 'Suara', 'Muhammadiyah', 'juga', 'menerima', 'penghargaan', 'sebagai', 'Media', 'Dakwah', 'Perjuangan', 'Kemerdekaan', 'RI', 'dalam', 'Bahasa', 'Indonesia', ',', 'pada', 'Hari', 'Pers', 'Nasional', '2018', '.'], ['(', 'Antara', ')']]], 'source': 'suara', 'source_url': 'https://www.suara.com/news/2018/02/26/060000/demokrasi-makin-transaksional-ketua-dpr-galau', 'summary': [['Ketua', 'DPR', 'RI', ',', 'Bambang', 'Soesatyo', ',', 'mengungkapkan', 'kegalauannya', 'melihat', 'perkembangan', 'demokrasi', 'di', 'Indonesia', 'yang', 'makin', 'mengarah', 'pada', 'demokrasi', 'transaksional', 'karena', 'berpotensi', 'mengancam', 'independensi', 'bangsa', 'Indonesia', '.'], ['Menurut', 'Bambang', ',', 'demokrasi', 'transaksional', 'yang', 'mulai', 'tidak', 'terkendali', 'jika', 'terus', 'ini', 'dibiarkan', ',', 'maka', 'bukan', 'tidak', 'mungkin', 'suatu', 'saat', 'Indonesia', 'akan', 'dikuasai', 'para', 'pemilik', 'modal', ',', 'baik', 'secara', 'langsung', 'maupun', 'tidak', 'langsung', '.']]}\n",
      "{'category': 'tajuk utama', 'gold_labels': [[True], [False, False, False], [False], [True], [True], [False], [False], [False], [False, False], [False], [False, False, False], [False, False], [False]], 'id': '1504151262-wiranto-yakin-uang-bos-first-travel-bisa-ditemukan', 'paragraphs': [[['Jakarta', ',', 'CNN', 'Indonesia', '-', '-', 'Menteri', 'Koordinator', 'bidang', 'Politik', ',', 'Hukum', ',', 'dan', 'Keamanan', '(', 'Menko', 'Polhukam', ')', 'Wiranto', 'yakin', 'uang', 'jemaah', 'yang', 'dikumpulkan', 'bos', 'First', 'Travel', ',', 'Andika', 'Surachman', 'dan', 'Anniesa', 'Hasibuan', ',', 'bisa', 'ditemukan', '.']], [['\"', 'Uang', 'itu', 'kan', 'cuma', 'pindah', 'tempat', ',', 'enggak', 'ada', 'uang', 'menguap', ',', 'itu', 'enggak', 'ada', '.'], ['Enggak', 'ada', 'tiba-tiba', 'uang', 'hilang', 'menguap', ',', 'mesti', 'pindah', 'tempat', '.'], ['Kita', 'cari', 'itu', ',', '\"', 'ujar', 'Wiranto', 'di', 'Hotel', 'Arya', 'Duta', ',', 'Jakarta', ',', 'Rabu', '\\xa0', '(', '30', '/', '8', ')', '.']], [['Pernyataan', 'Wiranto', 'itu', 'merujuk', 'tipisnya', 'jumlah', 'dana', 'yang', 'berada', 'di', 'rekening', 'bos', 'First', 'Travel', ',', 'sementara', 'jemaah', 'yang', 'dana', 'keberangkatan', 'umrahnya', 'ditilap', 'mencapai', 'sekitar', 'Rp', '848', 'miliar', '.']], [['Wiranto', 'mengatakan', ',', 'uang', 'yang', 'diambil', 'bos', 'First', 'Travel', 'tersebut', 'penting', 'untuk', 'ditemukan', 'karena', 'harus', 'dikembalikan', 'kepada', 'para', 'jemaah', 'yang', 'telah', 'ditipu', '.']], [['Mantan', 'Panglima', 'ABRI', 'itu', 'juga', 'menyampaikan', ',', 'First', 'Travel', 'tetap', 'menjadi', 'pihak', 'yang', 'harus', 'bertanggung', 'jawab', 'untuk', 'mengembalikan', 'uang', 'para', 'jemaah', '.']], [['\"', 'Yang', 'gantinya', 'siapa', 'yang', 'merugikan', 'rakyat', ',', 'lagi', 'dilihat', 'asetnya', 'gimana', ',', '\"', 'ujarnya', '.']], [['Kemarin', ',', 'kata', 'Wiranto', 'dirinya', 'telah', 'melakukan', 'koordinasi', 'dengan', 'beberapa', 'pihak', 'seperti', 'Kementerian', 'Agama', ',', 'Kementerian', 'Hukum', 'dan', 'HAM', ',', 'Pusat', 'Pelaporan', 'Analisis', 'Transaksi', 'Keuangan', '(', 'PPATK', ')', ',', 'Otoritas', 'Jasa', 'Keuangan', '(', 'OJK', ')', 'dan', 'Bareskrim', 'Polri', '.']], [['Pertemuan', 'itu', ',', 'ia', 'melanjutkan', ',', 'dalam', 'rangka', 'membuat', 'sebuah', 'tim', 'kecil', 'yang', 'akan', 'mengkaji', 'tentang', 'kasus', 'First', 'Travel', '\\xa0', 'tersebut', ',', 'mulai', 'dari', 'penelusuran', 'aset', 'hingga', 'tindakan', 'yang', 'harus', 'ditempuh', 'kepolisian', '.']], [['\"', 'Asetnya', 'berapa', 'yang', 'masih', 'ada', ',', 'lalu', 'berapa', 'nasabahnya', 'yang', 'ada', ',', 'langkah-langkah', 'apa', 'yang', 'sudah', 'dilakukan', 'dan', 'belum', 'dilakukan', '.'], ['Enggak', 'sembarangan', 'jadi', 'harus', 'lengkap', 'dulu', 'baru', 'ada', 'tindakan', 'dari', 'kepolisian', ',', '\"', 'tutur', 'Wiranto', '.']], [['Sebelumnya', 'dalam', 'kesempatan', 'terpisah', ',', 'Pusat', 'Pelaporan', 'Analisis', 'Transaksi', 'Keuangan', '(', 'PPATK', ')', 'menyatakan', ',', 'bos', 'First', 'Travel', ',', 'Andika', 'Surachman', 'dan', 'Anniesa', 'Hasibuan', 'masih', 'memiliki', 'kekayaan', 'miliaran', 'rupiah', '.']], [['Kepala', 'PPATK', 'Kiagus', 'Ahmad', 'Badaruddin', 'mengatakan', ',', 'sisa', 'kekayaan', 'Andika', 'dan', 'Anniesa', 'senilai', 'Rp', '7', 'miliar', '.'], ['Hal', 'itu', 'berdasarkan', '50', 'rekening', 'yang', 'ditemukan', 'PPATK', '.'], ['Tak', 'semua', 'rekening', 'tersebut', 'atas', 'nama', 'Andika', 'dan', 'Anniesa', '.']], [['\"', 'Ada', 'sisa', 'dana', 'dari', 'rekening', '.'], ['Kami', 'sudah', 'menutup', '50', 'rekening', 'yang', 'di', 'dalamnya', 'terdapat', 'dana', 'Rp', '7', 'miliar', ',', '\"', 'kata', 'Kiagus', 'di', 'Kantor', 'PPATK', ',', 'Selasa', '(', '29', '/', '8', ')', '.']], [['Sisa', 'kekayaan', 'miliaran', 'rupiah', 'milik', 'First', 'Travel', ',', 'menurut', 'Kiagus', ',', 'berupa', 'mata', 'uang', 'rupiah', 'dan', 'asuransi', '.']]], 'source': 'cnn indonesia', 'source_url': 'https://www.cnnindonesia.com/nasional/20170830142535-12-238358/wiranto-yakin-uang-bos-first-travel-bisa-ditemukan/', 'summary': [['Menteri', 'Koordinator', 'bidang', 'Politik', ',', 'Hukum', ',', 'dan', 'Keamanan', 'Wiranto', 'yakin', 'uang', 'jemaah', 'yang', 'dikumpulkan', 'bos', '\\xa0', 'First', 'Travel', ',', 'bisa', 'ditemukan', '.'], ['Wiranto', 'mengatakan', ',', 'uang', 'yang', 'diambil', 'bos', 'First', 'Travel', 'tersebut', 'penting', 'untuk', 'ditemukan', 'karena', 'harus', 'dikembalikan', 'kepada', 'para', 'jemaah', 'yang', 'telah', 'ditipu', '.'], ['Mantan', 'Panglima', 'ABRI', 'itu', 'juga', 'menyampaikan', ',', 'First', 'Travel', 'tetap', 'menjadi', 'pihak', 'yang', 'harus', 'bertanggung', 'jawab', 'untuk', 'mengembalikan', 'uang', 'para', 'jemaah', '.']]}\n"
     ]
    }
   ],
   "source": [
    "train_data = dataset['train']\n",
    "print(train_data[0])\n",
    "\n",
    "validation_data = dataset['validation']\n",
    "print(validation_data[0])\n",
    "\n",
    "test_data = dataset['test']\n",
    "print(test_data[0])"
   ]
  },
  {
   "cell_type": "code",
   "execution_count": null,
   "metadata": {},
   "outputs": [],
   "source": [
    "def join_data(dataset):\n",
    "    documents = []\n",
    "    summaries = []\n",
    "    for item in dataset:\n",
    "        document = [\" \".join(sent) for para in item[\"paragraphs\"] for sent in para]\n",
    "        summary = \" \".join([\" \".join(sent) for sent in item[\"summary\"]])\n",
    "        \n",
    "        documents.append(document)\n",
    "        summaries.append(summary)\n",
    "    \n",
    "    return documents, summaries\n",
    "\n",
    "# Memproses data\n",
    "train_docs, train_summaries = join_data(train_data)\n",
    "val_docs, val_summaries = join_data(validation_data)\n",
    "test_docs, test_summaries = join_data(test_data)"
   ]
  },
  {
   "cell_type": "code",
   "execution_count": 4,
   "metadata": {},
   "outputs": [
    {
     "name": "stdout",
     "output_type": "stream",
     "text": [
      "['Setelah selesai membentuk holding BUMN pertambangan , kini pemerintah tengah menggarap holding - holding lainnya , salah satunya holding BUMN jasa keuangan .', 'PT Danareksa ( Persero ) akan menjadi induk holding membawahi 4 Bank BUMN , yaitu BNI , BRI , BTN , dan Bank Mandiri .', 'Selain itu , perusahaan pelat merah lain yang bergerak di sektor jasa keuangan seperti PT Jalin Pembayaran Nusantara ( JPN ) , PT Permodalan Nasional Madani ( Persero ) ( PMN ) , dan PT Pegadaian ( Persero ) juga akan bergabung di dalam holding BUMN jasa keuangan .', 'Direktur Utama PT Bank Rakyat Indonesia Tbk ( BBRI ) , Suprajarto , berharap pembentukan holding BUMN jasa keuangan segera terealisasi .', '\" Kalau saya berharap lebih cepat lebih baik karena manfaatnya banyak , \" kata Suprajarto di sela-sela acara BRI Run 2017 Bogor Series , Kebun Raya Bogor , Minggu ( 10 / 12 ) .', 'Orang nomor satu BRI ini mengatakan , jika holding jasa keuangan cepat terbentuk , pengadaan ATM bisa jauh lebih efisien secara teknologi dan biaya .', 'Selain itu , promosi pun bisa dilakukan bersama dengan bank-bank negara lainnya atau Himpunan Bank - bank Milik Negara ( Himbara ) .', '\" Kalau dulu , setiap galeri ATM kita mesti pasang ( penangkap sinyal ) Brisat ( satelit milik BRI ) .', 'Itu mahal lho .', 'Kalau sekarang kan Brisat -nya satu untuk semua , \" tuturnya .', 'Suprajarto berpendapat , jika ada holding nantinya kompetisi antar bank negara bisa diredam .', '\" Soal pricing , dulu kita masih kompetisi .', 'Kalau sudah ada holding kan selesai urusannya , \" lanjutnya .', 'Ia menambahkan , posisi Danareksa sebagai induk holding BUMN jasa keuangan tidak akan mengganggu operasional bank .', '\" Mereka ( Danareksa ) hanya koordinator saja , strategic holding .', 'Mereka tidak berhak ikut camput di operasional keempat anggota bank , \" tutupnya .']\n",
      "Setelah selesai membentuk   holding   BUMN pertambangan , kini pemerintah tengah menggarap holding - holding lainnya , salah satunya   holding   BUMN jasa keuangan . Direktur Utama BRI , Suprajarto , berharap pembentukan   holding   BUMN jasa keuangan segera terealisasi . Jika   holding   jasa keuangan cepat terbentuk , pengadaan ATM bisa jauh lebih efisien secara teknologi dan biaya . Promosi pun bisa dilakukan bersama dengan bank-bank negara lainnya atau Himpunan Bank - bank Milik Negara .\n"
     ]
    },
    {
     "data": {
      "text/plain": [
       "14272"
      ]
     },
     "execution_count": 4,
     "metadata": {},
     "output_type": "execute_result"
    }
   ],
   "source": [
    "print(train_docs[0])\n",
    "print(train_summaries[0])\n",
    "len(train_docs)"
   ]
  },
  {
   "cell_type": "code",
   "execution_count": null,
   "metadata": {},
   "outputs": [
    {
     "ename": "ImportError",
     "evalue": "/home/rakhargo/miniconda3/envs/cudaTF/lib/python3.9/site-packages/torch/lib/../../nvidia/cusparse/lib/libcusparse.so.12: undefined symbol: __nvJitLinkComplete_12_4, version libnvJitLink.so.12",
     "output_type": "error",
     "traceback": [
      "\u001b[0;31m---------------------------------------------------------------------------\u001b[0m",
      "\u001b[0;31mImportError\u001b[0m                               Traceback (most recent call last)",
      "Cell \u001b[0;32mIn[7], line 1\u001b[0m\n\u001b[0;32m----> 1\u001b[0m \u001b[38;5;28;01mfrom\u001b[39;00m \u001b[38;5;21;01mtransformers\u001b[39;00m \u001b[38;5;28;01mimport\u001b[39;00m TFAutoModelForSeq2SeqLM, AutoTokenizer\n\u001b[1;32m      2\u001b[0m \u001b[38;5;28;01mimport\u001b[39;00m \u001b[38;5;21;01mtensorflow\u001b[39;00m \u001b[38;5;28;01mas\u001b[39;00m \u001b[38;5;21;01mtf\u001b[39;00m\n\u001b[1;32m      3\u001b[0m \u001b[38;5;28;01mfrom\u001b[39;00m \u001b[38;5;21;01msklearn\u001b[39;00m\u001b[38;5;21;01m.\u001b[39;00m\u001b[38;5;21;01mmodel_selection\u001b[39;00m \u001b[38;5;28;01mimport\u001b[39;00m train_test_split\n",
      "File \u001b[0;32m~/miniconda3/envs/cudaTF/lib/python3.9/site-packages/transformers/__init__.py:26\u001b[0m\n\u001b[1;32m     23\u001b[0m \u001b[38;5;28;01mfrom\u001b[39;00m \u001b[38;5;21;01mtyping\u001b[39;00m \u001b[38;5;28;01mimport\u001b[39;00m TYPE_CHECKING\n\u001b[1;32m     25\u001b[0m \u001b[38;5;66;03m# Check the dependencies satisfy the minimal versions required.\u001b[39;00m\n\u001b[0;32m---> 26\u001b[0m \u001b[38;5;28;01mfrom\u001b[39;00m \u001b[38;5;21;01m.\u001b[39;00m \u001b[38;5;28;01mimport\u001b[39;00m dependency_versions_check\n\u001b[1;32m     27\u001b[0m \u001b[38;5;28;01mfrom\u001b[39;00m \u001b[38;5;21;01m.\u001b[39;00m\u001b[38;5;21;01mutils\u001b[39;00m \u001b[38;5;28;01mimport\u001b[39;00m (\n\u001b[1;32m     28\u001b[0m     OptionalDependencyNotAvailable,\n\u001b[1;32m     29\u001b[0m     _LazyModule,\n\u001b[0;32m   (...)\u001b[0m\n\u001b[1;32m     48\u001b[0m     logging,\n\u001b[1;32m     49\u001b[0m )\n\u001b[1;32m     52\u001b[0m logger \u001b[38;5;241m=\u001b[39m logging\u001b[38;5;241m.\u001b[39mget_logger(\u001b[38;5;18m__name__\u001b[39m)  \u001b[38;5;66;03m# pylint: disable=invalid-name\u001b[39;00m\n",
      "File \u001b[0;32m~/miniconda3/envs/cudaTF/lib/python3.9/site-packages/transformers/dependency_versions_check.py:16\u001b[0m\n\u001b[1;32m      1\u001b[0m \u001b[38;5;66;03m# Copyright 2020 The HuggingFace Team. All rights reserved.\u001b[39;00m\n\u001b[1;32m      2\u001b[0m \u001b[38;5;66;03m#\u001b[39;00m\n\u001b[1;32m      3\u001b[0m \u001b[38;5;66;03m# Licensed under the Apache License, Version 2.0 (the \"License\");\u001b[39;00m\n\u001b[0;32m   (...)\u001b[0m\n\u001b[1;32m     12\u001b[0m \u001b[38;5;66;03m# See the License for the specific language governing permissions and\u001b[39;00m\n\u001b[1;32m     13\u001b[0m \u001b[38;5;66;03m# limitations under the License.\u001b[39;00m\n\u001b[1;32m     15\u001b[0m \u001b[38;5;28;01mfrom\u001b[39;00m \u001b[38;5;21;01m.\u001b[39;00m\u001b[38;5;21;01mdependency_versions_table\u001b[39;00m \u001b[38;5;28;01mimport\u001b[39;00m deps\n\u001b[0;32m---> 16\u001b[0m \u001b[38;5;28;01mfrom\u001b[39;00m \u001b[38;5;21;01m.\u001b[39;00m\u001b[38;5;21;01mutils\u001b[39;00m\u001b[38;5;21;01m.\u001b[39;00m\u001b[38;5;21;01mversions\u001b[39;00m \u001b[38;5;28;01mimport\u001b[39;00m require_version, require_version_core\n\u001b[1;32m     19\u001b[0m \u001b[38;5;66;03m# define which module versions we always want to check at run time\u001b[39;00m\n\u001b[1;32m     20\u001b[0m \u001b[38;5;66;03m# (usually the ones defined in `install_requires` in setup.py)\u001b[39;00m\n\u001b[1;32m     21\u001b[0m \u001b[38;5;66;03m#\u001b[39;00m\n\u001b[1;32m     22\u001b[0m \u001b[38;5;66;03m# order specific notes:\u001b[39;00m\n\u001b[1;32m     23\u001b[0m \u001b[38;5;66;03m# - tqdm must be checked before tokenizers\u001b[39;00m\n\u001b[1;32m     25\u001b[0m pkgs_to_check_at_runtime \u001b[38;5;241m=\u001b[39m [\n\u001b[1;32m     26\u001b[0m     \u001b[38;5;124m\"\u001b[39m\u001b[38;5;124mpython\u001b[39m\u001b[38;5;124m\"\u001b[39m,\n\u001b[1;32m     27\u001b[0m     \u001b[38;5;124m\"\u001b[39m\u001b[38;5;124mtqdm\u001b[39m\u001b[38;5;124m\"\u001b[39m,\n\u001b[0;32m   (...)\u001b[0m\n\u001b[1;32m     37\u001b[0m     \u001b[38;5;124m\"\u001b[39m\u001b[38;5;124mpyyaml\u001b[39m\u001b[38;5;124m\"\u001b[39m,\n\u001b[1;32m     38\u001b[0m ]\n",
      "File \u001b[0;32m~/miniconda3/envs/cudaTF/lib/python3.9/site-packages/transformers/utils/__init__.py:27\u001b[0m\n\u001b[1;32m     25\u001b[0m \u001b[38;5;28;01mfrom\u001b[39;00m \u001b[38;5;21;01m.\u001b[39;00m\u001b[38;5;21;01m.\u001b[39;00m \u001b[38;5;28;01mimport\u001b[39;00m __version__\n\u001b[1;32m     26\u001b[0m \u001b[38;5;28;01mfrom\u001b[39;00m \u001b[38;5;21;01m.\u001b[39;00m\u001b[38;5;21;01mbackbone_utils\u001b[39;00m \u001b[38;5;28;01mimport\u001b[39;00m BackboneConfigMixin, BackboneMixin\n\u001b[0;32m---> 27\u001b[0m \u001b[38;5;28;01mfrom\u001b[39;00m \u001b[38;5;21;01m.\u001b[39;00m\u001b[38;5;21;01mchat_template_utils\u001b[39;00m \u001b[38;5;28;01mimport\u001b[39;00m DocstringParsingException, TypeHintParsingException, get_json_schema\n\u001b[1;32m     28\u001b[0m \u001b[38;5;28;01mfrom\u001b[39;00m \u001b[38;5;21;01m.\u001b[39;00m\u001b[38;5;21;01mconstants\u001b[39;00m \u001b[38;5;28;01mimport\u001b[39;00m IMAGENET_DEFAULT_MEAN, IMAGENET_DEFAULT_STD, IMAGENET_STANDARD_MEAN, IMAGENET_STANDARD_STD\n\u001b[1;32m     29\u001b[0m \u001b[38;5;28;01mfrom\u001b[39;00m \u001b[38;5;21;01m.\u001b[39;00m\u001b[38;5;21;01mdoc\u001b[39;00m \u001b[38;5;28;01mimport\u001b[39;00m (\n\u001b[1;32m     30\u001b[0m     add_code_sample_docstrings,\n\u001b[1;32m     31\u001b[0m     add_end_docstrings,\n\u001b[0;32m   (...)\u001b[0m\n\u001b[1;32m     35\u001b[0m     replace_return_docstrings,\n\u001b[1;32m     36\u001b[0m )\n",
      "File \u001b[0;32m~/miniconda3/envs/cudaTF/lib/python3.9/site-packages/transformers/utils/chat_template_utils.py:39\u001b[0m\n\u001b[1;32m     36\u001b[0m     \u001b[38;5;28;01mfrom\u001b[39;00m \u001b[38;5;21;01mPIL\u001b[39;00m\u001b[38;5;21;01m.\u001b[39;00m\u001b[38;5;21;01mImage\u001b[39;00m \u001b[38;5;28;01mimport\u001b[39;00m Image\n\u001b[1;32m     38\u001b[0m \u001b[38;5;28;01mif\u001b[39;00m is_torch_available():\n\u001b[0;32m---> 39\u001b[0m     \u001b[38;5;28;01mfrom\u001b[39;00m \u001b[38;5;21;01mtorch\u001b[39;00m \u001b[38;5;28;01mimport\u001b[39;00m Tensor\n\u001b[1;32m     42\u001b[0m BASIC_TYPES \u001b[38;5;241m=\u001b[39m (\u001b[38;5;28mint\u001b[39m, \u001b[38;5;28mfloat\u001b[39m, \u001b[38;5;28mstr\u001b[39m, \u001b[38;5;28mbool\u001b[39m, Any, \u001b[38;5;28mtype\u001b[39m(\u001b[38;5;28;01mNone\u001b[39;00m), \u001b[38;5;241m.\u001b[39m\u001b[38;5;241m.\u001b[39m\u001b[38;5;241m.\u001b[39m)\n\u001b[1;32m     43\u001b[0m \u001b[38;5;66;03m# Extracts the initial segment of the docstring, containing the function description\u001b[39;00m\n",
      "File \u001b[0;32m~/miniconda3/envs/cudaTF/lib/python3.9/site-packages/torch/__init__.py:367\u001b[0m\n\u001b[1;32m    365\u001b[0m     \u001b[38;5;28;01mif\u001b[39;00m USE_GLOBAL_DEPS:\n\u001b[1;32m    366\u001b[0m         _load_global_deps()\n\u001b[0;32m--> 367\u001b[0m     \u001b[38;5;28;01mfrom\u001b[39;00m \u001b[38;5;21;01mtorch\u001b[39;00m\u001b[38;5;21;01m.\u001b[39;00m\u001b[38;5;21;01m_C\u001b[39;00m \u001b[38;5;28;01mimport\u001b[39;00m \u001b[38;5;241m*\u001b[39m  \u001b[38;5;66;03m# noqa: F403\u001b[39;00m\n\u001b[1;32m    370\u001b[0m \u001b[38;5;28;01mclass\u001b[39;00m \u001b[38;5;21;01mSymInt\u001b[39;00m:\n\u001b[1;32m    371\u001b[0m \u001b[38;5;250m    \u001b[39m\u001b[38;5;124;03m\"\"\"\u001b[39;00m\n\u001b[1;32m    372\u001b[0m \u001b[38;5;124;03m    Like an int (including magic methods), but redirects all operations on the\u001b[39;00m\n\u001b[1;32m    373\u001b[0m \u001b[38;5;124;03m    wrapped node. This is used in particular to symbolically record operations\u001b[39;00m\n\u001b[1;32m    374\u001b[0m \u001b[38;5;124;03m    in the symbolic shape workflow.\u001b[39;00m\n\u001b[1;32m    375\u001b[0m \u001b[38;5;124;03m    \"\"\"\u001b[39;00m\n",
      "\u001b[0;31mImportError\u001b[0m: /home/rakhargo/miniconda3/envs/cudaTF/lib/python3.9/site-packages/torch/lib/../../nvidia/cusparse/lib/libcusparse.so.12: undefined symbol: __nvJitLinkComplete_12_4, version libnvJitLink.so.12"
     ]
    }
   ],
   "source": [
    "from transformers import TFAutoModelForSeq2SeqLM, AutoTokenizer\n",
    "import tensorflow as tf\n",
    "from sklearn.model_selection import train_test_split\n",
    "import numpy as np\n",
    "\n",
    "# Split data\n",
    "train_texts, val_texts, train_labels, val_labels = train_test_split(\n",
    "    train_docs, train_summaries, test_size=0.2, random_state=42\n",
    ")\n",
    "\n",
    "# Load Pretrained T5 Model and Tokenizer\n",
    "model_name = \"t5-small\"  # Anda bisa mencoba t5-base atau t5-large\n",
    "tokenizer = AutoTokenizer.from_pretrained(model_name)\n",
    "model = TFAutoModelForSeq2SeqLM.from_pretrained(model_name)\n",
    "\n",
    "# Tokenizing Dataset\n",
    "def preprocess_data(texts, summaries, tokenizer, max_input_length=512, max_output_length=128):\n",
    "    inputs = tokenizer(\n",
    "        texts, max_length=max_input_length, padding=\"max_length\", truncation=True, return_tensors=\"tf\"\n",
    "    )\n",
    "    targets = tokenizer(\n",
    "        summaries, max_length=max_output_length, padding=\"max_length\", truncation=True, return_tensors=\"tf\"\n",
    "    )\n",
    "    return {\n",
    "        \"input_ids\": inputs[\"input_ids\"],\n",
    "        \"attention_mask\": inputs[\"attention_mask\"],\n",
    "        \"labels\": targets[\"input_ids\"],\n",
    "    }\n",
    "\n",
    "train_data = preprocess_data(train_texts, train_labels, tokenizer)\n",
    "val_data = preprocess_data(val_texts, val_labels, tokenizer)"
   ]
  },
  {
   "cell_type": "code",
   "execution_count": null,
   "metadata": {},
   "outputs": [],
   "source": [
    "\n",
    "# Create TensorFlow Dataset\n",
    "train_dataset = tf.data.Dataset.from_tensor_slices((\n",
    "    {\"input_ids\": train_data[\"input_ids\"], \"attention_mask\": train_data[\"attention_mask\"]},\n",
    "    train_data[\"labels\"]\n",
    ")).batch(8)\n",
    "\n",
    "val_dataset = tf.data.Dataset.from_tensor_slices((\n",
    "    {\"input_ids\": val_data[\"input_ids\"], \"attention_mask\": val_data[\"attention_mask\"]},\n",
    "    val_data[\"labels\"]\n",
    ")).batch(8)\n",
    "\n",
    "# Compile Model\n",
    "optimizer = tf.keras.optimizers.Adam(learning_rate=5e-5)\n",
    "loss_fn = tf.keras.losses.SparseCategoricalCrossentropy(from_logits=True)\n",
    "\n",
    "model.compile(optimizer=optimizer, loss=loss_fn)\n",
    "\n",
    "# Training\n",
    "epochs = 3\n",
    "history = model.fit(train_dataset, validation_data=val_dataset, epochs=epochs)\n",
    "\n",
    "# Evaluation\n",
    "for batch in val_dataset.take(1):\n",
    "    input_ids = batch[0][\"input_ids\"]\n",
    "    attention_mask = batch[0][\"attention_mask\"]\n",
    "    generated_ids = model.generate(input_ids=input_ids, attention_mask=attention_mask, max_length=128)\n",
    "    predictions = tokenizer.batch_decode(generated_ids, skip_special_tokens=True)\n",
    "\n",
    "    print(\"Generated Summaries:\", predictions)"
   ]
  }
 ],
 "metadata": {
  "kernelspec": {
   "display_name": "cudaTF",
   "language": "python",
   "name": "python3"
  },
  "language_info": {
   "codemirror_mode": {
    "name": "ipython",
    "version": 3
   },
   "file_extension": ".py",
   "mimetype": "text/x-python",
   "name": "python",
   "nbconvert_exporter": "python",
   "pygments_lexer": "ipython3",
   "version": "3.9.20"
  }
 },
 "nbformat": 4,
 "nbformat_minor": 2
}
