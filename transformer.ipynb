{
 "cells": [
  {
   "cell_type": "code",
   "execution_count": 1,
   "metadata": {},
   "outputs": [
    {
     "name": "stderr",
     "output_type": "stream",
     "text": [
      "/home/rakhargo/miniconda3/envs/cudaTF/lib/python3.9/site-packages/tqdm/auto.py:21: TqdmWarning: IProgress not found. Please update jupyter and ipywidgets. See https://ipywidgets.readthedocs.io/en/stable/user_install.html\n",
      "  from .autonotebook import tqdm as notebook_tqdm\n"
     ]
    },
    {
     "name": "stdout",
     "output_type": "stream",
     "text": [
      "DatasetDict({\n",
      "    train: Dataset({\n",
      "        features: ['category', 'gold_labels', 'id', 'paragraphs', 'source', 'source_url', 'summary'],\n",
      "        num_rows: 14272\n",
      "    })\n",
      "    validation: Dataset({\n",
      "        features: ['category', 'gold_labels', 'id', 'paragraphs', 'source', 'source_url', 'summary'],\n",
      "        num_rows: 750\n",
      "    })\n",
      "    test: Dataset({\n",
      "        features: ['category', 'gold_labels', 'id', 'paragraphs', 'source', 'source_url', 'summary'],\n",
      "        num_rows: 3752\n",
      "    })\n",
      "})\n"
     ]
    }
   ],
   "source": [
    "from datasets import load_dataset\n",
    "\n",
    "data_files = {\n",
    "    \"train\": \"indosum/train.04.jsonl\",\n",
    "    \"validation\": \"indosum/dev.04.jsonl\",\n",
    "    \"test\": \"indosum/test.04.jsonl\",   \n",
    "}\n",
    "\n",
    "# Muat dataset\n",
    "dataset = load_dataset(\"json\", data_files=data_files)\n",
    "print(dataset)"
   ]
  },
  {
   "cell_type": "code",
   "execution_count": 2,
   "metadata": {},
   "outputs": [
    {
     "name": "stdout",
     "output_type": "stream",
     "text": [
      "{'category': 'tajuk utama', 'gold_labels': [[True], [False], [False], [True], [False], [True, True], [False, False, False], [False, False, False], [False], [False, False]], 'id': '1512964800-dirut-bri-ingin-holding-bumn-jasa-keuangan-segera-', 'paragraphs': [[['Setelah', 'selesai', 'membentuk', 'holding', 'BUMN', 'pertambangan', ',', 'kini', 'pemerintah', 'tengah', 'menggarap', 'holding', '-', 'holding', 'lainnya', ',', 'salah', 'satunya', 'holding', 'BUMN', 'jasa', 'keuangan', '.']], [['PT', 'Danareksa', '(', 'Persero', ')', 'akan', 'menjadi', 'induk', 'holding', 'membawahi', '4', 'Bank', 'BUMN', ',', 'yaitu', 'BNI', ',', 'BRI', ',', 'BTN', ',', 'dan', 'Bank', 'Mandiri', '.']], [['Selain', 'itu', ',', 'perusahaan', 'pelat', 'merah', 'lain', 'yang', 'bergerak', 'di', 'sektor', 'jasa', 'keuangan', 'seperti', 'PT', 'Jalin', 'Pembayaran', 'Nusantara', '(', 'JPN', ')', ',', 'PT', 'Permodalan', 'Nasional', 'Madani', '(', 'Persero', ')', '(', 'PMN', ')', ',', 'dan', 'PT', 'Pegadaian', '(', 'Persero', ')', 'juga', 'akan', 'bergabung', 'di', 'dalam', 'holding', 'BUMN', 'jasa', 'keuangan', '.']], [['Direktur', 'Utama', 'PT', 'Bank', 'Rakyat', 'Indonesia', 'Tbk', '(', 'BBRI', ')', ',', 'Suprajarto', ',', 'berharap', 'pembentukan', 'holding', 'BUMN', 'jasa', 'keuangan', 'segera', 'terealisasi', '.']], [['\"', 'Kalau', 'saya', 'berharap', 'lebih', 'cepat', 'lebih', 'baik', 'karena', 'manfaatnya', 'banyak', ',', '\"', 'kata', 'Suprajarto', 'di', 'sela-sela', 'acara', 'BRI', 'Run', '2017', 'Bogor', 'Series', ',', 'Kebun', 'Raya', 'Bogor', ',', 'Minggu', '(', '10', '/', '12', ')', '.']], [['Orang', 'nomor', 'satu', 'BRI', 'ini', 'mengatakan', ',', 'jika', 'holding', 'jasa', 'keuangan', 'cepat', 'terbentuk', ',', 'pengadaan', 'ATM', 'bisa', 'jauh', 'lebih', 'efisien', 'secara', 'teknologi', 'dan', 'biaya', '.'], ['Selain', 'itu', ',', 'promosi', 'pun', 'bisa', 'dilakukan', 'bersama', 'dengan', 'bank-bank', 'negara', 'lainnya', 'atau', 'Himpunan', 'Bank', '-', 'bank', 'Milik', 'Negara', '(', 'Himbara', ')', '.']], [['\"', 'Kalau', 'dulu', ',', 'setiap', 'galeri', 'ATM', 'kita', 'mesti', 'pasang', '(', 'penangkap', 'sinyal', ')', 'Brisat', '(', 'satelit', 'milik', 'BRI', ')', '.'], ['Itu', 'mahal', 'lho', '.'], ['Kalau', 'sekarang', 'kan', 'Brisat', '-nya', 'satu', 'untuk', 'semua', ',', '\"', 'tuturnya', '.']], [['Suprajarto', 'berpendapat', ',', 'jika', 'ada', 'holding', 'nantinya', 'kompetisi', 'antar', 'bank', 'negara', 'bisa', 'diredam', '.'], ['\"', 'Soal', 'pricing', ',', 'dulu', 'kita', 'masih', 'kompetisi', '.'], ['Kalau', 'sudah', 'ada', 'holding', 'kan', 'selesai', 'urusannya', ',', '\"', 'lanjutnya', '.']], [['Ia', 'menambahkan', ',', 'posisi', 'Danareksa', 'sebagai', 'induk', 'holding', 'BUMN', 'jasa', 'keuangan', 'tidak', 'akan', 'mengganggu', 'operasional', 'bank', '.']], [['\"', 'Mereka', '(', 'Danareksa', ')', 'hanya', 'koordinator', 'saja', ',', 'strategic', 'holding', '.'], ['Mereka', 'tidak', 'berhak', 'ikut', 'camput', 'di', 'operasional', 'keempat', 'anggota', 'bank', ',', '\"', 'tutupnya', '.']]], 'source': 'kumparan', 'source_url': 'https://kumparan.com/@kumparanbisnis/dirut-bri-ingin-holding-bumn-jasa-keuangan-segera-terbentuk', 'summary': [['Setelah', 'selesai', 'membentuk', '\\xa0', 'holding', '\\xa0', 'BUMN', 'pertambangan', ',', 'kini', 'pemerintah', 'tengah', 'menggarap', 'holding', '-', 'holding', 'lainnya', ',', 'salah', 'satunya', '\\xa0', 'holding', '\\xa0', 'BUMN', 'jasa', 'keuangan', '.'], ['Direktur', 'Utama', 'BRI', ',', 'Suprajarto', ',', 'berharap', 'pembentukan', '\\xa0', 'holding', '\\xa0', 'BUMN', 'jasa', 'keuangan', 'segera', 'terealisasi', '.'], ['Jika', '\\xa0', 'holding', '\\xa0', 'jasa', 'keuangan', 'cepat', 'terbentuk', ',', 'pengadaan', 'ATM', 'bisa', 'jauh', 'lebih', 'efisien', 'secara', 'teknologi', 'dan', 'biaya', '.'], ['Promosi', 'pun', 'bisa', 'dilakukan', 'bersama', 'dengan', 'bank-bank', 'negara', 'lainnya', 'atau', 'Himpunan', 'Bank', '-', 'bank', 'Milik', 'Negara', '.']]}\n",
      "{'category': 'tajuk utama', 'gold_labels': [[True], [False], [False], [False, False], [True], [False, False], [False], [False], [False], [False], [False], [False, False], [False], [False, False]], 'id': '1519679780-demokrasi-makin-transaksional-ketua-dpr-galau', 'paragraphs': [[['Suara.com', '-', 'Ketua', 'DPR', 'RI', 'Bambang', 'Soesatyo', 'mengungkapkan', 'kegalauannya', 'melihat', 'perkembangan', 'demokrasi', 'di', 'Indonesia', 'yang', 'makin', 'mengarah', 'pada', 'demokrasi', 'transaksional', 'karena', 'berpotensi', 'mengancam', 'independensi', 'bangsa', 'Indonesia', '.']], [['Bambang', 'Soesatyo', 'mengatakan', 'hal', 'itu', 'dalam', 'sambutannya', 'ketika', 'menghadiri', 'acara', 'peresmian', 'Grha', 'Suara', 'Muhammadiyah', ',', 'di', 'Yogyakarta', ',', 'Minggu', '(', '25', '/', '2', '/', '2018', ')', ',', 'seperti', 'dikutip', 'melalui', 'siaran', 'persnya', '.']], [['Hadir', 'dalam', 'acara', 'tersebut', 'antara', 'lain', ',', 'Ketua', 'Umum', 'PP', 'Muhammadiyah', 'Haedar', 'Nashir', ',', 'mantan', 'Ketua', 'Umum', 'PP', 'Muhammadiyah', 'Buya', 'Ahmad', 'Syafii', 'Maarif', ',', 'Menkominfo', 'Rudiantara', ',', 'Mendikbud', 'Muhadjir', 'Effendy', ',', 'anggota', 'Fraksi', 'Partai', 'Golkar', 'DPR', 'RI', 'Mukhamad', 'Misbakhun', ',', 'anggota', 'Fraksi', 'Nasdem', 'DPR', 'RI', 'Ahmad', 'Syahroni', ',', 'Ketua', 'Umum', 'PP', 'Aisyah', 'Nurjanah', ',', 'Kapolda', 'DI', 'Yogyakarta', 'Brigjen', 'Pol', 'Ahmad', 'Dofiri', ',', 'serta', 'mantan', 'Ketua', 'KPK', 'Busyro', 'Muqoddas', '.']], [['\"', 'Saya', 'secara', 'khusus', 'meminta', 'kepada', 'Muhammadiyah', 'untuk', 'mengkaji', 'kembali', 'sistem', 'pemilihan', 'langsung', 'dalam', 'demokrasi', 'kita', ',', 'terutama', 'dalam', 'pilkada', '.'], ['Apakah', 'lebih', 'banyak', 'manfaatnya', 'atau', 'mudaratnya', 'bagi', 'rakyat', ',', '\"', 'kata', 'Bambang', 'Soesatyo', '.']], [['Menurut', 'Bambang', ',', 'demokrasi', 'transaksional', 'yang', 'mulai', 'tidak', 'terkendali', 'jika', 'terus', 'ini', 'dibiarkan', ',', 'maka', 'bukan', 'tidak', 'mungkin', 'suatu', 'saat', 'Indonesia', 'akan', 'dikuasai', 'para', 'pemilik', 'modal', ',', 'baik', 'secara', 'langsung', 'maupun', 'tidak', 'langsung', '.']], [['\"', 'Bisa', 'jadi', 'pada', '10', 'tahun', 'atau', '20', 'tahun', 'ke', 'depan', ',', 'Indonesia', 'tidak', 'lagi', 'memiliki', 'presiden', 'yang', 'akhiran', 'namanya', 'huruf', 'O', ',', 'eperti', 'Soekarno', ',', 'Soeharto', ',', 'Susilo', 'Bambang', 'Yudhoyono', ',', 'dan', 'Joko', 'Widodo', '.'], ['Karena', 'peran', 'para', 'pemilik', 'modal', 'semakin', 'mendominasi', ',', '\"', 'tegasnya', '.']], [['Pada', 'acara', 'tersebut', ',', 'Bamsoet', ',', 'panggilan', 'Bambang', 'Soesatyo', 'juga', 'secara', 'sepontan', 'mendapat', 'penghargaan', 'sebagai', 'warga', 'Muhammadiyah', 'yang', 'ditandai', 'dengan', 'pekamaian', 'baju', 'batik', 'Muhammadiyah', 'berwarna', 'hijau', 'dan', 'syal', 'warna', 'merah', 'bertuliskan', '\"', 'Suara', 'Muhammadiyah', '\"', '.']], [['Bamsoet', 'diberikan', 'penghargaan', 'sebagai', 'warga', 'Muhammadiyah', 'karena', 'pemikiran', 'serta', 'visi', 'dan', 'misinya', 'dinilai', 'sejalan', 'dengan', 'visi', 'dan', 'misi', 'Muhammadiyah', '.']], [['\"', 'Saya', 'bangga', 'menjadi', 'bagian', 'dari', 'keluarga', 'besar', 'Muhammadiyah', ',', 'walaupun', 'baru', 'hari', 'ini', 'saya', 'dipakaikan', 'baju', 'batik', 'Muhammadiyah', ',', '\"', 'katanya', '.']], [['Kemudian', ',', 'perihal', 'peresmian', 'gedung', 'Grha', 'Suara', 'Muhammadiyah', ',', 'Bamsoet', 'berharap', 'sarana', 'itu', 'makin', 'memajukan', 'Suara', 'Muhammadiyah', 'sebagai', 'media', 'kebanggaan', 'dari', 'seluruh', 'organisasi', 'kemasyarakatan', 'yang', 'didirikan', 'KH', 'Ahmad', 'Dahlan', '.']], [['Bamsoet', 'yang', 'pernah', 'berprofesi', 'sebagai', 'wartawan', 'menambahkan', ',', 'tantangan', 'bagi', 'bisnis', 'media', 'di', 'era', 'digital', 'saat', 'ini', 'makin', 'berat', '.']], [['\"', 'Media', 'konvensional', 'tidak', 'sedikit', 'yang', 'gulung', 'tikar', 'karena', 'tidak', 'dapat', 'menyesuaikan', 'perubahan', 'zaman', '.'], ['Saya', 'angkat', 'topi', 'karena', 'Suara', 'Muhammadiyah', 'yang', 'sudah', 'berusia', '103', 'tahun', 'tetap', 'bertahan', 'dan', 'menjadi', 'media', 'terlama', 'yang', 'masih', 'terbit', ',', '\"', 'ujar', 'Bamsoet', '.']], [['Bamsoet', 'juga', 'berpesan', 'agar', 'Suara', 'Muhammadiyah', 'tidak', 'berhenti', 'berikhtiar', 'dan', 'melakukan', 'terobosan', 'untuk', 'pembangunan', 'bangsa', '.']], [['Apalagi', ',', 'Suara', 'Muhammadiyah', 'juga', 'menerima', 'penghargaan', 'sebagai', 'Media', 'Dakwah', 'Perjuangan', 'Kemerdekaan', 'RI', 'dalam', 'Bahasa', 'Indonesia', ',', 'pada', 'Hari', 'Pers', 'Nasional', '2018', '.'], ['(', 'Antara', ')']]], 'source': 'suara', 'source_url': 'https://www.suara.com/news/2018/02/26/060000/demokrasi-makin-transaksional-ketua-dpr-galau', 'summary': [['Ketua', 'DPR', 'RI', ',', 'Bambang', 'Soesatyo', ',', 'mengungkapkan', 'kegalauannya', 'melihat', 'perkembangan', 'demokrasi', 'di', 'Indonesia', 'yang', 'makin', 'mengarah', 'pada', 'demokrasi', 'transaksional', 'karena', 'berpotensi', 'mengancam', 'independensi', 'bangsa', 'Indonesia', '.'], ['Menurut', 'Bambang', ',', 'demokrasi', 'transaksional', 'yang', 'mulai', 'tidak', 'terkendali', 'jika', 'terus', 'ini', 'dibiarkan', ',', 'maka', 'bukan', 'tidak', 'mungkin', 'suatu', 'saat', 'Indonesia', 'akan', 'dikuasai', 'para', 'pemilik', 'modal', ',', 'baik', 'secara', 'langsung', 'maupun', 'tidak', 'langsung', '.']]}\n",
      "{'category': 'tajuk utama', 'gold_labels': [[True], [False, False, False], [False], [True], [True], [False], [False], [False], [False, False], [False], [False, False, False], [False, False], [False]], 'id': '1504151262-wiranto-yakin-uang-bos-first-travel-bisa-ditemukan', 'paragraphs': [[['Jakarta', ',', 'CNN', 'Indonesia', '-', '-', 'Menteri', 'Koordinator', 'bidang', 'Politik', ',', 'Hukum', ',', 'dan', 'Keamanan', '(', 'Menko', 'Polhukam', ')', 'Wiranto', 'yakin', 'uang', 'jemaah', 'yang', 'dikumpulkan', 'bos', 'First', 'Travel', ',', 'Andika', 'Surachman', 'dan', 'Anniesa', 'Hasibuan', ',', 'bisa', 'ditemukan', '.']], [['\"', 'Uang', 'itu', 'kan', 'cuma', 'pindah', 'tempat', ',', 'enggak', 'ada', 'uang', 'menguap', ',', 'itu', 'enggak', 'ada', '.'], ['Enggak', 'ada', 'tiba-tiba', 'uang', 'hilang', 'menguap', ',', 'mesti', 'pindah', 'tempat', '.'], ['Kita', 'cari', 'itu', ',', '\"', 'ujar', 'Wiranto', 'di', 'Hotel', 'Arya', 'Duta', ',', 'Jakarta', ',', 'Rabu', '\\xa0', '(', '30', '/', '8', ')', '.']], [['Pernyataan', 'Wiranto', 'itu', 'merujuk', 'tipisnya', 'jumlah', 'dana', 'yang', 'berada', 'di', 'rekening', 'bos', 'First', 'Travel', ',', 'sementara', 'jemaah', 'yang', 'dana', 'keberangkatan', 'umrahnya', 'ditilap', 'mencapai', 'sekitar', 'Rp', '848', 'miliar', '.']], [['Wiranto', 'mengatakan', ',', 'uang', 'yang', 'diambil', 'bos', 'First', 'Travel', 'tersebut', 'penting', 'untuk', 'ditemukan', 'karena', 'harus', 'dikembalikan', 'kepada', 'para', 'jemaah', 'yang', 'telah', 'ditipu', '.']], [['Mantan', 'Panglima', 'ABRI', 'itu', 'juga', 'menyampaikan', ',', 'First', 'Travel', 'tetap', 'menjadi', 'pihak', 'yang', 'harus', 'bertanggung', 'jawab', 'untuk', 'mengembalikan', 'uang', 'para', 'jemaah', '.']], [['\"', 'Yang', 'gantinya', 'siapa', 'yang', 'merugikan', 'rakyat', ',', 'lagi', 'dilihat', 'asetnya', 'gimana', ',', '\"', 'ujarnya', '.']], [['Kemarin', ',', 'kata', 'Wiranto', 'dirinya', 'telah', 'melakukan', 'koordinasi', 'dengan', 'beberapa', 'pihak', 'seperti', 'Kementerian', 'Agama', ',', 'Kementerian', 'Hukum', 'dan', 'HAM', ',', 'Pusat', 'Pelaporan', 'Analisis', 'Transaksi', 'Keuangan', '(', 'PPATK', ')', ',', 'Otoritas', 'Jasa', 'Keuangan', '(', 'OJK', ')', 'dan', 'Bareskrim', 'Polri', '.']], [['Pertemuan', 'itu', ',', 'ia', 'melanjutkan', ',', 'dalam', 'rangka', 'membuat', 'sebuah', 'tim', 'kecil', 'yang', 'akan', 'mengkaji', 'tentang', 'kasus', 'First', 'Travel', '\\xa0', 'tersebut', ',', 'mulai', 'dari', 'penelusuran', 'aset', 'hingga', 'tindakan', 'yang', 'harus', 'ditempuh', 'kepolisian', '.']], [['\"', 'Asetnya', 'berapa', 'yang', 'masih', 'ada', ',', 'lalu', 'berapa', 'nasabahnya', 'yang', 'ada', ',', 'langkah-langkah', 'apa', 'yang', 'sudah', 'dilakukan', 'dan', 'belum', 'dilakukan', '.'], ['Enggak', 'sembarangan', 'jadi', 'harus', 'lengkap', 'dulu', 'baru', 'ada', 'tindakan', 'dari', 'kepolisian', ',', '\"', 'tutur', 'Wiranto', '.']], [['Sebelumnya', 'dalam', 'kesempatan', 'terpisah', ',', 'Pusat', 'Pelaporan', 'Analisis', 'Transaksi', 'Keuangan', '(', 'PPATK', ')', 'menyatakan', ',', 'bos', 'First', 'Travel', ',', 'Andika', 'Surachman', 'dan', 'Anniesa', 'Hasibuan', 'masih', 'memiliki', 'kekayaan', 'miliaran', 'rupiah', '.']], [['Kepala', 'PPATK', 'Kiagus', 'Ahmad', 'Badaruddin', 'mengatakan', ',', 'sisa', 'kekayaan', 'Andika', 'dan', 'Anniesa', 'senilai', 'Rp', '7', 'miliar', '.'], ['Hal', 'itu', 'berdasarkan', '50', 'rekening', 'yang', 'ditemukan', 'PPATK', '.'], ['Tak', 'semua', 'rekening', 'tersebut', 'atas', 'nama', 'Andika', 'dan', 'Anniesa', '.']], [['\"', 'Ada', 'sisa', 'dana', 'dari', 'rekening', '.'], ['Kami', 'sudah', 'menutup', '50', 'rekening', 'yang', 'di', 'dalamnya', 'terdapat', 'dana', 'Rp', '7', 'miliar', ',', '\"', 'kata', 'Kiagus', 'di', 'Kantor', 'PPATK', ',', 'Selasa', '(', '29', '/', '8', ')', '.']], [['Sisa', 'kekayaan', 'miliaran', 'rupiah', 'milik', 'First', 'Travel', ',', 'menurut', 'Kiagus', ',', 'berupa', 'mata', 'uang', 'rupiah', 'dan', 'asuransi', '.']]], 'source': 'cnn indonesia', 'source_url': 'https://www.cnnindonesia.com/nasional/20170830142535-12-238358/wiranto-yakin-uang-bos-first-travel-bisa-ditemukan/', 'summary': [['Menteri', 'Koordinator', 'bidang', 'Politik', ',', 'Hukum', ',', 'dan', 'Keamanan', 'Wiranto', 'yakin', 'uang', 'jemaah', 'yang', 'dikumpulkan', 'bos', '\\xa0', 'First', 'Travel', ',', 'bisa', 'ditemukan', '.'], ['Wiranto', 'mengatakan', ',', 'uang', 'yang', 'diambil', 'bos', 'First', 'Travel', 'tersebut', 'penting', 'untuk', 'ditemukan', 'karena', 'harus', 'dikembalikan', 'kepada', 'para', 'jemaah', 'yang', 'telah', 'ditipu', '.'], ['Mantan', 'Panglima', 'ABRI', 'itu', 'juga', 'menyampaikan', ',', 'First', 'Travel', 'tetap', 'menjadi', 'pihak', 'yang', 'harus', 'bertanggung', 'jawab', 'untuk', 'mengembalikan', 'uang', 'para', 'jemaah', '.']]}\n"
     ]
    }
   ],
   "source": [
    "train_data = dataset['train']\n",
    "print(train_data[0])\n",
    "\n",
    "validation_data = dataset['validation']\n",
    "print(validation_data[0])\n",
    "\n",
    "test_data = dataset['test']\n",
    "print(test_data[0])"
   ]
  },
  {
   "cell_type": "code",
   "execution_count": 3,
   "metadata": {},
   "outputs": [],
   "source": [
    "def join_data(dataset):\n",
    "    documents = []\n",
    "    summaries = []\n",
    "    for item in dataset:\n",
    "        document = [\" \".join(sent) for para in item[\"paragraphs\"] for sent in para]\n",
    "        summary = \" \".join([\" \".join(sent) for sent in item[\"summary\"]])\n",
    "        \n",
    "        documents.append(document)\n",
    "        summaries.append(summary)\n",
    "    \n",
    "    return documents, summaries\n",
    "\n",
    "# Memproses data\n",
    "train_docs, train_summaries = join_data(train_data)\n",
    "val_docs, val_summaries = join_data(validation_data)\n",
    "test_docs, test_summaries = join_data(test_data)"
   ]
  },
  {
   "cell_type": "code",
   "execution_count": 4,
   "metadata": {},
   "outputs": [
    {
     "name": "stdout",
     "output_type": "stream",
     "text": [
      "['Setelah selesai membentuk holding BUMN pertambangan , kini pemerintah tengah menggarap holding - holding lainnya , salah satunya holding BUMN jasa keuangan .', 'PT Danareksa ( Persero ) akan menjadi induk holding membawahi 4 Bank BUMN , yaitu BNI , BRI , BTN , dan Bank Mandiri .', 'Selain itu , perusahaan pelat merah lain yang bergerak di sektor jasa keuangan seperti PT Jalin Pembayaran Nusantara ( JPN ) , PT Permodalan Nasional Madani ( Persero ) ( PMN ) , dan PT Pegadaian ( Persero ) juga akan bergabung di dalam holding BUMN jasa keuangan .', 'Direktur Utama PT Bank Rakyat Indonesia Tbk ( BBRI ) , Suprajarto , berharap pembentukan holding BUMN jasa keuangan segera terealisasi .', '\" Kalau saya berharap lebih cepat lebih baik karena manfaatnya banyak , \" kata Suprajarto di sela-sela acara BRI Run 2017 Bogor Series , Kebun Raya Bogor , Minggu ( 10 / 12 ) .', 'Orang nomor satu BRI ini mengatakan , jika holding jasa keuangan cepat terbentuk , pengadaan ATM bisa jauh lebih efisien secara teknologi dan biaya .', 'Selain itu , promosi pun bisa dilakukan bersama dengan bank-bank negara lainnya atau Himpunan Bank - bank Milik Negara ( Himbara ) .', '\" Kalau dulu , setiap galeri ATM kita mesti pasang ( penangkap sinyal ) Brisat ( satelit milik BRI ) .', 'Itu mahal lho .', 'Kalau sekarang kan Brisat -nya satu untuk semua , \" tuturnya .', 'Suprajarto berpendapat , jika ada holding nantinya kompetisi antar bank negara bisa diredam .', '\" Soal pricing , dulu kita masih kompetisi .', 'Kalau sudah ada holding kan selesai urusannya , \" lanjutnya .', 'Ia menambahkan , posisi Danareksa sebagai induk holding BUMN jasa keuangan tidak akan mengganggu operasional bank .', '\" Mereka ( Danareksa ) hanya koordinator saja , strategic holding .', 'Mereka tidak berhak ikut camput di operasional keempat anggota bank , \" tutupnya .']\n",
      "Setelah selesai membentuk   holding   BUMN pertambangan , kini pemerintah tengah menggarap holding - holding lainnya , salah satunya   holding   BUMN jasa keuangan . Direktur Utama BRI , Suprajarto , berharap pembentukan   holding   BUMN jasa keuangan segera terealisasi . Jika   holding   jasa keuangan cepat terbentuk , pengadaan ATM bisa jauh lebih efisien secara teknologi dan biaya . Promosi pun bisa dilakukan bersama dengan bank-bank negara lainnya atau Himpunan Bank - bank Milik Negara .\n"
     ]
    },
    {
     "data": {
      "text/plain": [
       "14272"
      ]
     },
     "execution_count": 4,
     "metadata": {},
     "output_type": "execute_result"
    }
   ],
   "source": [
    "print(train_docs[0])\n",
    "print(train_summaries[0])\n",
    "len(train_docs)"
   ]
  },
  {
   "cell_type": "code",
   "execution_count": 5,
   "metadata": {},
   "outputs": [
    {
     "name": "stderr",
     "output_type": "stream",
     "text": [
      "2024-12-02 14:46:31.408156: E external/local_xla/xla/stream_executor/cuda/cuda_fft.cc:477] Unable to register cuFFT factory: Attempting to register factory for plugin cuFFT when one has already been registered\n",
      "WARNING: All log messages before absl::InitializeLog() is called are written to STDERR\n",
      "E0000 00:00:1733125591.422181   19871 cuda_dnn.cc:8310] Unable to register cuDNN factory: Attempting to register factory for plugin cuDNN when one has already been registered\n",
      "E0000 00:00:1733125591.426235   19871 cuda_blas.cc:1418] Unable to register cuBLAS factory: Attempting to register factory for plugin cuBLAS when one has already been registered\n",
      "2024-12-02 14:46:31.442901: I tensorflow/core/platform/cpu_feature_guard.cc:210] This TensorFlow binary is optimized to use available CPU instructions in performance-critical operations.\n",
      "To enable the following instructions: AVX2 FMA, in other operations, rebuild TensorFlow with the appropriate compiler flags.\n"
     ]
    },
    {
     "name": "stdout",
     "output_type": "stream",
     "text": [
      "(14272, 80)\n",
      "(14272, 86)\n"
     ]
    }
   ],
   "source": [
    "import tensorflow as tf\n",
    "from tensorflow.keras.preprocessing.text import Tokenizer\n",
    "from tensorflow.keras.preprocessing.sequence import pad_sequences\n",
    "\n",
    "input_tokenizer = Tokenizer()\n",
    "output_tokenizer = Tokenizer()\n",
    "input_tokenizer.fit_on_texts(train_docs)\n",
    "output_tokenizer.fit_on_texts(train_summaries)\n",
    "\n",
    "input_vocab_size = len(input_tokenizer.word_index) + 1\n",
    "output_vocab_size = len(output_tokenizer.word_index) + 1\n",
    "\n",
    "# Mengubah teks menjadi sequence\n",
    "X = input_tokenizer.texts_to_sequences(train_docs)\n",
    "y = output_tokenizer.texts_to_sequences(train_summaries)\n",
    "\n",
    "X_val = input_tokenizer.texts_to_sequences(val_docs)\n",
    "y_val = output_tokenizer.texts_to_sequences(val_summaries)\n",
    "\n",
    "X_test = input_tokenizer.texts_to_sequences(test_docs)\n",
    "y_test = output_tokenizer.texts_to_sequences(test_summaries)\n",
    "\n",
    "# max_length = max(max(len(seq) for seq in X), max(len(seq) for seq in y))\n",
    "max_input_length = max(len(seq) for seq in X)\n",
    "max_output_length = max(len(seq) for seq in y)\n",
    "\n",
    "max_length = max(max_input_length, max_output_length)\n",
    "\n",
    "X_train = pad_sequences(X, maxlen=max_input_length, padding='post')\n",
    "y_train = pad_sequences(y, maxlen=max_output_length, padding='post')\n",
    "\n",
    "X_val = pad_sequences(X_val, maxlen=max_input_length, padding='post')\n",
    "y_val = pad_sequences(y_val, maxlen=max_output_length, padding='post')\n",
    "\n",
    "X_test = pad_sequences(X_test, maxlen=max_input_length, padding='post')\n",
    "y_test = pad_sequences(y_test, maxlen=max_output_length, padding='post')\n",
    "\n",
    "print(X_train.shape)  # (14272, 86)\n",
    "print(y_train.shape)  # (14272, 86)\n"
   ]
  },
  {
   "cell_type": "code",
   "execution_count": 8,
   "metadata": {},
   "outputs": [
    {
     "data": {
      "text/html": [
       "<pre style=\"white-space:pre;overflow-x:auto;line-height:normal;font-family:Menlo,'DejaVu Sans Mono',consolas,'Courier New',monospace\"><span style=\"font-weight: bold\">Model: \"functional_1\"</span>\n",
       "</pre>\n"
      ],
      "text/plain": [
       "\u001b[1mModel: \"functional_1\"\u001b[0m\n"
      ]
     },
     "metadata": {},
     "output_type": "display_data"
    },
    {
     "data": {
      "text/html": [
       "<pre style=\"white-space:pre;overflow-x:auto;line-height:normal;font-family:Menlo,'DejaVu Sans Mono',consolas,'Courier New',monospace\">┏━━━━━━━━━━━━━━━━━━━━━┳━━━━━━━━━━━━━━━━━━━┳━━━━━━━━━━━━┳━━━━━━━━━━━━━━━━━━━┓\n",
       "┃<span style=\"font-weight: bold\"> Layer (type)        </span>┃<span style=\"font-weight: bold\"> Output Shape      </span>┃<span style=\"font-weight: bold\">    Param # </span>┃<span style=\"font-weight: bold\"> Connected to      </span>┃\n",
       "┡━━━━━━━━━━━━━━━━━━━━━╇━━━━━━━━━━━━━━━━━━━╇━━━━━━━━━━━━╇━━━━━━━━━━━━━━━━━━━┩\n",
       "│ input_layer_2       │ (<span style=\"color: #00d7ff; text-decoration-color: #00d7ff\">None</span>, <span style=\"color: #00af00; text-decoration-color: #00af00\">80</span>)        │          <span style=\"color: #00af00; text-decoration-color: #00af00\">0</span> │ -                 │\n",
       "│ (<span style=\"color: #0087ff; text-decoration-color: #0087ff\">InputLayer</span>)        │                   │            │                   │\n",
       "├─────────────────────┼───────────────────┼────────────┼───────────────────┤\n",
       "│ embedding_2         │ (<span style=\"color: #00d7ff; text-decoration-color: #00d7ff\">None</span>, <span style=\"color: #00af00; text-decoration-color: #00af00\">80</span>, <span style=\"color: #00af00; text-decoration-color: #00af00\">512</span>)   │ <span style=\"color: #00af00; text-decoration-color: #00af00\">128,893,9…</span> │ input_layer_2[<span style=\"color: #00af00; text-decoration-color: #00af00\">0</span>]… │\n",
       "│ (<span style=\"color: #0087ff; text-decoration-color: #0087ff\">Embedding</span>)         │                   │            │                   │\n",
       "├─────────────────────┼───────────────────┼────────────┼───────────────────┤\n",
       "│ input_layer_3       │ (<span style=\"color: #00d7ff; text-decoration-color: #00d7ff\">None</span>, <span style=\"color: #00af00; text-decoration-color: #00af00\">85</span>)        │          <span style=\"color: #00af00; text-decoration-color: #00af00\">0</span> │ -                 │\n",
       "│ (<span style=\"color: #0087ff; text-decoration-color: #0087ff\">InputLayer</span>)        │                   │            │                   │\n",
       "├─────────────────────┼───────────────────┼────────────┼───────────────────┤\n",
       "│ positional_encodin… │ (<span style=\"color: #00d7ff; text-decoration-color: #00d7ff\">None</span>, <span style=\"color: #00af00; text-decoration-color: #00af00\">80</span>, <span style=\"color: #00af00; text-decoration-color: #00af00\">512</span>)   │          <span style=\"color: #00af00; text-decoration-color: #00af00\">0</span> │ embedding_2[<span style=\"color: #00af00; text-decoration-color: #00af00\">0</span>][<span style=\"color: #00af00; text-decoration-color: #00af00\">0</span>] │\n",
       "│ (<span style=\"color: #0087ff; text-decoration-color: #0087ff\">PositionalEncodin…</span> │                   │            │                   │\n",
       "├─────────────────────┼───────────────────┼────────────┼───────────────────┤\n",
       "│ embedding_3         │ (<span style=\"color: #00d7ff; text-decoration-color: #00d7ff\">None</span>, <span style=\"color: #00af00; text-decoration-color: #00af00\">85</span>, <span style=\"color: #00af00; text-decoration-color: #00af00\">512</span>)   │ <span style=\"color: #00af00; text-decoration-color: #00af00\">22,588,928</span> │ input_layer_3[<span style=\"color: #00af00; text-decoration-color: #00af00\">0</span>]… │\n",
       "│ (<span style=\"color: #0087ff; text-decoration-color: #0087ff\">Embedding</span>)         │                   │            │                   │\n",
       "├─────────────────────┼───────────────────┼────────────┼───────────────────┤\n",
       "│ multi_head_attenti… │ (<span style=\"color: #00d7ff; text-decoration-color: #00d7ff\">None</span>, <span style=\"color: #00af00; text-decoration-color: #00af00\">80</span>, <span style=\"color: #00af00; text-decoration-color: #00af00\">512</span>)   │  <span style=\"color: #00af00; text-decoration-color: #00af00\">8,401,408</span> │ positional_encod… │\n",
       "│ (<span style=\"color: #0087ff; text-decoration-color: #0087ff\">MultiHeadAttentio…</span> │                   │            │ positional_encod… │\n",
       "├─────────────────────┼───────────────────┼────────────┼───────────────────┤\n",
       "│ positional_encodin… │ (<span style=\"color: #00d7ff; text-decoration-color: #00d7ff\">None</span>, <span style=\"color: #00af00; text-decoration-color: #00af00\">85</span>, <span style=\"color: #00af00; text-decoration-color: #00af00\">512</span>)   │          <span style=\"color: #00af00; text-decoration-color: #00af00\">0</span> │ embedding_3[<span style=\"color: #00af00; text-decoration-color: #00af00\">0</span>][<span style=\"color: #00af00; text-decoration-color: #00af00\">0</span>] │\n",
       "│ (<span style=\"color: #0087ff; text-decoration-color: #0087ff\">PositionalEncodin…</span> │                   │            │                   │\n",
       "├─────────────────────┼───────────────────┼────────────┼───────────────────┤\n",
       "│ layer_normalizatio… │ (<span style=\"color: #00d7ff; text-decoration-color: #00d7ff\">None</span>, <span style=\"color: #00af00; text-decoration-color: #00af00\">80</span>, <span style=\"color: #00af00; text-decoration-color: #00af00\">512</span>)   │      <span style=\"color: #00af00; text-decoration-color: #00af00\">1,024</span> │ multi_head_atten… │\n",
       "│ (<span style=\"color: #0087ff; text-decoration-color: #0087ff\">LayerNormalizatio…</span> │                   │            │                   │\n",
       "├─────────────────────┼───────────────────┼────────────┼───────────────────┤\n",
       "│ multi_head_attenti… │ (<span style=\"color: #00d7ff; text-decoration-color: #00d7ff\">None</span>, <span style=\"color: #00af00; text-decoration-color: #00af00\">85</span>, <span style=\"color: #00af00; text-decoration-color: #00af00\">512</span>)   │  <span style=\"color: #00af00; text-decoration-color: #00af00\">8,401,408</span> │ positional_encod… │\n",
       "│ (<span style=\"color: #0087ff; text-decoration-color: #0087ff\">MultiHeadAttentio…</span> │                   │            │ layer_normalizat… │\n",
       "├─────────────────────┼───────────────────┼────────────┼───────────────────┤\n",
       "│ layer_normalizatio… │ (<span style=\"color: #00d7ff; text-decoration-color: #00d7ff\">None</span>, <span style=\"color: #00af00; text-decoration-color: #00af00\">85</span>, <span style=\"color: #00af00; text-decoration-color: #00af00\">512</span>)   │      <span style=\"color: #00af00; text-decoration-color: #00af00\">1,024</span> │ multi_head_atten… │\n",
       "│ (<span style=\"color: #0087ff; text-decoration-color: #0087ff\">LayerNormalizatio…</span> │                   │            │                   │\n",
       "├─────────────────────┼───────────────────┼────────────┼───────────────────┤\n",
       "│ dense_1 (<span style=\"color: #0087ff; text-decoration-color: #0087ff\">Dense</span>)     │ (<span style=\"color: #00d7ff; text-decoration-color: #00d7ff\">None</span>, <span style=\"color: #00af00; text-decoration-color: #00af00\">85</span>, <span style=\"color: #00af00; text-decoration-color: #00af00\">44119</span>) │ <span style=\"color: #00af00; text-decoration-color: #00af00\">22,633,047</span> │ layer_normalizat… │\n",
       "└─────────────────────┴───────────────────┴────────────┴───────────────────┘\n",
       "</pre>\n"
      ],
      "text/plain": [
       "┏━━━━━━━━━━━━━━━━━━━━━┳━━━━━━━━━━━━━━━━━━━┳━━━━━━━━━━━━┳━━━━━━━━━━━━━━━━━━━┓\n",
       "┃\u001b[1m \u001b[0m\u001b[1mLayer (type)       \u001b[0m\u001b[1m \u001b[0m┃\u001b[1m \u001b[0m\u001b[1mOutput Shape     \u001b[0m\u001b[1m \u001b[0m┃\u001b[1m \u001b[0m\u001b[1m   Param #\u001b[0m\u001b[1m \u001b[0m┃\u001b[1m \u001b[0m\u001b[1mConnected to     \u001b[0m\u001b[1m \u001b[0m┃\n",
       "┡━━━━━━━━━━━━━━━━━━━━━╇━━━━━━━━━━━━━━━━━━━╇━━━━━━━━━━━━╇━━━━━━━━━━━━━━━━━━━┩\n",
       "│ input_layer_2       │ (\u001b[38;5;45mNone\u001b[0m, \u001b[38;5;34m80\u001b[0m)        │          \u001b[38;5;34m0\u001b[0m │ -                 │\n",
       "│ (\u001b[38;5;33mInputLayer\u001b[0m)        │                   │            │                   │\n",
       "├─────────────────────┼───────────────────┼────────────┼───────────────────┤\n",
       "│ embedding_2         │ (\u001b[38;5;45mNone\u001b[0m, \u001b[38;5;34m80\u001b[0m, \u001b[38;5;34m512\u001b[0m)   │ \u001b[38;5;34m128,893,9…\u001b[0m │ input_layer_2[\u001b[38;5;34m0\u001b[0m]… │\n",
       "│ (\u001b[38;5;33mEmbedding\u001b[0m)         │                   │            │                   │\n",
       "├─────────────────────┼───────────────────┼────────────┼───────────────────┤\n",
       "│ input_layer_3       │ (\u001b[38;5;45mNone\u001b[0m, \u001b[38;5;34m85\u001b[0m)        │          \u001b[38;5;34m0\u001b[0m │ -                 │\n",
       "│ (\u001b[38;5;33mInputLayer\u001b[0m)        │                   │            │                   │\n",
       "├─────────────────────┼───────────────────┼────────────┼───────────────────┤\n",
       "│ positional_encodin… │ (\u001b[38;5;45mNone\u001b[0m, \u001b[38;5;34m80\u001b[0m, \u001b[38;5;34m512\u001b[0m)   │          \u001b[38;5;34m0\u001b[0m │ embedding_2[\u001b[38;5;34m0\u001b[0m][\u001b[38;5;34m0\u001b[0m] │\n",
       "│ (\u001b[38;5;33mPositionalEncodin…\u001b[0m │                   │            │                   │\n",
       "├─────────────────────┼───────────────────┼────────────┼───────────────────┤\n",
       "│ embedding_3         │ (\u001b[38;5;45mNone\u001b[0m, \u001b[38;5;34m85\u001b[0m, \u001b[38;5;34m512\u001b[0m)   │ \u001b[38;5;34m22,588,928\u001b[0m │ input_layer_3[\u001b[38;5;34m0\u001b[0m]… │\n",
       "│ (\u001b[38;5;33mEmbedding\u001b[0m)         │                   │            │                   │\n",
       "├─────────────────────┼───────────────────┼────────────┼───────────────────┤\n",
       "│ multi_head_attenti… │ (\u001b[38;5;45mNone\u001b[0m, \u001b[38;5;34m80\u001b[0m, \u001b[38;5;34m512\u001b[0m)   │  \u001b[38;5;34m8,401,408\u001b[0m │ positional_encod… │\n",
       "│ (\u001b[38;5;33mMultiHeadAttentio…\u001b[0m │                   │            │ positional_encod… │\n",
       "├─────────────────────┼───────────────────┼────────────┼───────────────────┤\n",
       "│ positional_encodin… │ (\u001b[38;5;45mNone\u001b[0m, \u001b[38;5;34m85\u001b[0m, \u001b[38;5;34m512\u001b[0m)   │          \u001b[38;5;34m0\u001b[0m │ embedding_3[\u001b[38;5;34m0\u001b[0m][\u001b[38;5;34m0\u001b[0m] │\n",
       "│ (\u001b[38;5;33mPositionalEncodin…\u001b[0m │                   │            │                   │\n",
       "├─────────────────────┼───────────────────┼────────────┼───────────────────┤\n",
       "│ layer_normalizatio… │ (\u001b[38;5;45mNone\u001b[0m, \u001b[38;5;34m80\u001b[0m, \u001b[38;5;34m512\u001b[0m)   │      \u001b[38;5;34m1,024\u001b[0m │ multi_head_atten… │\n",
       "│ (\u001b[38;5;33mLayerNormalizatio…\u001b[0m │                   │            │                   │\n",
       "├─────────────────────┼───────────────────┼────────────┼───────────────────┤\n",
       "│ multi_head_attenti… │ (\u001b[38;5;45mNone\u001b[0m, \u001b[38;5;34m85\u001b[0m, \u001b[38;5;34m512\u001b[0m)   │  \u001b[38;5;34m8,401,408\u001b[0m │ positional_encod… │\n",
       "│ (\u001b[38;5;33mMultiHeadAttentio…\u001b[0m │                   │            │ layer_normalizat… │\n",
       "├─────────────────────┼───────────────────┼────────────┼───────────────────┤\n",
       "│ layer_normalizatio… │ (\u001b[38;5;45mNone\u001b[0m, \u001b[38;5;34m85\u001b[0m, \u001b[38;5;34m512\u001b[0m)   │      \u001b[38;5;34m1,024\u001b[0m │ multi_head_atten… │\n",
       "│ (\u001b[38;5;33mLayerNormalizatio…\u001b[0m │                   │            │                   │\n",
       "├─────────────────────┼───────────────────┼────────────┼───────────────────┤\n",
       "│ dense_1 (\u001b[38;5;33mDense\u001b[0m)     │ (\u001b[38;5;45mNone\u001b[0m, \u001b[38;5;34m85\u001b[0m, \u001b[38;5;34m44119\u001b[0m) │ \u001b[38;5;34m22,633,047\u001b[0m │ layer_normalizat… │\n",
       "└─────────────────────┴───────────────────┴────────────┴───────────────────┘\n"
      ]
     },
     "metadata": {},
     "output_type": "display_data"
    },
    {
     "data": {
      "text/html": [
       "<pre style=\"white-space:pre;overflow-x:auto;line-height:normal;font-family:Menlo,'DejaVu Sans Mono',consolas,'Courier New',monospace\"><span style=\"font-weight: bold\"> Total params: </span><span style=\"color: #00af00; text-decoration-color: #00af00\">190,920,791</span> (728.31 MB)\n",
       "</pre>\n"
      ],
      "text/plain": [
       "\u001b[1m Total params: \u001b[0m\u001b[38;5;34m190,920,791\u001b[0m (728.31 MB)\n"
      ]
     },
     "metadata": {},
     "output_type": "display_data"
    },
    {
     "data": {
      "text/html": [
       "<pre style=\"white-space:pre;overflow-x:auto;line-height:normal;font-family:Menlo,'DejaVu Sans Mono',consolas,'Courier New',monospace\"><span style=\"font-weight: bold\"> Trainable params: </span><span style=\"color: #00af00; text-decoration-color: #00af00\">190,920,791</span> (728.31 MB)\n",
       "</pre>\n"
      ],
      "text/plain": [
       "\u001b[1m Trainable params: \u001b[0m\u001b[38;5;34m190,920,791\u001b[0m (728.31 MB)\n"
      ]
     },
     "metadata": {},
     "output_type": "display_data"
    },
    {
     "data": {
      "text/html": [
       "<pre style=\"white-space:pre;overflow-x:auto;line-height:normal;font-family:Menlo,'DejaVu Sans Mono',consolas,'Courier New',monospace\"><span style=\"font-weight: bold\"> Non-trainable params: </span><span style=\"color: #00af00; text-decoration-color: #00af00\">0</span> (0.00 B)\n",
       "</pre>\n"
      ],
      "text/plain": [
       "\u001b[1m Non-trainable params: \u001b[0m\u001b[38;5;34m0\u001b[0m (0.00 B)\n"
      ]
     },
     "metadata": {},
     "output_type": "display_data"
    }
   ],
   "source": [
    "from tensorflow.keras import layers, Model\n",
    "import numpy as np\n",
    "\n",
    "class PositionalEncoding(layers.Layer):\n",
    "    def __init__(self, sequence_length, d_model):\n",
    "        super(PositionalEncoding, self).__init__()\n",
    "        self.sequence_length = sequence_length\n",
    "        self.d_model = d_model\n",
    "    \n",
    "    def build(self, input_shape):\n",
    "        # Create a matrix of shape (sequence_length, d_model)\n",
    "        position = np.arange(self.sequence_length)[:, np.newaxis]\n",
    "        div_term = np.exp(np.arange(0, self.d_model, 2) * -(np.log(10000.0) / self.d_model))\n",
    "        pe = np.zeros((self.sequence_length, self.d_model))\n",
    "        pe[:, 0::2] = np.sin(position * div_term)\n",
    "        pe[:, 1::2] = np.cos(position * div_term)\n",
    "        pe = pe[np.newaxis, ...]\n",
    "\n",
    "        self.pe = tf.constant(pe, dtype=tf.float32)\n",
    "    \n",
    "    def call(self, inputs):\n",
    "        # Add positional encoding to the input embeddings\n",
    "        return inputs + self.pe[:, :tf.shape(inputs)[1], :]\n",
    "\n",
    "\n",
    "def transformer_model(input_vocab_size, output_vocab_size, input_max_len, output_max_len, d_model=512, num_heads=8, num_layers=6):\n",
    "    inputs = layers.Input(shape=(input_max_len,))\n",
    "    targets = layers.Input(shape=(output_max_len,))\n",
    "\n",
    "    # Encoder\n",
    "    enc_emb = layers.Embedding(input_vocab_size, d_model)(inputs)\n",
    "    enc_pos = PositionalEncoding(input_max_len, d_model)(enc_emb)\n",
    "    enc_output = layers.MultiHeadAttention(num_heads=num_heads, key_dim=d_model)(enc_pos, enc_pos)\n",
    "    enc_output = layers.LayerNormalization()(enc_output)\n",
    "\n",
    "    # Decoder\n",
    "    dec_emb = layers.Embedding(output_vocab_size, d_model)(targets)\n",
    "    dec_pos = PositionalEncoding(output_max_len, d_model)(dec_emb)\n",
    "    dec_output = layers.MultiHeadAttention(num_heads=num_heads, key_dim=d_model)(dec_pos, enc_output)\n",
    "    dec_output = layers.LayerNormalization()(dec_output)\n",
    "    \n",
    "    # Final output layer\n",
    "    output = layers.Dense(output_vocab_size, activation='softmax')(dec_output)\n",
    "\n",
    "    model = tf.keras.Model(inputs=[inputs, targets], outputs=output)\n",
    "    model.compile(optimizer='adam', loss='sparse_categorical_crossentropy', metrics=['accuracy'])\n",
    "    return model\n",
    "\n",
    "# model = transformer_model(input_vocab_size, output_vocab_size, max_length, max_length)\n",
    "model = transformer_model(input_vocab_size, output_vocab_size, max_input_length, max_output_length-1)\n",
    "model.summary()\n"
   ]
  },
  {
   "cell_type": "code",
   "execution_count": 11,
   "metadata": {},
   "outputs": [
    {
     "name": "stdout",
     "output_type": "stream",
     "text": [
      "(14272, 86)\n",
      "(14272, 85)\n",
      "(14272, 85)\n",
      "(750, 86)\n",
      "(750, 85)\n",
      "(750, 85)\n",
      "Epoch 1/10\n"
     ]
    },
    {
     "name": "stderr",
     "output_type": "stream",
     "text": [
      "E0000 00:00:1733126017.728065   19989 cuda_dnn.cc:522] Loaded runtime CuDNN library: 9.1.0 but source was compiled with: 9.3.0.  CuDNN library needs to have matching major version and equal or higher minor version. If using a binary install, upgrade your CuDNN library.  If building from sources, make sure the library loaded at runtime is compatible with the version specified during compile configuration.\n",
      "E0000 00:00:1733126017.756538   19989 cuda_dnn.cc:522] Loaded runtime CuDNN library: 9.1.0 but source was compiled with: 9.3.0.  CuDNN library needs to have matching major version and equal or higher minor version. If using a binary install, upgrade your CuDNN library.  If building from sources, make sure the library loaded at runtime is compatible with the version specified during compile configuration.\n",
      "2024-12-02 14:53:37.763109: W tensorflow/core/framework/op_kernel.cc:1841] OP_REQUIRES failed at xla_ops.cc:577 : FAILED_PRECONDITION: DNN library initialization failed. Look at the errors above for more details.\n"
     ]
    },
    {
     "ename": "FailedPreconditionError",
     "evalue": "Graph execution error:\n\nDetected at node StatefulPartitionedCall defined at (most recent call last):\n  File \"/home/rakhargo/miniconda3/envs/cudaTF/lib/python3.9/runpy.py\", line 197, in _run_module_as_main\n\n  File \"/home/rakhargo/miniconda3/envs/cudaTF/lib/python3.9/runpy.py\", line 87, in _run_code\n\n  File \"/home/rakhargo/miniconda3/envs/cudaTF/lib/python3.9/site-packages/ipykernel_launcher.py\", line 18, in <module>\n\n  File \"/home/rakhargo/miniconda3/envs/cudaTF/lib/python3.9/site-packages/traitlets/config/application.py\", line 1075, in launch_instance\n\n  File \"/home/rakhargo/miniconda3/envs/cudaTF/lib/python3.9/site-packages/ipykernel/kernelapp.py\", line 739, in start\n\n  File \"/home/rakhargo/miniconda3/envs/cudaTF/lib/python3.9/site-packages/tornado/platform/asyncio.py\", line 205, in start\n\n  File \"/home/rakhargo/miniconda3/envs/cudaTF/lib/python3.9/asyncio/base_events.py\", line 601, in run_forever\n\n  File \"/home/rakhargo/miniconda3/envs/cudaTF/lib/python3.9/asyncio/base_events.py\", line 1905, in _run_once\n\n  File \"/home/rakhargo/miniconda3/envs/cudaTF/lib/python3.9/asyncio/events.py\", line 80, in _run\n\n  File \"/home/rakhargo/miniconda3/envs/cudaTF/lib/python3.9/site-packages/ipykernel/kernelbase.py\", line 545, in dispatch_queue\n\n  File \"/home/rakhargo/miniconda3/envs/cudaTF/lib/python3.9/site-packages/ipykernel/kernelbase.py\", line 534, in process_one\n\n  File \"/home/rakhargo/miniconda3/envs/cudaTF/lib/python3.9/site-packages/ipykernel/kernelbase.py\", line 437, in dispatch_shell\n\n  File \"/home/rakhargo/miniconda3/envs/cudaTF/lib/python3.9/site-packages/ipykernel/ipkernel.py\", line 362, in execute_request\n\n  File \"/home/rakhargo/miniconda3/envs/cudaTF/lib/python3.9/site-packages/ipykernel/kernelbase.py\", line 778, in execute_request\n\n  File \"/home/rakhargo/miniconda3/envs/cudaTF/lib/python3.9/site-packages/ipykernel/ipkernel.py\", line 449, in do_execute\n\n  File \"/home/rakhargo/miniconda3/envs/cudaTF/lib/python3.9/site-packages/ipykernel/zmqshell.py\", line 549, in run_cell\n\n  File \"/home/rakhargo/miniconda3/envs/cudaTF/lib/python3.9/site-packages/IPython/core/interactiveshell.py\", line 3048, in run_cell\n\n  File \"/home/rakhargo/miniconda3/envs/cudaTF/lib/python3.9/site-packages/IPython/core/interactiveshell.py\", line 3103, in _run_cell\n\n  File \"/home/rakhargo/miniconda3/envs/cudaTF/lib/python3.9/site-packages/IPython/core/async_helpers.py\", line 129, in _pseudo_sync_runner\n\n  File \"/home/rakhargo/miniconda3/envs/cudaTF/lib/python3.9/site-packages/IPython/core/interactiveshell.py\", line 3308, in run_cell_async\n\n  File \"/home/rakhargo/miniconda3/envs/cudaTF/lib/python3.9/site-packages/IPython/core/interactiveshell.py\", line 3490, in run_ast_nodes\n\n  File \"/home/rakhargo/miniconda3/envs/cudaTF/lib/python3.9/site-packages/IPython/core/interactiveshell.py\", line 3550, in run_code\n\n  File \"/tmp/ipykernel_19871/568849640.py\", line 20, in <module>\n\n  File \"/home/rakhargo/miniconda3/envs/cudaTF/lib/python3.9/site-packages/keras/src/utils/traceback_utils.py\", line 117, in error_handler\n\n  File \"/home/rakhargo/miniconda3/envs/cudaTF/lib/python3.9/site-packages/keras/src/backend/tensorflow/trainer.py\", line 320, in fit\n\n  File \"/home/rakhargo/miniconda3/envs/cudaTF/lib/python3.9/site-packages/keras/src/backend/tensorflow/trainer.py\", line 121, in one_step_on_iterator\n\nDNN library initialization failed. Look at the errors above for more details.\n\t [[{{node StatefulPartitionedCall}}]] [Op:__inference_one_step_on_iterator_5410]",
     "output_type": "error",
     "traceback": [
      "\u001b[0;31m---------------------------------------------------------------------------\u001b[0m",
      "\u001b[0;31mFailedPreconditionError\u001b[0m                   Traceback (most recent call last)",
      "Cell \u001b[0;32mIn[11], line 23\u001b[0m\n\u001b[1;32m     19\u001b[0m \u001b[38;5;28;01mimport\u001b[39;00m \u001b[38;5;21;01mos\u001b[39;00m\n\u001b[1;32m     20\u001b[0m os\u001b[38;5;241m.\u001b[39menviron[\u001b[38;5;124m\"\u001b[39m\u001b[38;5;124mCUDA_VISIBLE_DEVICES\u001b[39m\u001b[38;5;124m\"\u001b[39m] \u001b[38;5;241m=\u001b[39m \u001b[38;5;124m\"\u001b[39m\u001b[38;5;124m1\u001b[39m\u001b[38;5;124m\"\u001b[39m  \u001b[38;5;66;03m# Nonaktifkan GPU\u001b[39;00m\n\u001b[0;32m---> 23\u001b[0m history \u001b[38;5;241m=\u001b[39m \u001b[43mmodel\u001b[49m\u001b[38;5;241;43m.\u001b[39;49m\u001b[43mfit\u001b[49m\u001b[43m(\u001b[49m\n\u001b[1;32m     24\u001b[0m \u001b[43m    \u001b[49m\u001b[43m[\u001b[49m\u001b[43mX_train\u001b[49m\u001b[43m,\u001b[49m\u001b[43m \u001b[49m\u001b[43my_train_decoder_input\u001b[49m\u001b[43m]\u001b[49m\u001b[43m,\u001b[49m\u001b[43m \u001b[49m\u001b[43my_train_decoder_output\u001b[49m\u001b[43m,\u001b[49m\n\u001b[1;32m     25\u001b[0m \u001b[43m    \u001b[49m\u001b[43mepochs\u001b[49m\u001b[38;5;241;43m=\u001b[39;49m\u001b[38;5;241;43m10\u001b[39;49m\u001b[43m,\u001b[49m\u001b[43m \u001b[49m\u001b[43mbatch_size\u001b[49m\u001b[38;5;241;43m=\u001b[39;49m\u001b[38;5;241;43m64\u001b[39;49m\u001b[43m,\u001b[49m\u001b[43m \u001b[49m\u001b[43mvalidation_data\u001b[49m\u001b[38;5;241;43m=\u001b[39;49m\u001b[43m(\u001b[49m\u001b[43m[\u001b[49m\u001b[43mX_val\u001b[49m\u001b[43m,\u001b[49m\u001b[43m \u001b[49m\u001b[43my_val_decoder_input\u001b[49m\u001b[43m]\u001b[49m\u001b[43m,\u001b[49m\u001b[43m \u001b[49m\u001b[43my_val_decoder_output\u001b[49m\u001b[43m)\u001b[49m\n\u001b[1;32m     26\u001b[0m \u001b[43m)\u001b[49m\n",
      "File \u001b[0;32m~/miniconda3/envs/cudaTF/lib/python3.9/site-packages/keras/src/utils/traceback_utils.py:122\u001b[0m, in \u001b[0;36mfilter_traceback.<locals>.error_handler\u001b[0;34m(*args, **kwargs)\u001b[0m\n\u001b[1;32m    119\u001b[0m     filtered_tb \u001b[38;5;241m=\u001b[39m _process_traceback_frames(e\u001b[38;5;241m.\u001b[39m__traceback__)\n\u001b[1;32m    120\u001b[0m     \u001b[38;5;66;03m# To get the full stack trace, call:\u001b[39;00m\n\u001b[1;32m    121\u001b[0m     \u001b[38;5;66;03m# `keras.config.disable_traceback_filtering()`\u001b[39;00m\n\u001b[0;32m--> 122\u001b[0m     \u001b[38;5;28;01mraise\u001b[39;00m e\u001b[38;5;241m.\u001b[39mwith_traceback(filtered_tb) \u001b[38;5;28;01mfrom\u001b[39;00m \u001b[38;5;28;01mNone\u001b[39;00m\n\u001b[1;32m    123\u001b[0m \u001b[38;5;28;01mfinally\u001b[39;00m:\n\u001b[1;32m    124\u001b[0m     \u001b[38;5;28;01mdel\u001b[39;00m filtered_tb\n",
      "File \u001b[0;32m~/miniconda3/envs/cudaTF/lib/python3.9/site-packages/tensorflow/python/eager/execute.py:53\u001b[0m, in \u001b[0;36mquick_execute\u001b[0;34m(op_name, num_outputs, inputs, attrs, ctx, name)\u001b[0m\n\u001b[1;32m     51\u001b[0m \u001b[38;5;28;01mtry\u001b[39;00m:\n\u001b[1;32m     52\u001b[0m   ctx\u001b[38;5;241m.\u001b[39mensure_initialized()\n\u001b[0;32m---> 53\u001b[0m   tensors \u001b[38;5;241m=\u001b[39m pywrap_tfe\u001b[38;5;241m.\u001b[39mTFE_Py_Execute(ctx\u001b[38;5;241m.\u001b[39m_handle, device_name, op_name,\n\u001b[1;32m     54\u001b[0m                                       inputs, attrs, num_outputs)\n\u001b[1;32m     55\u001b[0m \u001b[38;5;28;01mexcept\u001b[39;00m core\u001b[38;5;241m.\u001b[39m_NotOkStatusException \u001b[38;5;28;01mas\u001b[39;00m e:\n\u001b[1;32m     56\u001b[0m   \u001b[38;5;28;01mif\u001b[39;00m name \u001b[38;5;129;01mis\u001b[39;00m \u001b[38;5;129;01mnot\u001b[39;00m \u001b[38;5;28;01mNone\u001b[39;00m:\n",
      "\u001b[0;31mFailedPreconditionError\u001b[0m: Graph execution error:\n\nDetected at node StatefulPartitionedCall defined at (most recent call last):\n  File \"/home/rakhargo/miniconda3/envs/cudaTF/lib/python3.9/runpy.py\", line 197, in _run_module_as_main\n\n  File \"/home/rakhargo/miniconda3/envs/cudaTF/lib/python3.9/runpy.py\", line 87, in _run_code\n\n  File \"/home/rakhargo/miniconda3/envs/cudaTF/lib/python3.9/site-packages/ipykernel_launcher.py\", line 18, in <module>\n\n  File \"/home/rakhargo/miniconda3/envs/cudaTF/lib/python3.9/site-packages/traitlets/config/application.py\", line 1075, in launch_instance\n\n  File \"/home/rakhargo/miniconda3/envs/cudaTF/lib/python3.9/site-packages/ipykernel/kernelapp.py\", line 739, in start\n\n  File \"/home/rakhargo/miniconda3/envs/cudaTF/lib/python3.9/site-packages/tornado/platform/asyncio.py\", line 205, in start\n\n  File \"/home/rakhargo/miniconda3/envs/cudaTF/lib/python3.9/asyncio/base_events.py\", line 601, in run_forever\n\n  File \"/home/rakhargo/miniconda3/envs/cudaTF/lib/python3.9/asyncio/base_events.py\", line 1905, in _run_once\n\n  File \"/home/rakhargo/miniconda3/envs/cudaTF/lib/python3.9/asyncio/events.py\", line 80, in _run\n\n  File \"/home/rakhargo/miniconda3/envs/cudaTF/lib/python3.9/site-packages/ipykernel/kernelbase.py\", line 545, in dispatch_queue\n\n  File \"/home/rakhargo/miniconda3/envs/cudaTF/lib/python3.9/site-packages/ipykernel/kernelbase.py\", line 534, in process_one\n\n  File \"/home/rakhargo/miniconda3/envs/cudaTF/lib/python3.9/site-packages/ipykernel/kernelbase.py\", line 437, in dispatch_shell\n\n  File \"/home/rakhargo/miniconda3/envs/cudaTF/lib/python3.9/site-packages/ipykernel/ipkernel.py\", line 362, in execute_request\n\n  File \"/home/rakhargo/miniconda3/envs/cudaTF/lib/python3.9/site-packages/ipykernel/kernelbase.py\", line 778, in execute_request\n\n  File \"/home/rakhargo/miniconda3/envs/cudaTF/lib/python3.9/site-packages/ipykernel/ipkernel.py\", line 449, in do_execute\n\n  File \"/home/rakhargo/miniconda3/envs/cudaTF/lib/python3.9/site-packages/ipykernel/zmqshell.py\", line 549, in run_cell\n\n  File \"/home/rakhargo/miniconda3/envs/cudaTF/lib/python3.9/site-packages/IPython/core/interactiveshell.py\", line 3048, in run_cell\n\n  File \"/home/rakhargo/miniconda3/envs/cudaTF/lib/python3.9/site-packages/IPython/core/interactiveshell.py\", line 3103, in _run_cell\n\n  File \"/home/rakhargo/miniconda3/envs/cudaTF/lib/python3.9/site-packages/IPython/core/async_helpers.py\", line 129, in _pseudo_sync_runner\n\n  File \"/home/rakhargo/miniconda3/envs/cudaTF/lib/python3.9/site-packages/IPython/core/interactiveshell.py\", line 3308, in run_cell_async\n\n  File \"/home/rakhargo/miniconda3/envs/cudaTF/lib/python3.9/site-packages/IPython/core/interactiveshell.py\", line 3490, in run_ast_nodes\n\n  File \"/home/rakhargo/miniconda3/envs/cudaTF/lib/python3.9/site-packages/IPython/core/interactiveshell.py\", line 3550, in run_code\n\n  File \"/tmp/ipykernel_19871/568849640.py\", line 20, in <module>\n\n  File \"/home/rakhargo/miniconda3/envs/cudaTF/lib/python3.9/site-packages/keras/src/utils/traceback_utils.py\", line 117, in error_handler\n\n  File \"/home/rakhargo/miniconda3/envs/cudaTF/lib/python3.9/site-packages/keras/src/backend/tensorflow/trainer.py\", line 320, in fit\n\n  File \"/home/rakhargo/miniconda3/envs/cudaTF/lib/python3.9/site-packages/keras/src/backend/tensorflow/trainer.py\", line 121, in one_step_on_iterator\n\nDNN library initialization failed. Look at the errors above for more details.\n\t [[{{node StatefulPartitionedCall}}]] [Op:__inference_one_step_on_iterator_5410]"
     ]
    }
   ],
   "source": [
    "# Prepare the training data for the decoder (Shift the target sequences)\n",
    "y_train_decoder_input = y_train[:, :-1]  # Remove the last token\n",
    "y_train_decoder_output = y_train[:, 1:]  # Shift the sequence by 1 for teacher forcing\n",
    "\n",
    "y_val_decoder_input = y_val[:, :-1]\n",
    "y_val_decoder_output = y_val[:, 1:]\n",
    "\n",
    "# y_train_decoder_input = pad_sequences(y_train_decoder_input, maxlen=max_length, padding='post')\n",
    "# y_val_decoder_input = pad_sequences(y_val_decoder_input, maxlen=max_length, padding='post')\n",
    "\n",
    "print(y_train.shape)  # Pastikan ukuran sesuai\n",
    "print(y_train_decoder_input.shape)  # Pastikan ukuran sesuai\n",
    "print(y_train_decoder_output.shape)  # Pastikan ukuran sesuai\n",
    "\n",
    "print(y_val.shape)  # Pastikan ukuran sesuai\n",
    "print(y_val_decoder_input.shape)  # Pastikan ukuran sesuai\n",
    "print(y_val_decoder_output.shape)  # Pastikan ukuran sesuai\n",
    "\n",
    "import os\n",
    "os.environ[\"CUDA_VISIBLE_DEVICES\"] = \"1\"  # Nonaktifkan GPU\n",
    "\n",
    "\n",
    "history = model.fit(\n",
    "    [X_train, y_train_decoder_input], y_train_decoder_output,\n",
    "    epochs=10, batch_size=64, validation_data=([X_val, y_val_decoder_input], y_val_decoder_output)\n",
    ")"
   ]
  }
 ],
 "metadata": {
  "kernelspec": {
   "display_name": "cudaTF",
   "language": "python",
   "name": "python3"
  },
  "language_info": {
   "codemirror_mode": {
    "name": "ipython",
    "version": 3
   },
   "file_extension": ".py",
   "mimetype": "text/x-python",
   "name": "python",
   "nbconvert_exporter": "python",
   "pygments_lexer": "ipython3",
   "version": "3.9.20"
  }
 },
 "nbformat": 4,
 "nbformat_minor": 2
}
